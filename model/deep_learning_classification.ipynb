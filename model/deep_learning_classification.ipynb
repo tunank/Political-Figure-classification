{
 "cells": [
  {
   "cell_type": "code",
   "id": "initial_id",
   "metadata": {
    "collapsed": true,
    "ExecuteTime": {
     "end_time": "2025-03-09T22:42:24.386888Z",
     "start_time": "2025-03-09T22:42:24.381064Z"
    }
   },
   "source": [
    "import os\n",
    "import shutil\n",
    "from facenet_pytorch import MTCNN\n",
    "import cv2\n",
    "import torch\n",
    "import numpy as np\n",
    "from deepface import DeepFace\n",
    "from PIL import Image"
   ],
   "outputs": [],
   "execution_count": 21
  },
  {
   "metadata": {},
   "cell_type": "markdown",
   "source": "# **Image processing**",
   "id": "2d0dcfd2a620e23"
  },
  {
   "cell_type": "markdown",
   "id": "623610c54a3a634a",
   "metadata": {},
   "source": [
    "### **Get path, create, and crop the image with the corresponding person**\n",
    "Get the path to the images, get the names of the directories (which are the political figures), scanned through all of the images, crop them, and then create a directory to store them"
   ]
  },
  {
   "cell_type": "code",
   "id": "8897b3a2487951fd",
   "metadata": {
    "ExecuteTime": {
     "end_time": "2025-03-09T22:42:26.061618Z",
     "start_time": "2025-03-09T22:42:26.059102Z"
    }
   },
   "source": [
    "path_to_data = './dataset/'\n",
    "path_to_images = './dataset/cropped/'"
   ],
   "outputs": [],
   "execution_count": 22
  },
  {
   "cell_type": "code",
   "id": "51bdad07925ffdff",
   "metadata": {
    "ExecuteTime": {
     "end_time": "2025-03-09T22:42:41.858642Z",
     "start_time": "2025-03-09T22:42:41.855750Z"
    }
   },
   "source": [
    "img_dir = [entry.path for entry in os.scandir(path_to_data) if entry.is_dir()]\n",
    "img_dir"
   ],
   "outputs": [
    {
     "data": {
      "text/plain": [
       "['./dataset/Vladimir Putin',\n",
       " './dataset/Elon Musk',\n",
       " './dataset/Donald Trump',\n",
       " './dataset/Joe Biden']"
      ]
     },
     "execution_count": 25,
     "metadata": {},
     "output_type": "execute_result"
    }
   ],
   "execution_count": 25
  },
  {
   "cell_type": "code",
   "id": "6f7fb727afb35fda",
   "metadata": {
    "ExecuteTime": {
     "end_time": "2025-03-09T22:42:43.619780Z",
     "start_time": "2025-03-09T22:42:43.616756Z"
    }
   },
   "source": [
    "os.path.exists(path_to_images)"
   ],
   "outputs": [
    {
     "data": {
      "text/plain": [
       "False"
      ]
     },
     "execution_count": 26,
     "metadata": {},
     "output_type": "execute_result"
    }
   ],
   "execution_count": 26
  },
  {
   "cell_type": "code",
   "id": "f1eaef826caade46",
   "metadata": {
    "ExecuteTime": {
     "end_time": "2025-03-09T22:42:44.894801Z",
     "start_time": "2025-03-09T22:42:44.882532Z"
    }
   },
   "source": [
    "# Load MTCNN face detector\n",
    "mtcnn = MTCNN(keep_all=True)"
   ],
   "outputs": [],
   "execution_count": 27
  },
  {
   "metadata": {
    "ExecuteTime": {
     "end_time": "2025-03-09T22:42:46.129214Z",
     "start_time": "2025-03-09T22:42:46.126388Z"
    }
   },
   "cell_type": "code",
   "source": [
    "## This code is to delete the cropped images folder and create a new one\n",
    "if os.path.exists(path_to_images):\n",
    "    shutil.rmtree(path_to_images)\n",
    "os.makedirs(path_to_images)"
   ],
   "id": "47b44557ba73f12c",
   "outputs": [],
   "execution_count": 28
  },
  {
   "metadata": {
    "ExecuteTime": {
     "end_time": "2025-03-09T22:42:48.262139Z",
     "start_time": "2025-03-09T22:42:48.259393Z"
    }
   },
   "cell_type": "code",
   "source": [
    "# Delete the .DS_Store file\n",
    "if os.path.exists('./dataset/.DS_Store'):\n",
    "    os.remove('./dataset/.DS_Store')"
   ],
   "id": "cbc9449306114ca0",
   "outputs": [],
   "execution_count": 29
  },
  {
   "cell_type": "code",
   "id": "de04a26d0e20b39b",
   "metadata": {
    "ExecuteTime": {
     "end_time": "2025-03-09T22:43:09.902301Z",
     "start_time": "2025-03-09T22:42:49.577473Z"
    }
   },
   "source": [
    "# Counter to track faces across all images\n",
    "face_counters = {}\n",
    "\n",
    "for person in os.listdir(path_to_data):\n",
    "\n",
    "    if person == 'cropped':\n",
    "        continue\n",
    "\n",
    "    # Initialize counter for this person\n",
    "    if person not in face_counters:\n",
    "        face_counters[person] = 0\n",
    "\n",
    "    # ./dataset/person1\n",
    "    person_path = os.path.join(path_to_data, person)\n",
    "    # ./dataset/cropped/person1\n",
    "    cropped_person_path = os.path.join(path_to_images, person)\n",
    "\n",
    "    # Skip non-directories\n",
    "    if not os.path.isdir(person_path):\n",
    "        continue\n",
    "\n",
    "    # create a directory for the person\n",
    "    os.makedirs(cropped_person_path, exist_ok=True)\n",
    "\n",
    "    print(f\"Processing images for {person}\")\n",
    "\n",
    "    for image_name in os.listdir(person_path):\n",
    "\n",
    "        # Get the path to the image\n",
    "        image_path = os.path.join(person_path, image_name)\n",
    "\n",
    "        try:\n",
    "            # Load and verify image\n",
    "            img = Image.open(image_path)\n",
    "            img.verify()  # Check if image is corrupt\n",
    "            img = Image.open(image_path)  # Reload after verification\n",
    "\n",
    "            # Detect faces\n",
    "            boxes, _ = mtcnn.detect(img)\n",
    "\n",
    "            # If no faces are detected, move on to the next image\n",
    "            if boxes is not None:\n",
    "                # loop through all the faces detected\n",
    "                for i, box in enumerate(boxes):\n",
    "                    # Get the coordinates of the box\n",
    "                    x, y, x2, y2 = map(int, box)\n",
    "\n",
    "\n",
    "                    face = img.crop((x, y, x2, y2))\n",
    "\n",
    "                    # Create unique name using the incremented counter\n",
    "                    face_save_name = f\"{person}_{face_counters[person]}.jpg\"\n",
    "                    face_save_path = os.path.join(cropped_person_path, face_save_name)\n",
    "\n",
    "                    # Save the face\n",
    "                    face.save(face_save_path)\n",
    "                    print(f\"Saved {face_save_path}\")\n",
    "\n",
    "                    # Increment the counter for this person\n",
    "                    face_counters[person] += 1\n",
    "            else:\n",
    "                print(f\"No faces detected in {image_path}\")\n",
    "\n",
    "        except Exception as e:\n",
    "            print(f\"Error processing {image_path}: {e}\")\n",
    "\n",
    "    print(f\"Completed {person}. Total faces saved: {face_counters[person]}\")\n",
    "\n",
    "print(\"Face detection done\")"
   ],
   "outputs": [
    {
     "name": "stdout",
     "output_type": "stream",
     "text": [
      "Processing images for Vladimir Putin\n",
      "Saved ./dataset/cropped/Vladimir Putin/Vladimir Putin_0.jpg\n",
      "Saved ./dataset/cropped/Vladimir Putin/Vladimir Putin_1.jpg\n",
      "Saved ./dataset/cropped/Vladimir Putin/Vladimir Putin_2.jpg\n",
      "Saved ./dataset/cropped/Vladimir Putin/Vladimir Putin_3.jpg\n",
      "Saved ./dataset/cropped/Vladimir Putin/Vladimir Putin_4.jpg\n",
      "Saved ./dataset/cropped/Vladimir Putin/Vladimir Putin_5.jpg\n",
      "Saved ./dataset/cropped/Vladimir Putin/Vladimir Putin_6.jpg\n",
      "Saved ./dataset/cropped/Vladimir Putin/Vladimir Putin_7.jpg\n",
      "Saved ./dataset/cropped/Vladimir Putin/Vladimir Putin_8.jpg\n",
      "Error processing ./dataset/Vladimir Putin/.DS_Store: cannot identify image file './dataset/Vladimir Putin/.DS_Store'\n",
      "Saved ./dataset/cropped/Vladimir Putin/Vladimir Putin_9.jpg\n",
      "Saved ./dataset/cropped/Vladimir Putin/Vladimir Putin_10.jpg\n",
      "Saved ./dataset/cropped/Vladimir Putin/Vladimir Putin_11.jpg\n",
      "Saved ./dataset/cropped/Vladimir Putin/Vladimir Putin_12.jpg\n",
      "Saved ./dataset/cropped/Vladimir Putin/Vladimir Putin_13.jpg\n",
      "Saved ./dataset/cropped/Vladimir Putin/Vladimir Putin_14.jpg\n",
      "Saved ./dataset/cropped/Vladimir Putin/Vladimir Putin_15.jpg\n",
      "Saved ./dataset/cropped/Vladimir Putin/Vladimir Putin_16.jpg\n",
      "Saved ./dataset/cropped/Vladimir Putin/Vladimir Putin_17.jpg\n",
      "Saved ./dataset/cropped/Vladimir Putin/Vladimir Putin_18.jpg\n",
      "Saved ./dataset/cropped/Vladimir Putin/Vladimir Putin_19.jpg\n",
      "Saved ./dataset/cropped/Vladimir Putin/Vladimir Putin_20.jpg\n",
      "Saved ./dataset/cropped/Vladimir Putin/Vladimir Putin_21.jpg\n",
      "Saved ./dataset/cropped/Vladimir Putin/Vladimir Putin_22.jpg\n",
      "Saved ./dataset/cropped/Vladimir Putin/Vladimir Putin_23.jpg\n",
      "Saved ./dataset/cropped/Vladimir Putin/Vladimir Putin_24.jpg\n",
      "Saved ./dataset/cropped/Vladimir Putin/Vladimir Putin_25.jpg\n",
      "Saved ./dataset/cropped/Vladimir Putin/Vladimir Putin_26.jpg\n",
      "Saved ./dataset/cropped/Vladimir Putin/Vladimir Putin_27.jpg\n",
      "Saved ./dataset/cropped/Vladimir Putin/Vladimir Putin_28.jpg\n",
      "Saved ./dataset/cropped/Vladimir Putin/Vladimir Putin_29.jpg\n",
      "Saved ./dataset/cropped/Vladimir Putin/Vladimir Putin_30.jpg\n",
      "Saved ./dataset/cropped/Vladimir Putin/Vladimir Putin_31.jpg\n",
      "Saved ./dataset/cropped/Vladimir Putin/Vladimir Putin_32.jpg\n",
      "Saved ./dataset/cropped/Vladimir Putin/Vladimir Putin_33.jpg\n",
      "Saved ./dataset/cropped/Vladimir Putin/Vladimir Putin_34.jpg\n",
      "Saved ./dataset/cropped/Vladimir Putin/Vladimir Putin_35.jpg\n",
      "Saved ./dataset/cropped/Vladimir Putin/Vladimir Putin_36.jpg\n",
      "Saved ./dataset/cropped/Vladimir Putin/Vladimir Putin_37.jpg\n",
      "Saved ./dataset/cropped/Vladimir Putin/Vladimir Putin_38.jpg\n",
      "Saved ./dataset/cropped/Vladimir Putin/Vladimir Putin_39.jpg\n",
      "Saved ./dataset/cropped/Vladimir Putin/Vladimir Putin_40.jpg\n",
      "Saved ./dataset/cropped/Vladimir Putin/Vladimir Putin_41.jpg\n",
      "Saved ./dataset/cropped/Vladimir Putin/Vladimir Putin_42.jpg\n",
      "Saved ./dataset/cropped/Vladimir Putin/Vladimir Putin_43.jpg\n",
      "Saved ./dataset/cropped/Vladimir Putin/Vladimir Putin_44.jpg\n",
      "Saved ./dataset/cropped/Vladimir Putin/Vladimir Putin_45.jpg\n",
      "Saved ./dataset/cropped/Vladimir Putin/Vladimir Putin_46.jpg\n",
      "Saved ./dataset/cropped/Vladimir Putin/Vladimir Putin_47.jpg\n",
      "Saved ./dataset/cropped/Vladimir Putin/Vladimir Putin_48.jpg\n",
      "Saved ./dataset/cropped/Vladimir Putin/Vladimir Putin_49.jpg\n",
      "Saved ./dataset/cropped/Vladimir Putin/Vladimir Putin_50.jpg\n",
      "Saved ./dataset/cropped/Vladimir Putin/Vladimir Putin_51.jpg\n",
      "Saved ./dataset/cropped/Vladimir Putin/Vladimir Putin_52.jpg\n",
      "Saved ./dataset/cropped/Vladimir Putin/Vladimir Putin_53.jpg\n",
      "Saved ./dataset/cropped/Vladimir Putin/Vladimir Putin_54.jpg\n",
      "Saved ./dataset/cropped/Vladimir Putin/Vladimir Putin_55.jpg\n",
      "Saved ./dataset/cropped/Vladimir Putin/Vladimir Putin_56.jpg\n",
      "Saved ./dataset/cropped/Vladimir Putin/Vladimir Putin_57.jpg\n",
      "Saved ./dataset/cropped/Vladimir Putin/Vladimir Putin_58.jpg\n",
      "Saved ./dataset/cropped/Vladimir Putin/Vladimir Putin_59.jpg\n",
      "Saved ./dataset/cropped/Vladimir Putin/Vladimir Putin_60.jpg\n",
      "Saved ./dataset/cropped/Vladimir Putin/Vladimir Putin_61.jpg\n",
      "Saved ./dataset/cropped/Vladimir Putin/Vladimir Putin_62.jpg\n",
      "Saved ./dataset/cropped/Vladimir Putin/Vladimir Putin_63.jpg\n",
      "Saved ./dataset/cropped/Vladimir Putin/Vladimir Putin_64.jpg\n",
      "Saved ./dataset/cropped/Vladimir Putin/Vladimir Putin_65.jpg\n",
      "Saved ./dataset/cropped/Vladimir Putin/Vladimir Putin_66.jpg\n",
      "Saved ./dataset/cropped/Vladimir Putin/Vladimir Putin_67.jpg\n",
      "Saved ./dataset/cropped/Vladimir Putin/Vladimir Putin_68.jpg\n",
      "Saved ./dataset/cropped/Vladimir Putin/Vladimir Putin_69.jpg\n",
      "Saved ./dataset/cropped/Vladimir Putin/Vladimir Putin_70.jpg\n",
      "Saved ./dataset/cropped/Vladimir Putin/Vladimir Putin_71.jpg\n",
      "Saved ./dataset/cropped/Vladimir Putin/Vladimir Putin_72.jpg\n",
      "Saved ./dataset/cropped/Vladimir Putin/Vladimir Putin_73.jpg\n",
      "Saved ./dataset/cropped/Vladimir Putin/Vladimir Putin_74.jpg\n",
      "Saved ./dataset/cropped/Vladimir Putin/Vladimir Putin_75.jpg\n",
      "Saved ./dataset/cropped/Vladimir Putin/Vladimir Putin_76.jpg\n",
      "Saved ./dataset/cropped/Vladimir Putin/Vladimir Putin_77.jpg\n",
      "Saved ./dataset/cropped/Vladimir Putin/Vladimir Putin_78.jpg\n",
      "Saved ./dataset/cropped/Vladimir Putin/Vladimir Putin_79.jpg\n",
      "Saved ./dataset/cropped/Vladimir Putin/Vladimir Putin_80.jpg\n",
      "Saved ./dataset/cropped/Vladimir Putin/Vladimir Putin_81.jpg\n",
      "Saved ./dataset/cropped/Vladimir Putin/Vladimir Putin_82.jpg\n",
      "Saved ./dataset/cropped/Vladimir Putin/Vladimir Putin_83.jpg\n",
      "Saved ./dataset/cropped/Vladimir Putin/Vladimir Putin_84.jpg\n",
      "Saved ./dataset/cropped/Vladimir Putin/Vladimir Putin_85.jpg\n",
      "Saved ./dataset/cropped/Vladimir Putin/Vladimir Putin_86.jpg\n",
      "Completed Vladimir Putin. Total faces saved: 87\n",
      "Processing images for Elon Musk\n",
      "Saved ./dataset/cropped/Elon Musk/Elon Musk_0.jpg\n",
      "Saved ./dataset/cropped/Elon Musk/Elon Musk_1.jpg\n",
      "Saved ./dataset/cropped/Elon Musk/Elon Musk_2.jpg\n",
      "Saved ./dataset/cropped/Elon Musk/Elon Musk_3.jpg\n",
      "Saved ./dataset/cropped/Elon Musk/Elon Musk_4.jpg\n",
      "Saved ./dataset/cropped/Elon Musk/Elon Musk_5.jpg\n",
      "Saved ./dataset/cropped/Elon Musk/Elon Musk_6.jpg\n",
      "Saved ./dataset/cropped/Elon Musk/Elon Musk_7.jpg\n",
      "Saved ./dataset/cropped/Elon Musk/Elon Musk_8.jpg\n",
      "Saved ./dataset/cropped/Elon Musk/Elon Musk_9.jpg\n",
      "Saved ./dataset/cropped/Elon Musk/Elon Musk_10.jpg\n",
      "Saved ./dataset/cropped/Elon Musk/Elon Musk_11.jpg\n",
      "Saved ./dataset/cropped/Elon Musk/Elon Musk_12.jpg\n",
      "Saved ./dataset/cropped/Elon Musk/Elon Musk_13.jpg\n",
      "Saved ./dataset/cropped/Elon Musk/Elon Musk_14.jpg\n",
      "Saved ./dataset/cropped/Elon Musk/Elon Musk_15.jpg\n",
      "Saved ./dataset/cropped/Elon Musk/Elon Musk_16.jpg\n",
      "Saved ./dataset/cropped/Elon Musk/Elon Musk_17.jpg\n",
      "Saved ./dataset/cropped/Elon Musk/Elon Musk_18.jpg\n",
      "Saved ./dataset/cropped/Elon Musk/Elon Musk_19.jpg\n",
      "Saved ./dataset/cropped/Elon Musk/Elon Musk_20.jpg\n",
      "Saved ./dataset/cropped/Elon Musk/Elon Musk_21.jpg\n",
      "Saved ./dataset/cropped/Elon Musk/Elon Musk_22.jpg\n",
      "Saved ./dataset/cropped/Elon Musk/Elon Musk_23.jpg\n",
      "Saved ./dataset/cropped/Elon Musk/Elon Musk_24.jpg\n",
      "Saved ./dataset/cropped/Elon Musk/Elon Musk_25.jpg\n",
      "Saved ./dataset/cropped/Elon Musk/Elon Musk_26.jpg\n",
      "Saved ./dataset/cropped/Elon Musk/Elon Musk_27.jpg\n",
      "Saved ./dataset/cropped/Elon Musk/Elon Musk_28.jpg\n",
      "Saved ./dataset/cropped/Elon Musk/Elon Musk_29.jpg\n",
      "Saved ./dataset/cropped/Elon Musk/Elon Musk_30.jpg\n",
      "Saved ./dataset/cropped/Elon Musk/Elon Musk_31.jpg\n",
      "Saved ./dataset/cropped/Elon Musk/Elon Musk_32.jpg\n",
      "Saved ./dataset/cropped/Elon Musk/Elon Musk_33.jpg\n",
      "Saved ./dataset/cropped/Elon Musk/Elon Musk_34.jpg\n",
      "Saved ./dataset/cropped/Elon Musk/Elon Musk_35.jpg\n",
      "Saved ./dataset/cropped/Elon Musk/Elon Musk_36.jpg\n",
      "Saved ./dataset/cropped/Elon Musk/Elon Musk_37.jpg\n",
      "Saved ./dataset/cropped/Elon Musk/Elon Musk_38.jpg\n",
      "Saved ./dataset/cropped/Elon Musk/Elon Musk_39.jpg\n",
      "Saved ./dataset/cropped/Elon Musk/Elon Musk_40.jpg\n",
      "Saved ./dataset/cropped/Elon Musk/Elon Musk_41.jpg\n",
      "Saved ./dataset/cropped/Elon Musk/Elon Musk_42.jpg\n",
      "Saved ./dataset/cropped/Elon Musk/Elon Musk_43.jpg\n",
      "Saved ./dataset/cropped/Elon Musk/Elon Musk_44.jpg\n",
      "Saved ./dataset/cropped/Elon Musk/Elon Musk_45.jpg\n",
      "Saved ./dataset/cropped/Elon Musk/Elon Musk_46.jpg\n",
      "Saved ./dataset/cropped/Elon Musk/Elon Musk_47.jpg\n",
      "Saved ./dataset/cropped/Elon Musk/Elon Musk_48.jpg\n",
      "Saved ./dataset/cropped/Elon Musk/Elon Musk_49.jpg\n",
      "Saved ./dataset/cropped/Elon Musk/Elon Musk_50.jpg\n",
      "Saved ./dataset/cropped/Elon Musk/Elon Musk_51.jpg\n",
      "Saved ./dataset/cropped/Elon Musk/Elon Musk_52.jpg\n",
      "Saved ./dataset/cropped/Elon Musk/Elon Musk_53.jpg\n",
      "Saved ./dataset/cropped/Elon Musk/Elon Musk_54.jpg\n",
      "Saved ./dataset/cropped/Elon Musk/Elon Musk_55.jpg\n",
      "Saved ./dataset/cropped/Elon Musk/Elon Musk_56.jpg\n",
      "Saved ./dataset/cropped/Elon Musk/Elon Musk_57.jpg\n",
      "Saved ./dataset/cropped/Elon Musk/Elon Musk_58.jpg\n",
      "Saved ./dataset/cropped/Elon Musk/Elon Musk_59.jpg\n",
      "Saved ./dataset/cropped/Elon Musk/Elon Musk_60.jpg\n",
      "Saved ./dataset/cropped/Elon Musk/Elon Musk_61.jpg\n",
      "Saved ./dataset/cropped/Elon Musk/Elon Musk_62.jpg\n",
      "Saved ./dataset/cropped/Elon Musk/Elon Musk_63.jpg\n",
      "Saved ./dataset/cropped/Elon Musk/Elon Musk_64.jpg\n",
      "Saved ./dataset/cropped/Elon Musk/Elon Musk_65.jpg\n",
      "Saved ./dataset/cropped/Elon Musk/Elon Musk_66.jpg\n",
      "Saved ./dataset/cropped/Elon Musk/Elon Musk_67.jpg\n",
      "Saved ./dataset/cropped/Elon Musk/Elon Musk_68.jpg\n",
      "Saved ./dataset/cropped/Elon Musk/Elon Musk_69.jpg\n",
      "Saved ./dataset/cropped/Elon Musk/Elon Musk_70.jpg\n",
      "Saved ./dataset/cropped/Elon Musk/Elon Musk_71.jpg\n",
      "Saved ./dataset/cropped/Elon Musk/Elon Musk_72.jpg\n",
      "Saved ./dataset/cropped/Elon Musk/Elon Musk_73.jpg\n",
      "Saved ./dataset/cropped/Elon Musk/Elon Musk_74.jpg\n",
      "Saved ./dataset/cropped/Elon Musk/Elon Musk_75.jpg\n",
      "Saved ./dataset/cropped/Elon Musk/Elon Musk_76.jpg\n",
      "Saved ./dataset/cropped/Elon Musk/Elon Musk_77.jpg\n",
      "Saved ./dataset/cropped/Elon Musk/Elon Musk_78.jpg\n",
      "Saved ./dataset/cropped/Elon Musk/Elon Musk_79.jpg\n",
      "Saved ./dataset/cropped/Elon Musk/Elon Musk_80.jpg\n",
      "Saved ./dataset/cropped/Elon Musk/Elon Musk_81.jpg\n",
      "Saved ./dataset/cropped/Elon Musk/Elon Musk_82.jpg\n",
      "Saved ./dataset/cropped/Elon Musk/Elon Musk_83.jpg\n",
      "Saved ./dataset/cropped/Elon Musk/Elon Musk_84.jpg\n",
      "Saved ./dataset/cropped/Elon Musk/Elon Musk_85.jpg\n",
      "Saved ./dataset/cropped/Elon Musk/Elon Musk_86.jpg\n",
      "Saved ./dataset/cropped/Elon Musk/Elon Musk_87.jpg\n",
      "Saved ./dataset/cropped/Elon Musk/Elon Musk_88.jpg\n",
      "Saved ./dataset/cropped/Elon Musk/Elon Musk_89.jpg\n",
      "Saved ./dataset/cropped/Elon Musk/Elon Musk_90.jpg\n",
      "Saved ./dataset/cropped/Elon Musk/Elon Musk_91.jpg\n",
      "Saved ./dataset/cropped/Elon Musk/Elon Musk_92.jpg\n",
      "Saved ./dataset/cropped/Elon Musk/Elon Musk_93.jpg\n",
      "Saved ./dataset/cropped/Elon Musk/Elon Musk_94.jpg\n",
      "Saved ./dataset/cropped/Elon Musk/Elon Musk_95.jpg\n",
      "Saved ./dataset/cropped/Elon Musk/Elon Musk_96.jpg\n",
      "Saved ./dataset/cropped/Elon Musk/Elon Musk_97.jpg\n",
      "Saved ./dataset/cropped/Elon Musk/Elon Musk_98.jpg\n",
      "Saved ./dataset/cropped/Elon Musk/Elon Musk_99.jpg\n",
      "Saved ./dataset/cropped/Elon Musk/Elon Musk_100.jpg\n",
      "Saved ./dataset/cropped/Elon Musk/Elon Musk_101.jpg\n",
      "Saved ./dataset/cropped/Elon Musk/Elon Musk_102.jpg\n",
      "Saved ./dataset/cropped/Elon Musk/Elon Musk_103.jpg\n",
      "Saved ./dataset/cropped/Elon Musk/Elon Musk_104.jpg\n",
      "Saved ./dataset/cropped/Elon Musk/Elon Musk_105.jpg\n",
      "Saved ./dataset/cropped/Elon Musk/Elon Musk_106.jpg\n",
      "Saved ./dataset/cropped/Elon Musk/Elon Musk_107.jpg\n",
      "Completed Elon Musk. Total faces saved: 108\n",
      "Processing images for Donald Trump\n",
      "Saved ./dataset/cropped/Donald Trump/Donald Trump_0.jpg\n",
      "Saved ./dataset/cropped/Donald Trump/Donald Trump_1.jpg\n",
      "Saved ./dataset/cropped/Donald Trump/Donald Trump_2.jpg\n",
      "Saved ./dataset/cropped/Donald Trump/Donald Trump_3.jpg\n",
      "Saved ./dataset/cropped/Donald Trump/Donald Trump_4.jpg\n",
      "Saved ./dataset/cropped/Donald Trump/Donald Trump_5.jpg\n",
      "Saved ./dataset/cropped/Donald Trump/Donald Trump_6.jpg\n",
      "Saved ./dataset/cropped/Donald Trump/Donald Trump_7.jpg\n",
      "Saved ./dataset/cropped/Donald Trump/Donald Trump_8.jpg\n",
      "Saved ./dataset/cropped/Donald Trump/Donald Trump_9.jpg\n",
      "Saved ./dataset/cropped/Donald Trump/Donald Trump_10.jpg\n",
      "Saved ./dataset/cropped/Donald Trump/Donald Trump_11.jpg\n",
      "Saved ./dataset/cropped/Donald Trump/Donald Trump_12.jpg\n",
      "Saved ./dataset/cropped/Donald Trump/Donald Trump_13.jpg\n",
      "Saved ./dataset/cropped/Donald Trump/Donald Trump_14.jpg\n",
      "Saved ./dataset/cropped/Donald Trump/Donald Trump_15.jpg\n",
      "Saved ./dataset/cropped/Donald Trump/Donald Trump_16.jpg\n",
      "Saved ./dataset/cropped/Donald Trump/Donald Trump_17.jpg\n",
      "Saved ./dataset/cropped/Donald Trump/Donald Trump_18.jpg\n",
      "Saved ./dataset/cropped/Donald Trump/Donald Trump_19.jpg\n",
      "Saved ./dataset/cropped/Donald Trump/Donald Trump_20.jpg\n",
      "Saved ./dataset/cropped/Donald Trump/Donald Trump_21.jpg\n",
      "Saved ./dataset/cropped/Donald Trump/Donald Trump_22.jpg\n",
      "Saved ./dataset/cropped/Donald Trump/Donald Trump_23.jpg\n",
      "Saved ./dataset/cropped/Donald Trump/Donald Trump_24.jpg\n",
      "Error processing ./dataset/Donald Trump/.DS_Store: cannot identify image file './dataset/Donald Trump/.DS_Store'\n",
      "Saved ./dataset/cropped/Donald Trump/Donald Trump_25.jpg\n",
      "Saved ./dataset/cropped/Donald Trump/Donald Trump_26.jpg\n",
      "Saved ./dataset/cropped/Donald Trump/Donald Trump_27.jpg\n",
      "Saved ./dataset/cropped/Donald Trump/Donald Trump_28.jpg\n",
      "Saved ./dataset/cropped/Donald Trump/Donald Trump_29.jpg\n",
      "Saved ./dataset/cropped/Donald Trump/Donald Trump_30.jpg\n",
      "Saved ./dataset/cropped/Donald Trump/Donald Trump_31.jpg\n",
      "Saved ./dataset/cropped/Donald Trump/Donald Trump_32.jpg\n",
      "Saved ./dataset/cropped/Donald Trump/Donald Trump_33.jpg\n",
      "Saved ./dataset/cropped/Donald Trump/Donald Trump_34.jpg\n",
      "Saved ./dataset/cropped/Donald Trump/Donald Trump_35.jpg\n",
      "Saved ./dataset/cropped/Donald Trump/Donald Trump_36.jpg\n",
      "Saved ./dataset/cropped/Donald Trump/Donald Trump_37.jpg\n",
      "Saved ./dataset/cropped/Donald Trump/Donald Trump_38.jpg\n",
      "Saved ./dataset/cropped/Donald Trump/Donald Trump_39.jpg\n",
      "Saved ./dataset/cropped/Donald Trump/Donald Trump_40.jpg\n",
      "Saved ./dataset/cropped/Donald Trump/Donald Trump_41.jpg\n",
      "Saved ./dataset/cropped/Donald Trump/Donald Trump_42.jpg\n",
      "Saved ./dataset/cropped/Donald Trump/Donald Trump_43.jpg\n",
      "Saved ./dataset/cropped/Donald Trump/Donald Trump_44.jpg\n",
      "Saved ./dataset/cropped/Donald Trump/Donald Trump_45.jpg\n",
      "Saved ./dataset/cropped/Donald Trump/Donald Trump_46.jpg\n",
      "Saved ./dataset/cropped/Donald Trump/Donald Trump_47.jpg\n",
      "Saved ./dataset/cropped/Donald Trump/Donald Trump_48.jpg\n",
      "Saved ./dataset/cropped/Donald Trump/Donald Trump_49.jpg\n",
      "Saved ./dataset/cropped/Donald Trump/Donald Trump_50.jpg\n",
      "Saved ./dataset/cropped/Donald Trump/Donald Trump_51.jpg\n",
      "Saved ./dataset/cropped/Donald Trump/Donald Trump_52.jpg\n",
      "Saved ./dataset/cropped/Donald Trump/Donald Trump_53.jpg\n",
      "Saved ./dataset/cropped/Donald Trump/Donald Trump_54.jpg\n",
      "Saved ./dataset/cropped/Donald Trump/Donald Trump_55.jpg\n",
      "Saved ./dataset/cropped/Donald Trump/Donald Trump_56.jpg\n",
      "Saved ./dataset/cropped/Donald Trump/Donald Trump_57.jpg\n",
      "Saved ./dataset/cropped/Donald Trump/Donald Trump_58.jpg\n",
      "Saved ./dataset/cropped/Donald Trump/Donald Trump_59.jpg\n",
      "Saved ./dataset/cropped/Donald Trump/Donald Trump_60.jpg\n",
      "Saved ./dataset/cropped/Donald Trump/Donald Trump_61.jpg\n",
      "Saved ./dataset/cropped/Donald Trump/Donald Trump_62.jpg\n",
      "Saved ./dataset/cropped/Donald Trump/Donald Trump_63.jpg\n",
      "Saved ./dataset/cropped/Donald Trump/Donald Trump_64.jpg\n",
      "Saved ./dataset/cropped/Donald Trump/Donald Trump_65.jpg\n",
      "Saved ./dataset/cropped/Donald Trump/Donald Trump_66.jpg\n",
      "Saved ./dataset/cropped/Donald Trump/Donald Trump_67.jpg\n",
      "Saved ./dataset/cropped/Donald Trump/Donald Trump_68.jpg\n",
      "Saved ./dataset/cropped/Donald Trump/Donald Trump_69.jpg\n",
      "Saved ./dataset/cropped/Donald Trump/Donald Trump_70.jpg\n",
      "Saved ./dataset/cropped/Donald Trump/Donald Trump_71.jpg\n",
      "Saved ./dataset/cropped/Donald Trump/Donald Trump_72.jpg\n",
      "Saved ./dataset/cropped/Donald Trump/Donald Trump_73.jpg\n",
      "Saved ./dataset/cropped/Donald Trump/Donald Trump_74.jpg\n",
      "Saved ./dataset/cropped/Donald Trump/Donald Trump_75.jpg\n",
      "Saved ./dataset/cropped/Donald Trump/Donald Trump_76.jpg\n",
      "Saved ./dataset/cropped/Donald Trump/Donald Trump_77.jpg\n",
      "Saved ./dataset/cropped/Donald Trump/Donald Trump_78.jpg\n",
      "Saved ./dataset/cropped/Donald Trump/Donald Trump_79.jpg\n",
      "Saved ./dataset/cropped/Donald Trump/Donald Trump_80.jpg\n",
      "Saved ./dataset/cropped/Donald Trump/Donald Trump_81.jpg\n",
      "Saved ./dataset/cropped/Donald Trump/Donald Trump_82.jpg\n",
      "Saved ./dataset/cropped/Donald Trump/Donald Trump_83.jpg\n",
      "Saved ./dataset/cropped/Donald Trump/Donald Trump_84.jpg\n",
      "Saved ./dataset/cropped/Donald Trump/Donald Trump_85.jpg\n",
      "Saved ./dataset/cropped/Donald Trump/Donald Trump_86.jpg\n",
      "Saved ./dataset/cropped/Donald Trump/Donald Trump_87.jpg\n",
      "Saved ./dataset/cropped/Donald Trump/Donald Trump_88.jpg\n",
      "Saved ./dataset/cropped/Donald Trump/Donald Trump_89.jpg\n",
      "Saved ./dataset/cropped/Donald Trump/Donald Trump_90.jpg\n",
      "Saved ./dataset/cropped/Donald Trump/Donald Trump_91.jpg\n",
      "Saved ./dataset/cropped/Donald Trump/Donald Trump_92.jpg\n",
      "Saved ./dataset/cropped/Donald Trump/Donald Trump_93.jpg\n",
      "Saved ./dataset/cropped/Donald Trump/Donald Trump_94.jpg\n",
      "Saved ./dataset/cropped/Donald Trump/Donald Trump_95.jpg\n",
      "Saved ./dataset/cropped/Donald Trump/Donald Trump_96.jpg\n",
      "Saved ./dataset/cropped/Donald Trump/Donald Trump_97.jpg\n",
      "Saved ./dataset/cropped/Donald Trump/Donald Trump_98.jpg\n",
      "Saved ./dataset/cropped/Donald Trump/Donald Trump_99.jpg\n",
      "Saved ./dataset/cropped/Donald Trump/Donald Trump_100.jpg\n",
      "Saved ./dataset/cropped/Donald Trump/Donald Trump_101.jpg\n",
      "Saved ./dataset/cropped/Donald Trump/Donald Trump_102.jpg\n",
      "Saved ./dataset/cropped/Donald Trump/Donald Trump_103.jpg\n",
      "Saved ./dataset/cropped/Donald Trump/Donald Trump_104.jpg\n",
      "Saved ./dataset/cropped/Donald Trump/Donald Trump_105.jpg\n",
      "Saved ./dataset/cropped/Donald Trump/Donald Trump_106.jpg\n",
      "Saved ./dataset/cropped/Donald Trump/Donald Trump_107.jpg\n",
      "Saved ./dataset/cropped/Donald Trump/Donald Trump_108.jpg\n",
      "Saved ./dataset/cropped/Donald Trump/Donald Trump_109.jpg\n",
      "Saved ./dataset/cropped/Donald Trump/Donald Trump_110.jpg\n",
      "Saved ./dataset/cropped/Donald Trump/Donald Trump_111.jpg\n",
      "Saved ./dataset/cropped/Donald Trump/Donald Trump_112.jpg\n",
      "Saved ./dataset/cropped/Donald Trump/Donald Trump_113.jpg\n",
      "Saved ./dataset/cropped/Donald Trump/Donald Trump_114.jpg\n",
      "Saved ./dataset/cropped/Donald Trump/Donald Trump_115.jpg\n",
      "Saved ./dataset/cropped/Donald Trump/Donald Trump_116.jpg\n",
      "Saved ./dataset/cropped/Donald Trump/Donald Trump_117.jpg\n",
      "Saved ./dataset/cropped/Donald Trump/Donald Trump_118.jpg\n",
      "Saved ./dataset/cropped/Donald Trump/Donald Trump_119.jpg\n",
      "Saved ./dataset/cropped/Donald Trump/Donald Trump_120.jpg\n",
      "Saved ./dataset/cropped/Donald Trump/Donald Trump_121.jpg\n",
      "Saved ./dataset/cropped/Donald Trump/Donald Trump_122.jpg\n",
      "Saved ./dataset/cropped/Donald Trump/Donald Trump_123.jpg\n",
      "Saved ./dataset/cropped/Donald Trump/Donald Trump_124.jpg\n",
      "Saved ./dataset/cropped/Donald Trump/Donald Trump_125.jpg\n",
      "Saved ./dataset/cropped/Donald Trump/Donald Trump_126.jpg\n",
      "Saved ./dataset/cropped/Donald Trump/Donald Trump_127.jpg\n",
      "Saved ./dataset/cropped/Donald Trump/Donald Trump_128.jpg\n",
      "Saved ./dataset/cropped/Donald Trump/Donald Trump_129.jpg\n",
      "Saved ./dataset/cropped/Donald Trump/Donald Trump_130.jpg\n",
      "Completed Donald Trump. Total faces saved: 131\n",
      "Processing images for Joe Biden\n",
      "Saved ./dataset/cropped/Joe Biden/Joe Biden_0.jpg\n",
      "Saved ./dataset/cropped/Joe Biden/Joe Biden_1.jpg\n",
      "Saved ./dataset/cropped/Joe Biden/Joe Biden_2.jpg\n",
      "Saved ./dataset/cropped/Joe Biden/Joe Biden_3.jpg\n",
      "Saved ./dataset/cropped/Joe Biden/Joe Biden_4.jpg\n",
      "Saved ./dataset/cropped/Joe Biden/Joe Biden_5.jpg\n",
      "Saved ./dataset/cropped/Joe Biden/Joe Biden_6.jpg\n",
      "Saved ./dataset/cropped/Joe Biden/Joe Biden_7.jpg\n",
      "Saved ./dataset/cropped/Joe Biden/Joe Biden_8.jpg\n",
      "Saved ./dataset/cropped/Joe Biden/Joe Biden_9.jpg\n",
      "Saved ./dataset/cropped/Joe Biden/Joe Biden_10.jpg\n",
      "Saved ./dataset/cropped/Joe Biden/Joe Biden_11.jpg\n",
      "Saved ./dataset/cropped/Joe Biden/Joe Biden_12.jpg\n",
      "Saved ./dataset/cropped/Joe Biden/Joe Biden_13.jpg\n",
      "Error processing ./dataset/Joe Biden/.DS_Store: cannot identify image file './dataset/Joe Biden/.DS_Store'\n",
      "Saved ./dataset/cropped/Joe Biden/Joe Biden_14.jpg\n",
      "Saved ./dataset/cropped/Joe Biden/Joe Biden_15.jpg\n",
      "Saved ./dataset/cropped/Joe Biden/Joe Biden_16.jpg\n",
      "Saved ./dataset/cropped/Joe Biden/Joe Biden_17.jpg\n",
      "Saved ./dataset/cropped/Joe Biden/Joe Biden_18.jpg\n",
      "Saved ./dataset/cropped/Joe Biden/Joe Biden_19.jpg\n",
      "Saved ./dataset/cropped/Joe Biden/Joe Biden_20.jpg\n",
      "Saved ./dataset/cropped/Joe Biden/Joe Biden_21.jpg\n",
      "Saved ./dataset/cropped/Joe Biden/Joe Biden_22.jpg\n",
      "Saved ./dataset/cropped/Joe Biden/Joe Biden_23.jpg\n",
      "Saved ./dataset/cropped/Joe Biden/Joe Biden_24.jpg\n",
      "Saved ./dataset/cropped/Joe Biden/Joe Biden_25.jpg\n",
      "Saved ./dataset/cropped/Joe Biden/Joe Biden_26.jpg\n",
      "Saved ./dataset/cropped/Joe Biden/Joe Biden_27.jpg\n",
      "Saved ./dataset/cropped/Joe Biden/Joe Biden_28.jpg\n",
      "Saved ./dataset/cropped/Joe Biden/Joe Biden_29.jpg\n",
      "Saved ./dataset/cropped/Joe Biden/Joe Biden_30.jpg\n",
      "Saved ./dataset/cropped/Joe Biden/Joe Biden_31.jpg\n",
      "Saved ./dataset/cropped/Joe Biden/Joe Biden_32.jpg\n",
      "Saved ./dataset/cropped/Joe Biden/Joe Biden_33.jpg\n",
      "Saved ./dataset/cropped/Joe Biden/Joe Biden_34.jpg\n",
      "Saved ./dataset/cropped/Joe Biden/Joe Biden_35.jpg\n",
      "Saved ./dataset/cropped/Joe Biden/Joe Biden_36.jpg\n",
      "Saved ./dataset/cropped/Joe Biden/Joe Biden_37.jpg\n",
      "Saved ./dataset/cropped/Joe Biden/Joe Biden_38.jpg\n",
      "Saved ./dataset/cropped/Joe Biden/Joe Biden_39.jpg\n",
      "Saved ./dataset/cropped/Joe Biden/Joe Biden_40.jpg\n",
      "Saved ./dataset/cropped/Joe Biden/Joe Biden_41.jpg\n",
      "Saved ./dataset/cropped/Joe Biden/Joe Biden_42.jpg\n",
      "Saved ./dataset/cropped/Joe Biden/Joe Biden_43.jpg\n",
      "Saved ./dataset/cropped/Joe Biden/Joe Biden_44.jpg\n",
      "Saved ./dataset/cropped/Joe Biden/Joe Biden_45.jpg\n",
      "Saved ./dataset/cropped/Joe Biden/Joe Biden_46.jpg\n",
      "Saved ./dataset/cropped/Joe Biden/Joe Biden_47.jpg\n",
      "Saved ./dataset/cropped/Joe Biden/Joe Biden_48.jpg\n",
      "Saved ./dataset/cropped/Joe Biden/Joe Biden_49.jpg\n",
      "Saved ./dataset/cropped/Joe Biden/Joe Biden_50.jpg\n",
      "Saved ./dataset/cropped/Joe Biden/Joe Biden_51.jpg\n",
      "Saved ./dataset/cropped/Joe Biden/Joe Biden_52.jpg\n",
      "Saved ./dataset/cropped/Joe Biden/Joe Biden_53.jpg\n",
      "Saved ./dataset/cropped/Joe Biden/Joe Biden_54.jpg\n",
      "Saved ./dataset/cropped/Joe Biden/Joe Biden_55.jpg\n",
      "Saved ./dataset/cropped/Joe Biden/Joe Biden_56.jpg\n",
      "Saved ./dataset/cropped/Joe Biden/Joe Biden_57.jpg\n",
      "Saved ./dataset/cropped/Joe Biden/Joe Biden_58.jpg\n",
      "Saved ./dataset/cropped/Joe Biden/Joe Biden_59.jpg\n",
      "Saved ./dataset/cropped/Joe Biden/Joe Biden_60.jpg\n",
      "Saved ./dataset/cropped/Joe Biden/Joe Biden_61.jpg\n",
      "Saved ./dataset/cropped/Joe Biden/Joe Biden_62.jpg\n",
      "Saved ./dataset/cropped/Joe Biden/Joe Biden_63.jpg\n",
      "Saved ./dataset/cropped/Joe Biden/Joe Biden_64.jpg\n",
      "Saved ./dataset/cropped/Joe Biden/Joe Biden_65.jpg\n",
      "Saved ./dataset/cropped/Joe Biden/Joe Biden_66.jpg\n",
      "Saved ./dataset/cropped/Joe Biden/Joe Biden_67.jpg\n",
      "Saved ./dataset/cropped/Joe Biden/Joe Biden_68.jpg\n",
      "Saved ./dataset/cropped/Joe Biden/Joe Biden_69.jpg\n",
      "Saved ./dataset/cropped/Joe Biden/Joe Biden_70.jpg\n",
      "Saved ./dataset/cropped/Joe Biden/Joe Biden_71.jpg\n",
      "Saved ./dataset/cropped/Joe Biden/Joe Biden_72.jpg\n",
      "Saved ./dataset/cropped/Joe Biden/Joe Biden_73.jpg\n",
      "Saved ./dataset/cropped/Joe Biden/Joe Biden_74.jpg\n",
      "Saved ./dataset/cropped/Joe Biden/Joe Biden_75.jpg\n",
      "Saved ./dataset/cropped/Joe Biden/Joe Biden_76.jpg\n",
      "Saved ./dataset/cropped/Joe Biden/Joe Biden_77.jpg\n",
      "Saved ./dataset/cropped/Joe Biden/Joe Biden_78.jpg\n",
      "Saved ./dataset/cropped/Joe Biden/Joe Biden_79.jpg\n",
      "Saved ./dataset/cropped/Joe Biden/Joe Biden_80.jpg\n",
      "Saved ./dataset/cropped/Joe Biden/Joe Biden_81.jpg\n",
      "Saved ./dataset/cropped/Joe Biden/Joe Biden_82.jpg\n",
      "Saved ./dataset/cropped/Joe Biden/Joe Biden_83.jpg\n",
      "Saved ./dataset/cropped/Joe Biden/Joe Biden_84.jpg\n",
      "Saved ./dataset/cropped/Joe Biden/Joe Biden_85.jpg\n",
      "Saved ./dataset/cropped/Joe Biden/Joe Biden_86.jpg\n",
      "Saved ./dataset/cropped/Joe Biden/Joe Biden_87.jpg\n",
      "Saved ./dataset/cropped/Joe Biden/Joe Biden_88.jpg\n",
      "Saved ./dataset/cropped/Joe Biden/Joe Biden_89.jpg\n",
      "Saved ./dataset/cropped/Joe Biden/Joe Biden_90.jpg\n",
      "Saved ./dataset/cropped/Joe Biden/Joe Biden_91.jpg\n",
      "Saved ./dataset/cropped/Joe Biden/Joe Biden_92.jpg\n",
      "Saved ./dataset/cropped/Joe Biden/Joe Biden_93.jpg\n",
      "Saved ./dataset/cropped/Joe Biden/Joe Biden_94.jpg\n",
      "Saved ./dataset/cropped/Joe Biden/Joe Biden_95.jpg\n",
      "Saved ./dataset/cropped/Joe Biden/Joe Biden_96.jpg\n",
      "Saved ./dataset/cropped/Joe Biden/Joe Biden_97.jpg\n",
      "Saved ./dataset/cropped/Joe Biden/Joe Biden_98.jpg\n",
      "Saved ./dataset/cropped/Joe Biden/Joe Biden_99.jpg\n",
      "Saved ./dataset/cropped/Joe Biden/Joe Biden_100.jpg\n",
      "Saved ./dataset/cropped/Joe Biden/Joe Biden_101.jpg\n",
      "Saved ./dataset/cropped/Joe Biden/Joe Biden_102.jpg\n",
      "Saved ./dataset/cropped/Joe Biden/Joe Biden_103.jpg\n",
      "Saved ./dataset/cropped/Joe Biden/Joe Biden_104.jpg\n",
      "Saved ./dataset/cropped/Joe Biden/Joe Biden_105.jpg\n",
      "Saved ./dataset/cropped/Joe Biden/Joe Biden_106.jpg\n",
      "Saved ./dataset/cropped/Joe Biden/Joe Biden_107.jpg\n",
      "Saved ./dataset/cropped/Joe Biden/Joe Biden_108.jpg\n",
      "Saved ./dataset/cropped/Joe Biden/Joe Biden_109.jpg\n",
      "Saved ./dataset/cropped/Joe Biden/Joe Biden_110.jpg\n",
      "Saved ./dataset/cropped/Joe Biden/Joe Biden_111.jpg\n",
      "Saved ./dataset/cropped/Joe Biden/Joe Biden_112.jpg\n",
      "Saved ./dataset/cropped/Joe Biden/Joe Biden_113.jpg\n",
      "Saved ./dataset/cropped/Joe Biden/Joe Biden_114.jpg\n",
      "Saved ./dataset/cropped/Joe Biden/Joe Biden_115.jpg\n",
      "Saved ./dataset/cropped/Joe Biden/Joe Biden_116.jpg\n",
      "Saved ./dataset/cropped/Joe Biden/Joe Biden_117.jpg\n",
      "Saved ./dataset/cropped/Joe Biden/Joe Biden_118.jpg\n",
      "Saved ./dataset/cropped/Joe Biden/Joe Biden_119.jpg\n",
      "Completed Joe Biden. Total faces saved: 120\n",
      "Face detection done\n"
     ]
    }
   ],
   "execution_count": 30
  },
  {
   "metadata": {
    "ExecuteTime": {
     "end_time": "2025-03-09T22:43:12.653009Z",
     "start_time": "2025-03-09T22:43:12.650857Z"
    }
   },
   "cell_type": "code",
   "source": [
    "# Print total images cropped for each person\n",
    "for person, count in face_counters.items():\n",
    "    print(f\"{person}: {count} images\")"
   ],
   "id": "cfdcc4f8753c0785",
   "outputs": [
    {
     "name": "stdout",
     "output_type": "stream",
     "text": [
      "Vladimir Putin: 87 images\n",
      "Elon Musk: 108 images\n",
      "Donald Trump: 131 images\n",
      "Joe Biden: 120 images\n"
     ]
    }
   ],
   "execution_count": 31
  },
  {
   "cell_type": "markdown",
   "id": "61a931d4",
   "metadata": {},
   "source": "# **Data preprocessing**"
  },
  {
   "cell_type": "code",
   "id": "c07d6d0e",
   "metadata": {
    "ExecuteTime": {
     "end_time": "2025-03-09T22:43:15.093759Z",
     "start_time": "2025-03-09T22:43:15.091929Z"
    }
   },
   "source": [
    "# Remove the .DS_Store file\n",
    "if os.path.exists('./dataset/cropped/.DS_Store'):\n",
    "    os.remove('./dataset/cropped/.DS_Store')"
   ],
   "outputs": [],
   "execution_count": 32
  },
  {
   "cell_type": "code",
   "id": "b140480164db2f11",
   "metadata": {
    "ExecuteTime": {
     "end_time": "2025-03-09T22:43:17.959235Z",
     "start_time": "2025-03-09T22:43:17.956123Z"
    }
   },
   "source": [
    "people = sorted(os.listdir(path_to_images))\n",
    "people"
   ],
   "outputs": [
    {
     "data": {
      "text/plain": [
       "['Donald Trump', 'Elon Musk', 'Joe Biden', 'Vladimir Putin']"
      ]
     },
     "execution_count": 33,
     "metadata": {},
     "output_type": "execute_result"
    }
   ],
   "execution_count": 33
  },
  {
   "cell_type": "code",
   "id": "f9ef5d92",
   "metadata": {
    "ExecuteTime": {
     "end_time": "2025-03-09T22:43:22.854292Z",
     "start_time": "2025-03-09T22:43:22.851554Z"
    }
   },
   "source": [
    "label_dict = {name : i for i, name in enumerate(people)}\n",
    "print(\"Label dictionary:\", label_dict)"
   ],
   "outputs": [
    {
     "name": "stdout",
     "output_type": "stream",
     "text": [
      "Label dictionary: {'Donald Trump': 0, 'Elon Musk': 1, 'Joe Biden': 2, 'Vladimir Putin': 3}\n"
     ]
    }
   ],
   "execution_count": 34
  },
  {
   "cell_type": "code",
   "id": "0fd06113",
   "metadata": {
    "ExecuteTime": {
     "end_time": "2025-03-09T22:48:06.350148Z",
     "start_time": "2025-03-09T22:48:06.346240Z"
    }
   },
   "source": [
    "from torch.utils.data import DataLoader\n",
    "from torchvision import datasets, transforms\n",
    "\n",
    "# Define data transformations with augmentation for training\n",
    "train_transform = transforms.Compose([\n",
    "    transforms.Resize((256, 256)),\n",
    "    transforms.RandomCrop(224),\n",
    "    transforms.RandomHorizontalFlip(p=0.5),\n",
    "    transforms.RandomRotation(10),\n",
    "    transforms.ColorJitter(brightness=0.2, contrast=0.2, saturation=0.1),\n",
    "    transforms.ToTensor(),\n",
    "    transforms.Normalize(mean=[0.485, 0.456, 0.406], std=[0.229, 0.224, 0.225])\n",
    "])\n",
    "\n",
    "# Simpler transformations for validation (no augmentation)\n",
    "val_transform = transforms.Compose([\n",
    "    transforms.Resize((224, 224)),\n",
    "    transforms.ToTensor(),\n",
    "    transforms.Normalize(mean=[0.485, 0.456, 0.406], std=[0.229, 0.224, 0.225])\n",
    "])"
   ],
   "outputs": [],
   "execution_count": 42
  },
  {
   "cell_type": "code",
   "id": "4786cf72",
   "metadata": {
    "ExecuteTime": {
     "end_time": "2025-03-09T22:48:28.407475Z",
     "start_time": "2025-03-09T22:48:28.401532Z"
    }
   },
   "source": [
    "# Custom Dataset class that works with your cropped face images\n",
    "class FaceDataset(torch.utils.data.Dataset):\n",
    "    def __init__(self, root_dir, transform=None):\n",
    "        self.root_dir = root_dir\n",
    "        self.transform = transform\n",
    "        self.image_paths = []\n",
    "        self.labels = []\n",
    "\n",
    "        # Get list of people (classes) - these are the subdirectories in the cropped folder\n",
    "        self.people = [d for d in os.listdir(root_dir) if os.path.isdir(os.path.join(root_dir, d))]\n",
    "        self.people.sort()  # Sort to ensure consistent ordering\n",
    "        self.label_dict = {name: i for i, name in enumerate(self.people)}\n",
    "\n",
    "        print(f\"Found {len(self.people)} classes: {self.people}\")\n",
    "\n",
    "        # Load all image paths and labels\n",
    "        for person in self.people:\n",
    "            person_dir = os.path.join(root_dir, person)\n",
    "            if os.path.isdir(person_dir):\n",
    "                for img_name in os.listdir(person_dir):\n",
    "                    if img_name.lower().endswith(('.png', '.jpg', '.jpeg')):\n",
    "                        img_path = os.path.join(person_dir, img_name)\n",
    "                        self.image_paths.append(img_path)\n",
    "                        self.labels.append(self.label_dict[person])\n",
    "\n",
    "        print(f\"Loaded {len(self.image_paths)} images in total\")\n",
    "\n",
    "    def __len__(self):\n",
    "        return len(self.image_paths)\n",
    "\n",
    "    def __getitem__(self, idx):\n",
    "        img_path = self.image_paths[idx]\n",
    "        label = self.labels[idx]\n",
    "\n",
    "        img = Image.open(img_path).convert('RGB')\n",
    "\n",
    "        if self.transform:\n",
    "            img = self.transform(img)\n",
    "\n",
    "        return img, label"
   ],
   "outputs": [],
   "execution_count": 44
  },
  {
   "metadata": {
    "ExecuteTime": {
     "end_time": "2025-03-09T22:48:31.443980Z",
     "start_time": "2025-03-09T22:48:31.438036Z"
    }
   },
   "cell_type": "code",
   "source": [
    "# Create two separate datasets with their respective transforms\n",
    "train_face_dataset = FaceDataset(path_to_images, transform=train_transform)\n",
    "val_face_dataset = FaceDataset(path_to_images, transform=val_transform)"
   ],
   "id": "2ae3d9382f9846f8",
   "outputs": [
    {
     "name": "stdout",
     "output_type": "stream",
     "text": [
      "Found 4 classes: ['Donald Trump', 'Elon Musk', 'Joe Biden', 'Vladimir Putin']\n",
      "Loaded 446 images in total\n",
      "Found 4 classes: ['Donald Trump', 'Elon Musk', 'Joe Biden', 'Vladimir Putin']\n",
      "Loaded 446 images in total\n"
     ]
    }
   ],
   "execution_count": 45
  },
  {
   "metadata": {},
   "cell_type": "markdown",
   "source": "# **Model training**",
   "id": "762a8710d3906f6a"
  },
  {
   "metadata": {
    "ExecuteTime": {
     "end_time": "2025-03-09T22:45:48.651897Z",
     "start_time": "2025-03-09T22:45:48.648181Z"
    }
   },
   "cell_type": "code",
   "source": [
    "# Create indices for train/val split (70/30)\n",
    "dataset_size = len(train_face_dataset)\n",
    "indices = list(range(dataset_size))\n",
    "np.random.shuffle(indices)\n",
    "train_size = int(0.8 * dataset_size)\n",
    "train_indices = indices[:train_size]\n",
    "val_indices = indices[train_size:]"
   ],
   "id": "b925a40faf110d22",
   "outputs": [],
   "execution_count": 40
  },
  {
   "metadata": {
    "ExecuteTime": {
     "end_time": "2025-03-09T22:49:26.188564Z",
     "start_time": "2025-03-09T22:49:26.185469Z"
    }
   },
   "cell_type": "code",
   "source": [
    "# Create a subset sampler for training and validation\n",
    "from torch.utils.data import SubsetRandomSampler\n",
    "\n",
    "train_sampler = SubsetRandomSampler(train_indices)\n",
    "val_sampler = SubsetRandomSampler(val_indices)"
   ],
   "id": "fec2e82df6b0cad9",
   "outputs": [],
   "execution_count": 46
  },
  {
   "metadata": {
    "ExecuteTime": {
     "end_time": "2025-03-09T22:50:31.006771Z",
     "start_time": "2025-03-09T22:50:31.003424Z"
    }
   },
   "cell_type": "code",
   "source": [
    "# Create DataLoaders for training and validation\n",
    "train_loader = DataLoader(train_face_dataset, batch_size=8, sampler=train_sampler, num_workers=0)\n",
    "val_loader = DataLoader(val_face_dataset, batch_size=8, sampler=val_sampler, num_workers=0)"
   ],
   "id": "89c27c648e553c38",
   "outputs": [],
   "execution_count": 47
  },
  {
   "cell_type": "markdown",
   "id": "5f11d600",
   "metadata": {},
   "source": [
    "### **Select the model for the training**"
   ]
  },
  {
   "cell_type": "code",
   "id": "7f317372",
   "metadata": {
    "ExecuteTime": {
     "end_time": "2025-03-09T22:51:13.858956Z",
     "start_time": "2025-03-09T22:51:13.667986Z"
    }
   },
   "source": [
    "import torch.nn as nn\n",
    "import torchvision.models as models\n",
    "\n",
    "# Load the pretrained ResNet model\n",
    "model = models.resnet18(pretrained=True)"
   ],
   "outputs": [],
   "execution_count": 48
  },
  {
   "metadata": {
    "ExecuteTime": {
     "end_time": "2025-03-09T22:51:44.681651Z",
     "start_time": "2025-03-09T22:51:44.676736Z"
    }
   },
   "cell_type": "code",
   "source": [
    "# Modify the final fully connected layer with dropout for regularization\n",
    "\n",
    "num_classes = len(train_face_dataset.people)\n",
    "model.fc = nn.Sequential(\n",
    "    nn.Dropout(0.4),\n",
    "    nn.Linear(model.fc.in_features, num_classes)\n",
    ")"
   ],
   "id": "8dafb0cf388df610",
   "outputs": [],
   "execution_count": 49
  },
  {
   "metadata": {
    "ExecuteTime": {
     "end_time": "2025-03-09T22:52:45.630333Z",
     "start_time": "2025-03-09T22:52:45.625623Z"
    }
   },
   "cell_type": "code",
   "source": [
    "from torch import optim\n",
    "criterion = nn.CrossEntropyLoss()\n",
    "optimizer = optim.Adam([\n",
    "    {'params': model.fc.parameters(), 'lr': 0.001},        # Highest learning rate for classification layer\n",
    "    {'params': model.layer4.parameters(), 'lr': 0.0005},   # Higher learning rate for later features\n",
    "    {'params': model.layer3.parameters(), 'lr': 0.0003},   # Medium learning rate for mid-level features\n",
    "    {'params': model.layer2.parameters(), 'lr': 0.0001},   # Lower learning rate for earlier features\n",
    "    {'params': model.layer1.parameters(), 'lr': 0.00005},  # Very low learning rate for basic features\n",
    "    {'params': model.conv1.parameters(), 'lr': 0.00001}    # Minimal learning rate for initial layers\n",
    "], weight_decay=1e-4)"
   ],
   "id": "e0e3d136dbf7ba05",
   "outputs": [],
   "execution_count": 53
  },
  {
   "metadata": {
    "ExecuteTime": {
     "end_time": "2025-03-09T22:54:02.737248Z",
     "start_time": "2025-03-09T22:54:02.734596Z"
    }
   },
   "cell_type": "code",
   "source": [
    "from torch.optim.lr_scheduler import ReduceLROnPlateau\n",
    "# Learning rate scheduler\n",
    "scheduler = ReduceLROnPlateau(optimizer, mode='min', factor=0.2, patience=2, verbose=True)"
   ],
   "id": "ade302fc47216f",
   "outputs": [],
   "execution_count": 56
  },
  {
   "metadata": {
    "ExecuteTime": {
     "end_time": "2025-03-09T23:01:09.226808Z",
     "start_time": "2025-03-09T22:54:04.042210Z"
    }
   },
   "cell_type": "code",
   "source": [
    "from sklearn.metrics import accuracy_score\n",
    "\n",
    "# Training loop\n",
    "num_epochs = 25\n",
    "best_loss = float('inf')\n",
    "best_val_acc = 0.0\n",
    "train_losses = []\n",
    "val_losses = []\n",
    "val_accuracies = []\n",
    "\n",
    "print(\"Starting training...\")\n",
    "\n",
    "for epoch in range(num_epochs):\n",
    "    # Training phase\n",
    "    model.train()\n",
    "    running_loss = 0.0\n",
    "\n",
    "    for images, labels in train_loader:\n",
    "        # Zero the parameter gradients\n",
    "        optimizer.zero_grad()\n",
    "\n",
    "        # Forward pass\n",
    "        outputs = model(images)\n",
    "        loss = criterion(outputs, labels)\n",
    "\n",
    "        # Backward pass and optimize\n",
    "        loss.backward()\n",
    "        optimizer.step()\n",
    "\n",
    "        running_loss += loss.item()\n",
    "\n",
    "    epoch_train_loss = running_loss / len(train_loader)\n",
    "    train_losses.append(epoch_train_loss)\n",
    "\n",
    "    # Validation phase\n",
    "    model.eval()\n",
    "    val_loss = 0.0\n",
    "    all_preds = []\n",
    "    all_labels = []\n",
    "    all_probs = []\n",
    "\n",
    "    with torch.inference_mode():\n",
    "        for images, labels in val_loader:\n",
    "\n",
    "            outputs = model(images)\n",
    "            loss = criterion(outputs, labels)\n",
    "            val_loss += loss.item()\n",
    "\n",
    "            # Get predictions and probabilities\n",
    "            probs = torch.nn.functional.softmax(outputs, dim=1)\n",
    "            _, preds = torch.max(outputs, 1)\n",
    "\n",
    "            all_preds.extend(preds.cpu().numpy())\n",
    "            all_labels.extend(labels.cpu().numpy())\n",
    "            all_probs.extend(probs.cpu().numpy())\n",
    "\n",
    "    epoch_val_loss = val_loss / len(val_loader)\n",
    "    val_losses.append(epoch_val_loss)\n",
    "\n",
    "    # Calculate validation accuracy\n",
    "    val_acc = accuracy_score(all_labels, all_preds)\n",
    "    val_accuracies.append(val_acc)\n",
    "\n",
    "    # Update learning rate based on validation loss\n",
    "    scheduler.step(epoch_val_loss)\n",
    "\n",
    "    print(f\"Epoch {epoch+1}/{num_epochs}, \"\n",
    "          f\"Train Loss: {epoch_train_loss:.4f}, \"\n",
    "          f\"Val Loss: {epoch_val_loss:.4f}, \"\n",
    "          f\"Val Acc: {val_acc:.4f}, \"\n",
    "          f\"LR: {optimizer.param_groups[0]['lr']:.6f}\")\n",
    "\n",
    "    # Save the best model\n",
    "    if val_acc > best_val_acc:\n",
    "        best_val_acc = val_acc\n",
    "        best_val_loss = epoch_val_loss\n",
    "        torch.save({\n",
    "            'epoch': epoch,\n",
    "            'model_state_dict': model.state_dict(),\n",
    "            'optimizer_state_dict': optimizer.state_dict(),\n",
    "            'val_loss': epoch_val_loss,\n",
    "            'val_acc': val_acc,\n",
    "        }, 'best_model.pth')\n",
    "        print(f\"Saved new best model with validation accuracy: {val_acc:.4f}\")\n",
    "print(\"Training complete!\")"
   ],
   "id": "8b3993e6fe1182e9",
   "outputs": [
    {
     "name": "stdout",
     "output_type": "stream",
     "text": [
      "Starting training...\n",
      "Epoch 1/25, Train Loss: 0.9427, Val Loss: 0.2708, Val Acc: 0.9111, LR: 0.001000\n",
      "Saved new best model with validation accuracy: 0.9111\n",
      "Epoch 2/25, Train Loss: 0.5474, Val Loss: 0.3481, Val Acc: 0.8556, LR: 0.001000\n",
      "Epoch 3/25, Train Loss: 0.3800, Val Loss: 0.4010, Val Acc: 0.8444, LR: 0.001000\n",
      "Epoch 4/25, Train Loss: 0.2799, Val Loss: 0.2116, Val Acc: 0.9222, LR: 0.001000\n",
      "Saved new best model with validation accuracy: 0.9222\n",
      "Epoch 5/25, Train Loss: 0.3135, Val Loss: 0.2704, Val Acc: 0.8889, LR: 0.001000\n",
      "Epoch 6/25, Train Loss: 0.2677, Val Loss: 0.1420, Val Acc: 0.9556, LR: 0.001000\n",
      "Saved new best model with validation accuracy: 0.9556\n",
      "Epoch 7/25, Train Loss: 0.2041, Val Loss: 0.1523, Val Acc: 0.9333, LR: 0.001000\n",
      "Epoch 8/25, Train Loss: 0.2144, Val Loss: 0.2195, Val Acc: 0.9111, LR: 0.001000\n",
      "Epoch 9/25, Train Loss: 0.2116, Val Loss: 0.1534, Val Acc: 0.9222, LR: 0.000200\n",
      "Epoch 10/25, Train Loss: 0.1943, Val Loss: 0.1229, Val Acc: 0.9333, LR: 0.000200\n",
      "Epoch 11/25, Train Loss: 0.1009, Val Loss: 0.1464, Val Acc: 0.9444, LR: 0.000200\n",
      "Epoch 12/25, Train Loss: 0.1315, Val Loss: 0.1542, Val Acc: 0.9444, LR: 0.000200\n",
      "Epoch 13/25, Train Loss: 0.1312, Val Loss: 0.1697, Val Acc: 0.9444, LR: 0.000040\n",
      "Epoch 14/25, Train Loss: 0.0627, Val Loss: 0.2503, Val Acc: 0.9556, LR: 0.000040\n",
      "Epoch 15/25, Train Loss: 0.1315, Val Loss: 0.1733, Val Acc: 0.9333, LR: 0.000040\n",
      "Epoch 16/25, Train Loss: 0.0712, Val Loss: 0.2852, Val Acc: 0.9333, LR: 0.000008\n",
      "Epoch 17/25, Train Loss: 0.0534, Val Loss: 0.2823, Val Acc: 0.9333, LR: 0.000008\n",
      "Epoch 18/25, Train Loss: 0.0858, Val Loss: 0.1863, Val Acc: 0.9333, LR: 0.000008\n",
      "Epoch 19/25, Train Loss: 0.0706, Val Loss: 0.1749, Val Acc: 0.9333, LR: 0.000002\n",
      "Epoch 20/25, Train Loss: 0.0491, Val Loss: 0.1905, Val Acc: 0.9333, LR: 0.000002\n",
      "Epoch 21/25, Train Loss: 0.0745, Val Loss: 0.1885, Val Acc: 0.9333, LR: 0.000002\n",
      "Epoch 22/25, Train Loss: 0.0426, Val Loss: 0.1774, Val Acc: 0.9333, LR: 0.000000\n",
      "Epoch 23/25, Train Loss: 0.0735, Val Loss: 0.1683, Val Acc: 0.9333, LR: 0.000000\n",
      "Epoch 24/25, Train Loss: 0.0696, Val Loss: 0.1816, Val Acc: 0.9333, LR: 0.000000\n",
      "Epoch 25/25, Train Loss: 0.0569, Val Loss: 0.1836, Val Acc: 0.9333, LR: 0.000000\n",
      "Training complete!\n"
     ]
    }
   ],
   "execution_count": 57
  },
  {
   "cell_type": "markdown",
   "id": "142ff3fe",
   "metadata": {},
   "source": [
    "### **Testing the model**"
   ]
  },
  {
   "cell_type": "code",
   "id": "98256ca0",
   "metadata": {
    "ExecuteTime": {
     "end_time": "2025-03-09T23:01:15.972284Z",
     "start_time": "2025-03-09T23:01:15.913240Z"
    }
   },
   "source": [
    "# Load the best model for evaluation\n",
    "checkpoint = torch.load('best_model.pth')\n",
    "model.load_state_dict(checkpoint['model_state_dict'])\n",
    "print(f\"Loaded best model from epoch {checkpoint['epoch']+1} with validation accuracy: {checkpoint['val_acc']:.4f}\")"
   ],
   "outputs": [
    {
     "name": "stdout",
     "output_type": "stream",
     "text": [
      "Loaded best model from epoch 6 with validation accuracy: 0.9556\n"
     ]
    }
   ],
   "execution_count": 58
  },
  {
   "metadata": {
    "ExecuteTime": {
     "end_time": "2025-03-09T23:01:25.048672Z",
     "start_time": "2025-03-09T23:01:23.363940Z"
    }
   },
   "cell_type": "code",
   "source": [
    "# Final evaluation on validation set\n",
    "model.eval()\n",
    "all_preds = []\n",
    "all_labels = []\n",
    "all_probs = []\n",
    "class_correct = list(0. for i in range(num_classes))\n",
    "class_total = list(0. for i in range(num_classes))\n",
    "\n",
    "with torch.no_grad():\n",
    "    for images, labels in val_loader:\n",
    "        outputs = model(images)\n",
    "        probs = torch.nn.functional.softmax(outputs, dim=1)\n",
    "        _, preds = torch.max(outputs, 1)\n",
    "\n",
    "        all_preds.extend(preds.cpu().numpy())\n",
    "        all_labels.extend(labels.cpu().numpy())\n",
    "        all_probs.extend(probs.cpu().numpy())\n",
    "\n",
    "        # Calculate per-class accuracy\n",
    "        correct = (preds == labels).squeeze()\n",
    "        for i in range(len(labels)):\n",
    "            label = labels[i]\n",
    "            class_correct[label] += correct[i].item()\n",
    "            class_total[label] += 1"
   ],
   "id": "81d3621e69c228ea",
   "outputs": [],
   "execution_count": 59
  },
  {
   "metadata": {
    "ExecuteTime": {
     "end_time": "2025-03-09T23:02:05.477387Z",
     "start_time": "2025-03-09T23:02:05.469841Z"
    }
   },
   "cell_type": "code",
   "source": [
    "from sklearn.metrics import confusion_matrix\n",
    "\n",
    "# Calculate final metrics\n",
    "final_accuracy = accuracy_score(all_labels, all_preds)\n",
    "conf_matrix = confusion_matrix(all_labels, all_preds)"
   ],
   "id": "e12a31c496c5eb85",
   "outputs": [],
   "execution_count": 60
  },
  {
   "metadata": {
    "ExecuteTime": {
     "end_time": "2025-03-09T23:02:22.068561Z",
     "start_time": "2025-03-09T23:02:22.061900Z"
    }
   },
   "cell_type": "code",
   "source": [
    "from sklearn.metrics import precision_recall_fscore_support\n",
    "\n",
    "# Calculate precision, recall, and F1 score\n",
    "precision, recall, f1, _ = precision_recall_fscore_support(all_labels, all_preds, average='weighted')"
   ],
   "id": "910c912d221f061",
   "outputs": [],
   "execution_count": 61
  },
  {
   "metadata": {
    "ExecuteTime": {
     "end_time": "2025-03-09T23:02:32.601597Z",
     "start_time": "2025-03-09T23:02:32.598560Z"
    }
   },
   "cell_type": "code",
   "source": [
    "print(f\"Final validation accuracy: {final_accuracy:.4f}\")\n",
    "print(f\"Precision: {precision:.4f}\")\n",
    "print(f\"Recall: {recall:.4f}\")\n",
    "print(f\"F1 Score: {f1:.4f}\")"
   ],
   "id": "71028b21e6199884",
   "outputs": [
    {
     "name": "stdout",
     "output_type": "stream",
     "text": [
      "Final validation accuracy: 0.9556\n",
      "Precision: 0.9624\n",
      "Recall: 0.9556\n",
      "F1 Score: 0.9567\n"
     ]
    }
   ],
   "execution_count": 62
  },
  {
   "metadata": {
    "ExecuteTime": {
     "end_time": "2025-03-09T23:03:14.010161Z",
     "start_time": "2025-03-09T23:03:14.006902Z"
    }
   },
   "cell_type": "code",
   "source": [
    "# pre-accuracy report\n",
    "print(\"Accuracy report:\")\n",
    "for i in range(num_classes):\n",
    "    print(f\"{train_face_dataset.people[i]}: {class_correct[i] * 100 / class_total[i]:.4f}\")"
   ],
   "id": "eb981fd0cea003bd",
   "outputs": [
    {
     "name": "stdout",
     "output_type": "stream",
     "text": [
      "Accuracy report:\n",
      "Donald Trump: 93.3333\n",
      "Elon Musk: 95.4545\n",
      "Joe Biden: 100.0000\n",
      "Vladimir Putin: 93.7500\n"
     ]
    }
   ],
   "execution_count": 63
  },
  {
   "metadata": {
    "ExecuteTime": {
     "end_time": "2025-03-09T23:03:43.345155Z",
     "start_time": "2025-03-09T23:03:43.336812Z"
    }
   },
   "cell_type": "code",
   "source": [
    "from sklearn.metrics import classification_report\n",
    "\n",
    "# Print detailed classification report\n",
    "print(\"\\nClassification Report:\")\n",
    "print(classification_report(all_labels, all_preds, target_names=train_face_dataset.people))"
   ],
   "id": "5a7ecc07abae013e",
   "outputs": [
    {
     "name": "stdout",
     "output_type": "stream",
     "text": [
      "\n",
      "Classification Report:\n",
      "                precision    recall  f1-score   support\n",
      "\n",
      "  Donald Trump       1.00      0.93      0.97        30\n",
      "     Elon Musk       1.00      0.95      0.98        22\n",
      "     Joe Biden       0.85      1.00      0.92        22\n",
      "Vladimir Putin       1.00      0.94      0.97        16\n",
      "\n",
      "      accuracy                           0.96        90\n",
      "     macro avg       0.96      0.96      0.96        90\n",
      "  weighted avg       0.96      0.96      0.96        90\n",
      "\n"
     ]
    }
   ],
   "execution_count": 65
  },
  {
   "metadata": {
    "ExecuteTime": {
     "end_time": "2025-03-09T23:04:25.894605Z",
     "start_time": "2025-03-09T23:04:25.795132Z"
    }
   },
   "cell_type": "code",
   "source": [
    "import matplotlib.pyplot as plt\n",
    "import seaborn as sns\n",
    "\n",
    "# Plot confusion matrix\n",
    "plt.figure(figsize=(10, 8))\n",
    "sns.heatmap(conf_matrix, annot=True, fmt='d', cmap='Blues',\n",
    "            xticklabels=train_face_dataset.people,\n",
    "            yticklabels=train_face_dataset.people)\n",
    "plt.xlabel('Predicted')\n",
    "plt.ylabel('True')\n",
    "plt.title('Confusion Matrix')\n",
    "plt.show()\n"
   ],
   "id": "99dbbbbabc1457d1",
   "outputs": [
    {
     "data": {
      "text/plain": [
       "<Figure size 1000x800 with 2 Axes>"
      ],
      "image/png": "[encoded data removed]"
     },
     "metadata": {},
     "output_type": "display_data"
    }
   ],
   "execution_count": 68
  },
  {
   "metadata": {
    "ExecuteTime": {
     "end_time": "2025-03-09T23:04:45.263621Z",
     "start_time": "2025-03-09T23:04:44.981509Z"
    }
   },
   "cell_type": "code",
   "source": [
    "# Plot training and validation curves\n",
    "plt.figure(figsize=(12, 5))\n",
    "\n",
    "plt.subplot(1, 2, 1)\n",
    "plt.plot(train_losses, label='Training Loss')\n",
    "plt.plot(val_losses, label='Validation Loss')\n",
    "plt.xlabel('Epochs')\n",
    "plt.ylabel('Loss')\n",
    "plt.legend()\n",
    "plt.title('Loss Curves')\n",
    "\n",
    "plt.subplot(1, 2, 2)\n",
    "plt.plot(val_accuracies, label='Validation Accuracy')\n",
    "plt.xlabel('Epochs')\n",
    "plt.ylabel('Accuracy')\n",
    "plt.legend()\n",
    "plt.title('Accuracy Curve')\n",
    "\n",
    "plt.tight_layout()\n",
    "plt.savefig('training_curves.png')\n",
    "plt.show()\n"
   ],
   "id": "39dd5bf5c7ae4f1",
   "outputs": [
    {
     "data": {
      "text/plain": [
       "<Figure size 1200x500 with 2 Axes>"
      ],
      "image/png": "[encoded data removed]"
     },
     "metadata": {},
     "output_type": "display_data"
    }
   ],
   "execution_count": 69
  },
  {
   "metadata": {},
   "cell_type": "code",
   "outputs": [],
   "execution_count": null,
   "source": "",
   "id": "59d57176800cb421"
  }
 ],
 "metadata": {
  "kernelspec": {
   "display_name": "image-classification",
   "language": "python",
   "name": "python3"
  },
  "language_info": {
   "codemirror_mode": {
    "name": "ipython",
    "version": 3
   },
   "file_extension": ".py",
   "mimetype": "text/x-python",
   "name": "python",
   "nbconvert_exporter": "python",
   "pygments_lexer": "ipython3",
   "version": "3.12.9"
  }
 },
 "nbformat": 4,
 "nbformat_minor": 5
}

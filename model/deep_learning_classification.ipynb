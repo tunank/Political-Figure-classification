{
 "cells": [
  {
   "cell_type": "code",
   "id": "initial_id",
   "metadata": {
    "collapsed": true,
    "ExecuteTime": {
     "end_time": "2025-03-09T21:34:21.920383Z",
     "start_time": "2025-03-09T21:34:17.261978Z"
    }
   },
   "source": [
    "import os\n",
    "import shutil\n",
    "from facenet_pytorch import MTCNN\n",
    "import cv2\n",
    "import torch\n",
    "import numpy as np\n",
    "from deepface import DeepFace\n",
    "from PIL import Image"
   ],
   "outputs": [
    {
     "name": "stderr",
     "output_type": "stream",
     "text": [
      "/opt/anaconda3/envs/image-classification/lib/python3.12/site-packages/tqdm/auto.py:21: TqdmWarning: IProgress not found. Please update jupyter and ipywidgets. See https://ipywidgets.readthedocs.io/en/stable/user_install.html\n",
      "  from .autonotebook import tqdm as notebook_tqdm\n"
     ]
    }
   ],
   "execution_count": 1
  },
  {
   "cell_type": "markdown",
   "id": "623610c54a3a634a",
   "metadata": {},
   "source": [
    "### **Get path, create, and crop the image with the corresponding person**\n",
    "Get the path to the images, get the names of the directories (which are the political figures), scanned through all of the images, crop them, and then create a directory to store them"
   ]
  },
  {
   "cell_type": "code",
   "id": "8897b3a2487951fd",
   "metadata": {
    "ExecuteTime": {
     "end_time": "2025-03-09T21:41:28.617320Z",
     "start_time": "2025-03-09T21:41:28.612717Z"
    }
   },
   "source": [
    "path_to_data = './dataset/'\n",
    "path_to_images = './dataset/cropped/'"
   ],
   "outputs": [],
   "execution_count": 8
  },
  {
   "cell_type": "code",
   "id": "51bdad07925ffdff",
   "metadata": {
    "ExecuteTime": {
     "end_time": "2025-03-09T21:41:29.454400Z",
     "start_time": "2025-03-09T21:41:29.450614Z"
    }
   },
   "source": [
    "img_dir = [entry.path for entry in os.scandir(path_to_data) if entry.is_dir()]\n",
    "img_dir"
   ],
   "outputs": [
    {
     "data": {
      "text/plain": [
       "['./dataset/Vladimir Putin',\n",
       " './dataset/Elon Musk',\n",
       " './dataset/Donald Trump',\n",
       " './dataset/Joe Biden']"
      ]
     },
     "execution_count": 9,
     "metadata": {},
     "output_type": "execute_result"
    }
   ],
   "execution_count": 9
  },
  {
   "cell_type": "code",
   "id": "6f7fb727afb35fda",
   "metadata": {
    "ExecuteTime": {
     "end_time": "2025-03-09T21:41:35.848932Z",
     "start_time": "2025-03-09T21:41:35.846006Z"
    }
   },
   "source": [
    "os.path.exists(path_to_images)"
   ],
   "outputs": [
    {
     "data": {
      "text/plain": [
       "False"
      ]
     },
     "execution_count": 10,
     "metadata": {},
     "output_type": "execute_result"
    }
   ],
   "execution_count": 10
  },
  {
   "cell_type": "code",
   "id": "f1eaef826caade46",
   "metadata": {
    "ExecuteTime": {
     "end_time": "2025-03-09T21:41:37.500256Z",
     "start_time": "2025-03-09T21:41:37.484694Z"
    }
   },
   "source": [
    "# Load MTCNN face detector\n",
    "mtcnn = MTCNN(keep_all=True)"
   ],
   "outputs": [],
   "execution_count": 11
  },
  {
   "metadata": {
    "ExecuteTime": {
     "end_time": "2025-03-09T21:45:00.341852Z",
     "start_time": "2025-03-09T21:45:00.314749Z"
    }
   },
   "cell_type": "code",
   "source": [
    "## This code is to delete the cropped images folder and create a new one\n",
    "if os.path.exists(path_to_images):\n",
    "    shutil.rmtree(path_to_images)\n",
    "os.makedirs(path_to_images)"
   ],
   "id": "47b44557ba73f12c",
   "outputs": [],
   "execution_count": 17
  },
  {
   "metadata": {
    "ExecuteTime": {
     "end_time": "2025-03-09T21:46:26.918367Z",
     "start_time": "2025-03-09T21:46:26.915690Z"
    }
   },
   "cell_type": "code",
   "source": [
    "# Delete the .DS_Store file\n",
    "if os.path.exists('./dataset/.DS_Store'):\n",
    "    os.remove('./dataset/.DS_Store')"
   ],
   "id": "cbc9449306114ca0",
   "outputs": [],
   "execution_count": 18
  },
  {
   "cell_type": "code",
   "id": "de04a26d0e20b39b",
   "metadata": {
    "ExecuteTime": {
     "end_time": "2025-03-09T21:46:49.217958Z",
     "start_time": "2025-03-09T21:46:30.708086Z"
    }
   },
   "source": [
    "# Counter to track faces across all images\n",
    "face_counters = {}\n",
    "\n",
    "for person in os.listdir(path_to_data):\n",
    "\n",
    "    if person == 'cropped':\n",
    "        continue\n",
    "\n",
    "    # Initialize counter for this person\n",
    "    if person not in face_counters:\n",
    "        face_counters[person] = 0\n",
    "\n",
    "    # ./dataset/person1\n",
    "    person_path = os.path.join(path_to_data, person)\n",
    "    # ./dataset/cropped/person1\n",
    "    cropped_person_path = os.path.join(path_to_images, person)\n",
    "\n",
    "    # Skip non-directories\n",
    "    if not os.path.isdir(person_path):\n",
    "        continue\n",
    "\n",
    "    # create a directory for the person\n",
    "    os.makedirs(cropped_person_path, exist_ok=True)\n",
    "\n",
    "    print(f\"Processing images for {person}\")\n",
    "\n",
    "    for image_name in os.listdir(person_path):\n",
    "\n",
    "        # Get the path to the image\n",
    "        image_path = os.path.join(person_path, image_name)\n",
    "\n",
    "        try:\n",
    "            # Load and verify image\n",
    "            img = Image.open(image_path)\n",
    "            img.verify()  # Check if image is corrupt\n",
    "            img = Image.open(image_path)  # Reload after verification\n",
    "\n",
    "            # Detect faces\n",
    "            boxes, _ = mtcnn.detect(img)\n",
    "\n",
    "            # If no faces are detected, move on to the next image\n",
    "            if boxes is not None:\n",
    "                # loop through all the faces detected\n",
    "                for i, box in enumerate(boxes):\n",
    "                    # Get the coordinates of the box\n",
    "                    x, y, x2, y2 = map(int, box)\n",
    "\n",
    "\n",
    "                    face = img.crop((x, y, x2, y2))\n",
    "\n",
    "                    # Create unique name using the incremented counter\n",
    "                    face_save_name = f\"{person}_{face_counters[person]}.jpg\"\n",
    "                    face_save_path = os.path.join(cropped_person_path, face_save_name)\n",
    "\n",
    "                    # Save the face\n",
    "                    face.save(face_save_path)\n",
    "                    print(f\"Saved {face_save_path}\")\n",
    "\n",
    "                    # Increment the counter for this person\n",
    "                    face_counters[person] += 1\n",
    "            else:\n",
    "                print(f\"No faces detected in {image_path}\")\n",
    "\n",
    "        except Exception as e:\n",
    "            print(f\"Error processing {image_path}: {e}\")\n",
    "\n",
    "    print(f\"Completed {person}. Total faces saved: {face_counters[person]}\")\n",
    "\n",
    "print(\"Face detection done\")"
   ],
   "outputs": [
    {
     "name": "stdout",
     "output_type": "stream",
     "text": [
      "Processing images for Vladimir Putin\n",
      "Saved ./dataset/cropped/Vladimir Putin/Vladimir Putin_0.jpg\n",
      "Saved ./dataset/cropped/Vladimir Putin/Vladimir Putin_1.jpg\n",
      "Saved ./dataset/cropped/Vladimir Putin/Vladimir Putin_2.jpg\n",
      "Saved ./dataset/cropped/Vladimir Putin/Vladimir Putin_3.jpg\n",
      "Saved ./dataset/cropped/Vladimir Putin/Vladimir Putin_4.jpg\n",
      "Saved ./dataset/cropped/Vladimir Putin/Vladimir Putin_5.jpg\n",
      "Saved ./dataset/cropped/Vladimir Putin/Vladimir Putin_6.jpg\n",
      "Saved ./dataset/cropped/Vladimir Putin/Vladimir Putin_7.jpg\n",
      "Saved ./dataset/cropped/Vladimir Putin/Vladimir Putin_8.jpg\n",
      "Error processing ./dataset/Vladimir Putin/.DS_Store: cannot identify image file './dataset/Vladimir Putin/.DS_Store'\n",
      "Saved ./dataset/cropped/Vladimir Putin/Vladimir Putin_9.jpg\n",
      "Saved ./dataset/cropped/Vladimir Putin/Vladimir Putin_10.jpg\n",
      "Saved ./dataset/cropped/Vladimir Putin/Vladimir Putin_11.jpg\n",
      "Saved ./dataset/cropped/Vladimir Putin/Vladimir Putin_12.jpg\n",
      "Saved ./dataset/cropped/Vladimir Putin/Vladimir Putin_13.jpg\n",
      "Saved ./dataset/cropped/Vladimir Putin/Vladimir Putin_14.jpg\n",
      "Saved ./dataset/cropped/Vladimir Putin/Vladimir Putin_15.jpg\n",
      "Saved ./dataset/cropped/Vladimir Putin/Vladimir Putin_16.jpg\n",
      "Saved ./dataset/cropped/Vladimir Putin/Vladimir Putin_17.jpg\n",
      "Saved ./dataset/cropped/Vladimir Putin/Vladimir Putin_18.jpg\n",
      "Saved ./dataset/cropped/Vladimir Putin/Vladimir Putin_19.jpg\n",
      "Saved ./dataset/cropped/Vladimir Putin/Vladimir Putin_20.jpg\n",
      "Saved ./dataset/cropped/Vladimir Putin/Vladimir Putin_21.jpg\n",
      "Saved ./dataset/cropped/Vladimir Putin/Vladimir Putin_22.jpg\n",
      "Saved ./dataset/cropped/Vladimir Putin/Vladimir Putin_23.jpg\n",
      "Saved ./dataset/cropped/Vladimir Putin/Vladimir Putin_24.jpg\n",
      "Saved ./dataset/cropped/Vladimir Putin/Vladimir Putin_25.jpg\n",
      "Saved ./dataset/cropped/Vladimir Putin/Vladimir Putin_26.jpg\n",
      "Saved ./dataset/cropped/Vladimir Putin/Vladimir Putin_27.jpg\n",
      "Saved ./dataset/cropped/Vladimir Putin/Vladimir Putin_28.jpg\n",
      "Saved ./dataset/cropped/Vladimir Putin/Vladimir Putin_29.jpg\n",
      "Saved ./dataset/cropped/Vladimir Putin/Vladimir Putin_30.jpg\n",
      "Saved ./dataset/cropped/Vladimir Putin/Vladimir Putin_31.jpg\n",
      "Saved ./dataset/cropped/Vladimir Putin/Vladimir Putin_32.jpg\n",
      "Saved ./dataset/cropped/Vladimir Putin/Vladimir Putin_33.jpg\n",
      "Saved ./dataset/cropped/Vladimir Putin/Vladimir Putin_34.jpg\n",
      "Saved ./dataset/cropped/Vladimir Putin/Vladimir Putin_35.jpg\n",
      "Saved ./dataset/cropped/Vladimir Putin/Vladimir Putin_36.jpg\n",
      "Saved ./dataset/cropped/Vladimir Putin/Vladimir Putin_37.jpg\n",
      "Saved ./dataset/cropped/Vladimir Putin/Vladimir Putin_38.jpg\n",
      "Saved ./dataset/cropped/Vladimir Putin/Vladimir Putin_39.jpg\n",
      "Saved ./dataset/cropped/Vladimir Putin/Vladimir Putin_40.jpg\n",
      "Saved ./dataset/cropped/Vladimir Putin/Vladimir Putin_41.jpg\n",
      "Saved ./dataset/cropped/Vladimir Putin/Vladimir Putin_42.jpg\n",
      "Saved ./dataset/cropped/Vladimir Putin/Vladimir Putin_43.jpg\n",
      "Saved ./dataset/cropped/Vladimir Putin/Vladimir Putin_44.jpg\n",
      "Saved ./dataset/cropped/Vladimir Putin/Vladimir Putin_45.jpg\n",
      "Saved ./dataset/cropped/Vladimir Putin/Vladimir Putin_46.jpg\n",
      "Saved ./dataset/cropped/Vladimir Putin/Vladimir Putin_47.jpg\n",
      "Saved ./dataset/cropped/Vladimir Putin/Vladimir Putin_48.jpg\n",
      "Saved ./dataset/cropped/Vladimir Putin/Vladimir Putin_49.jpg\n",
      "Saved ./dataset/cropped/Vladimir Putin/Vladimir Putin_50.jpg\n",
      "Saved ./dataset/cropped/Vladimir Putin/Vladimir Putin_51.jpg\n",
      "Saved ./dataset/cropped/Vladimir Putin/Vladimir Putin_52.jpg\n",
      "Saved ./dataset/cropped/Vladimir Putin/Vladimir Putin_53.jpg\n",
      "Saved ./dataset/cropped/Vladimir Putin/Vladimir Putin_54.jpg\n",
      "Saved ./dataset/cropped/Vladimir Putin/Vladimir Putin_55.jpg\n",
      "Saved ./dataset/cropped/Vladimir Putin/Vladimir Putin_56.jpg\n",
      "Saved ./dataset/cropped/Vladimir Putin/Vladimir Putin_57.jpg\n",
      "Saved ./dataset/cropped/Vladimir Putin/Vladimir Putin_58.jpg\n",
      "Saved ./dataset/cropped/Vladimir Putin/Vladimir Putin_59.jpg\n",
      "Saved ./dataset/cropped/Vladimir Putin/Vladimir Putin_60.jpg\n",
      "Saved ./dataset/cropped/Vladimir Putin/Vladimir Putin_61.jpg\n",
      "Saved ./dataset/cropped/Vladimir Putin/Vladimir Putin_62.jpg\n",
      "Saved ./dataset/cropped/Vladimir Putin/Vladimir Putin_63.jpg\n",
      "Saved ./dataset/cropped/Vladimir Putin/Vladimir Putin_64.jpg\n",
      "Saved ./dataset/cropped/Vladimir Putin/Vladimir Putin_65.jpg\n",
      "Saved ./dataset/cropped/Vladimir Putin/Vladimir Putin_66.jpg\n",
      "Saved ./dataset/cropped/Vladimir Putin/Vladimir Putin_67.jpg\n",
      "Saved ./dataset/cropped/Vladimir Putin/Vladimir Putin_68.jpg\n",
      "Saved ./dataset/cropped/Vladimir Putin/Vladimir Putin_69.jpg\n",
      "Saved ./dataset/cropped/Vladimir Putin/Vladimir Putin_70.jpg\n",
      "Saved ./dataset/cropped/Vladimir Putin/Vladimir Putin_71.jpg\n",
      "Saved ./dataset/cropped/Vladimir Putin/Vladimir Putin_72.jpg\n",
      "Saved ./dataset/cropped/Vladimir Putin/Vladimir Putin_73.jpg\n",
      "Saved ./dataset/cropped/Vladimir Putin/Vladimir Putin_74.jpg\n",
      "Saved ./dataset/cropped/Vladimir Putin/Vladimir Putin_75.jpg\n",
      "Saved ./dataset/cropped/Vladimir Putin/Vladimir Putin_76.jpg\n",
      "Saved ./dataset/cropped/Vladimir Putin/Vladimir Putin_77.jpg\n",
      "Saved ./dataset/cropped/Vladimir Putin/Vladimir Putin_78.jpg\n",
      "Saved ./dataset/cropped/Vladimir Putin/Vladimir Putin_79.jpg\n",
      "Saved ./dataset/cropped/Vladimir Putin/Vladimir Putin_80.jpg\n",
      "Saved ./dataset/cropped/Vladimir Putin/Vladimir Putin_81.jpg\n",
      "Saved ./dataset/cropped/Vladimir Putin/Vladimir Putin_82.jpg\n",
      "Saved ./dataset/cropped/Vladimir Putin/Vladimir Putin_83.jpg\n",
      "Saved ./dataset/cropped/Vladimir Putin/Vladimir Putin_84.jpg\n",
      "Saved ./dataset/cropped/Vladimir Putin/Vladimir Putin_85.jpg\n",
      "Saved ./dataset/cropped/Vladimir Putin/Vladimir Putin_86.jpg\n",
      "Completed Vladimir Putin. Total faces saved: 87\n",
      "Processing images for Elon Musk\n",
      "Saved ./dataset/cropped/Elon Musk/Elon Musk_0.jpg\n",
      "Saved ./dataset/cropped/Elon Musk/Elon Musk_1.jpg\n",
      "Saved ./dataset/cropped/Elon Musk/Elon Musk_2.jpg\n",
      "Saved ./dataset/cropped/Elon Musk/Elon Musk_3.jpg\n",
      "Saved ./dataset/cropped/Elon Musk/Elon Musk_4.jpg\n",
      "Saved ./dataset/cropped/Elon Musk/Elon Musk_5.jpg\n",
      "Saved ./dataset/cropped/Elon Musk/Elon Musk_6.jpg\n",
      "Saved ./dataset/cropped/Elon Musk/Elon Musk_7.jpg\n",
      "Saved ./dataset/cropped/Elon Musk/Elon Musk_8.jpg\n",
      "Saved ./dataset/cropped/Elon Musk/Elon Musk_9.jpg\n",
      "Saved ./dataset/cropped/Elon Musk/Elon Musk_10.jpg\n",
      "Saved ./dataset/cropped/Elon Musk/Elon Musk_11.jpg\n",
      "Saved ./dataset/cropped/Elon Musk/Elon Musk_12.jpg\n",
      "Saved ./dataset/cropped/Elon Musk/Elon Musk_13.jpg\n",
      "Saved ./dataset/cropped/Elon Musk/Elon Musk_14.jpg\n",
      "Saved ./dataset/cropped/Elon Musk/Elon Musk_15.jpg\n",
      "Saved ./dataset/cropped/Elon Musk/Elon Musk_16.jpg\n",
      "Saved ./dataset/cropped/Elon Musk/Elon Musk_17.jpg\n",
      "Saved ./dataset/cropped/Elon Musk/Elon Musk_18.jpg\n",
      "Saved ./dataset/cropped/Elon Musk/Elon Musk_19.jpg\n",
      "Saved ./dataset/cropped/Elon Musk/Elon Musk_20.jpg\n",
      "Saved ./dataset/cropped/Elon Musk/Elon Musk_21.jpg\n",
      "Saved ./dataset/cropped/Elon Musk/Elon Musk_22.jpg\n",
      "Saved ./dataset/cropped/Elon Musk/Elon Musk_23.jpg\n",
      "Saved ./dataset/cropped/Elon Musk/Elon Musk_24.jpg\n",
      "Saved ./dataset/cropped/Elon Musk/Elon Musk_25.jpg\n",
      "Saved ./dataset/cropped/Elon Musk/Elon Musk_26.jpg\n",
      "Saved ./dataset/cropped/Elon Musk/Elon Musk_27.jpg\n",
      "Saved ./dataset/cropped/Elon Musk/Elon Musk_28.jpg\n",
      "Saved ./dataset/cropped/Elon Musk/Elon Musk_29.jpg\n",
      "Saved ./dataset/cropped/Elon Musk/Elon Musk_30.jpg\n",
      "Saved ./dataset/cropped/Elon Musk/Elon Musk_31.jpg\n",
      "Saved ./dataset/cropped/Elon Musk/Elon Musk_32.jpg\n",
      "Saved ./dataset/cropped/Elon Musk/Elon Musk_33.jpg\n",
      "Saved ./dataset/cropped/Elon Musk/Elon Musk_34.jpg\n",
      "Saved ./dataset/cropped/Elon Musk/Elon Musk_35.jpg\n",
      "Saved ./dataset/cropped/Elon Musk/Elon Musk_36.jpg\n",
      "Saved ./dataset/cropped/Elon Musk/Elon Musk_37.jpg\n",
      "Saved ./dataset/cropped/Elon Musk/Elon Musk_38.jpg\n",
      "Saved ./dataset/cropped/Elon Musk/Elon Musk_39.jpg\n",
      "Saved ./dataset/cropped/Elon Musk/Elon Musk_40.jpg\n",
      "Saved ./dataset/cropped/Elon Musk/Elon Musk_41.jpg\n",
      "Saved ./dataset/cropped/Elon Musk/Elon Musk_42.jpg\n",
      "Saved ./dataset/cropped/Elon Musk/Elon Musk_43.jpg\n",
      "Saved ./dataset/cropped/Elon Musk/Elon Musk_44.jpg\n",
      "Saved ./dataset/cropped/Elon Musk/Elon Musk_45.jpg\n",
      "Saved ./dataset/cropped/Elon Musk/Elon Musk_46.jpg\n",
      "Saved ./dataset/cropped/Elon Musk/Elon Musk_47.jpg\n",
      "Saved ./dataset/cropped/Elon Musk/Elon Musk_48.jpg\n",
      "Saved ./dataset/cropped/Elon Musk/Elon Musk_49.jpg\n",
      "Saved ./dataset/cropped/Elon Musk/Elon Musk_50.jpg\n",
      "Saved ./dataset/cropped/Elon Musk/Elon Musk_51.jpg\n",
      "Saved ./dataset/cropped/Elon Musk/Elon Musk_52.jpg\n",
      "Saved ./dataset/cropped/Elon Musk/Elon Musk_53.jpg\n",
      "Saved ./dataset/cropped/Elon Musk/Elon Musk_54.jpg\n",
      "Saved ./dataset/cropped/Elon Musk/Elon Musk_55.jpg\n",
      "Completed Elon Musk. Total faces saved: 56\n",
      "Processing images for Donald Trump\n",
      "Saved ./dataset/cropped/Donald Trump/Donald Trump_0.jpg\n",
      "Saved ./dataset/cropped/Donald Trump/Donald Trump_1.jpg\n",
      "Saved ./dataset/cropped/Donald Trump/Donald Trump_2.jpg\n",
      "Saved ./dataset/cropped/Donald Trump/Donald Trump_3.jpg\n",
      "Saved ./dataset/cropped/Donald Trump/Donald Trump_4.jpg\n",
      "Saved ./dataset/cropped/Donald Trump/Donald Trump_5.jpg\n",
      "Saved ./dataset/cropped/Donald Trump/Donald Trump_6.jpg\n",
      "Saved ./dataset/cropped/Donald Trump/Donald Trump_7.jpg\n",
      "Saved ./dataset/cropped/Donald Trump/Donald Trump_8.jpg\n",
      "Saved ./dataset/cropped/Donald Trump/Donald Trump_9.jpg\n",
      "Saved ./dataset/cropped/Donald Trump/Donald Trump_10.jpg\n",
      "Saved ./dataset/cropped/Donald Trump/Donald Trump_11.jpg\n",
      "Saved ./dataset/cropped/Donald Trump/Donald Trump_12.jpg\n",
      "Saved ./dataset/cropped/Donald Trump/Donald Trump_13.jpg\n",
      "Saved ./dataset/cropped/Donald Trump/Donald Trump_14.jpg\n",
      "Saved ./dataset/cropped/Donald Trump/Donald Trump_15.jpg\n",
      "Saved ./dataset/cropped/Donald Trump/Donald Trump_16.jpg\n",
      "Saved ./dataset/cropped/Donald Trump/Donald Trump_17.jpg\n",
      "Saved ./dataset/cropped/Donald Trump/Donald Trump_18.jpg\n",
      "Saved ./dataset/cropped/Donald Trump/Donald Trump_19.jpg\n",
      "Saved ./dataset/cropped/Donald Trump/Donald Trump_20.jpg\n",
      "Saved ./dataset/cropped/Donald Trump/Donald Trump_21.jpg\n",
      "Saved ./dataset/cropped/Donald Trump/Donald Trump_22.jpg\n",
      "Saved ./dataset/cropped/Donald Trump/Donald Trump_23.jpg\n",
      "Saved ./dataset/cropped/Donald Trump/Donald Trump_24.jpg\n",
      "Error processing ./dataset/Donald Trump/.DS_Store: cannot identify image file './dataset/Donald Trump/.DS_Store'\n",
      "Saved ./dataset/cropped/Donald Trump/Donald Trump_25.jpg\n",
      "Saved ./dataset/cropped/Donald Trump/Donald Trump_26.jpg\n",
      "Saved ./dataset/cropped/Donald Trump/Donald Trump_27.jpg\n",
      "Saved ./dataset/cropped/Donald Trump/Donald Trump_28.jpg\n",
      "Saved ./dataset/cropped/Donald Trump/Donald Trump_29.jpg\n",
      "Saved ./dataset/cropped/Donald Trump/Donald Trump_30.jpg\n",
      "Saved ./dataset/cropped/Donald Trump/Donald Trump_31.jpg\n",
      "Saved ./dataset/cropped/Donald Trump/Donald Trump_32.jpg\n",
      "Saved ./dataset/cropped/Donald Trump/Donald Trump_33.jpg\n",
      "Saved ./dataset/cropped/Donald Trump/Donald Trump_34.jpg\n",
      "Saved ./dataset/cropped/Donald Trump/Donald Trump_35.jpg\n",
      "Saved ./dataset/cropped/Donald Trump/Donald Trump_36.jpg\n",
      "Saved ./dataset/cropped/Donald Trump/Donald Trump_37.jpg\n",
      "Saved ./dataset/cropped/Donald Trump/Donald Trump_38.jpg\n",
      "Saved ./dataset/cropped/Donald Trump/Donald Trump_39.jpg\n",
      "Saved ./dataset/cropped/Donald Trump/Donald Trump_40.jpg\n",
      "Saved ./dataset/cropped/Donald Trump/Donald Trump_41.jpg\n",
      "Saved ./dataset/cropped/Donald Trump/Donald Trump_42.jpg\n",
      "Saved ./dataset/cropped/Donald Trump/Donald Trump_43.jpg\n",
      "Saved ./dataset/cropped/Donald Trump/Donald Trump_44.jpg\n",
      "Saved ./dataset/cropped/Donald Trump/Donald Trump_45.jpg\n",
      "Saved ./dataset/cropped/Donald Trump/Donald Trump_46.jpg\n",
      "Saved ./dataset/cropped/Donald Trump/Donald Trump_47.jpg\n",
      "Saved ./dataset/cropped/Donald Trump/Donald Trump_48.jpg\n",
      "Saved ./dataset/cropped/Donald Trump/Donald Trump_49.jpg\n",
      "Saved ./dataset/cropped/Donald Trump/Donald Trump_50.jpg\n",
      "Saved ./dataset/cropped/Donald Trump/Donald Trump_51.jpg\n",
      "Saved ./dataset/cropped/Donald Trump/Donald Trump_52.jpg\n",
      "Saved ./dataset/cropped/Donald Trump/Donald Trump_53.jpg\n",
      "Saved ./dataset/cropped/Donald Trump/Donald Trump_54.jpg\n",
      "Saved ./dataset/cropped/Donald Trump/Donald Trump_55.jpg\n",
      "Saved ./dataset/cropped/Donald Trump/Donald Trump_56.jpg\n",
      "Saved ./dataset/cropped/Donald Trump/Donald Trump_57.jpg\n",
      "Saved ./dataset/cropped/Donald Trump/Donald Trump_58.jpg\n",
      "Saved ./dataset/cropped/Donald Trump/Donald Trump_59.jpg\n",
      "Saved ./dataset/cropped/Donald Trump/Donald Trump_60.jpg\n",
      "Saved ./dataset/cropped/Donald Trump/Donald Trump_61.jpg\n",
      "Saved ./dataset/cropped/Donald Trump/Donald Trump_62.jpg\n",
      "Saved ./dataset/cropped/Donald Trump/Donald Trump_63.jpg\n",
      "Saved ./dataset/cropped/Donald Trump/Donald Trump_64.jpg\n",
      "Saved ./dataset/cropped/Donald Trump/Donald Trump_65.jpg\n",
      "Saved ./dataset/cropped/Donald Trump/Donald Trump_66.jpg\n",
      "Saved ./dataset/cropped/Donald Trump/Donald Trump_67.jpg\n",
      "Saved ./dataset/cropped/Donald Trump/Donald Trump_68.jpg\n",
      "Saved ./dataset/cropped/Donald Trump/Donald Trump_69.jpg\n",
      "Saved ./dataset/cropped/Donald Trump/Donald Trump_70.jpg\n",
      "Saved ./dataset/cropped/Donald Trump/Donald Trump_71.jpg\n",
      "Saved ./dataset/cropped/Donald Trump/Donald Trump_72.jpg\n",
      "Saved ./dataset/cropped/Donald Trump/Donald Trump_73.jpg\n",
      "Saved ./dataset/cropped/Donald Trump/Donald Trump_74.jpg\n",
      "Saved ./dataset/cropped/Donald Trump/Donald Trump_75.jpg\n",
      "Saved ./dataset/cropped/Donald Trump/Donald Trump_76.jpg\n",
      "Saved ./dataset/cropped/Donald Trump/Donald Trump_77.jpg\n",
      "Saved ./dataset/cropped/Donald Trump/Donald Trump_78.jpg\n",
      "Saved ./dataset/cropped/Donald Trump/Donald Trump_79.jpg\n",
      "Saved ./dataset/cropped/Donald Trump/Donald Trump_80.jpg\n",
      "Saved ./dataset/cropped/Donald Trump/Donald Trump_81.jpg\n",
      "Saved ./dataset/cropped/Donald Trump/Donald Trump_82.jpg\n",
      "Saved ./dataset/cropped/Donald Trump/Donald Trump_83.jpg\n",
      "Saved ./dataset/cropped/Donald Trump/Donald Trump_84.jpg\n",
      "Saved ./dataset/cropped/Donald Trump/Donald Trump_85.jpg\n",
      "Saved ./dataset/cropped/Donald Trump/Donald Trump_86.jpg\n",
      "Saved ./dataset/cropped/Donald Trump/Donald Trump_87.jpg\n",
      "Saved ./dataset/cropped/Donald Trump/Donald Trump_88.jpg\n",
      "Saved ./dataset/cropped/Donald Trump/Donald Trump_89.jpg\n",
      "Saved ./dataset/cropped/Donald Trump/Donald Trump_90.jpg\n",
      "Saved ./dataset/cropped/Donald Trump/Donald Trump_91.jpg\n",
      "Saved ./dataset/cropped/Donald Trump/Donald Trump_92.jpg\n",
      "Saved ./dataset/cropped/Donald Trump/Donald Trump_93.jpg\n",
      "Saved ./dataset/cropped/Donald Trump/Donald Trump_94.jpg\n",
      "Saved ./dataset/cropped/Donald Trump/Donald Trump_95.jpg\n",
      "Saved ./dataset/cropped/Donald Trump/Donald Trump_96.jpg\n",
      "Saved ./dataset/cropped/Donald Trump/Donald Trump_97.jpg\n",
      "Saved ./dataset/cropped/Donald Trump/Donald Trump_98.jpg\n",
      "Saved ./dataset/cropped/Donald Trump/Donald Trump_99.jpg\n",
      "Saved ./dataset/cropped/Donald Trump/Donald Trump_100.jpg\n",
      "Saved ./dataset/cropped/Donald Trump/Donald Trump_101.jpg\n",
      "Saved ./dataset/cropped/Donald Trump/Donald Trump_102.jpg\n",
      "Saved ./dataset/cropped/Donald Trump/Donald Trump_103.jpg\n",
      "Saved ./dataset/cropped/Donald Trump/Donald Trump_104.jpg\n",
      "Saved ./dataset/cropped/Donald Trump/Donald Trump_105.jpg\n",
      "Saved ./dataset/cropped/Donald Trump/Donald Trump_106.jpg\n",
      "Saved ./dataset/cropped/Donald Trump/Donald Trump_107.jpg\n",
      "Saved ./dataset/cropped/Donald Trump/Donald Trump_108.jpg\n",
      "Saved ./dataset/cropped/Donald Trump/Donald Trump_109.jpg\n",
      "Saved ./dataset/cropped/Donald Trump/Donald Trump_110.jpg\n",
      "Saved ./dataset/cropped/Donald Trump/Donald Trump_111.jpg\n",
      "Saved ./dataset/cropped/Donald Trump/Donald Trump_112.jpg\n",
      "Saved ./dataset/cropped/Donald Trump/Donald Trump_113.jpg\n",
      "Saved ./dataset/cropped/Donald Trump/Donald Trump_114.jpg\n",
      "Saved ./dataset/cropped/Donald Trump/Donald Trump_115.jpg\n",
      "Saved ./dataset/cropped/Donald Trump/Donald Trump_116.jpg\n",
      "Saved ./dataset/cropped/Donald Trump/Donald Trump_117.jpg\n",
      "Saved ./dataset/cropped/Donald Trump/Donald Trump_118.jpg\n",
      "Saved ./dataset/cropped/Donald Trump/Donald Trump_119.jpg\n",
      "Saved ./dataset/cropped/Donald Trump/Donald Trump_120.jpg\n",
      "Saved ./dataset/cropped/Donald Trump/Donald Trump_121.jpg\n",
      "Saved ./dataset/cropped/Donald Trump/Donald Trump_122.jpg\n",
      "Saved ./dataset/cropped/Donald Trump/Donald Trump_123.jpg\n",
      "Saved ./dataset/cropped/Donald Trump/Donald Trump_124.jpg\n",
      "Saved ./dataset/cropped/Donald Trump/Donald Trump_125.jpg\n",
      "Saved ./dataset/cropped/Donald Trump/Donald Trump_126.jpg\n",
      "Saved ./dataset/cropped/Donald Trump/Donald Trump_127.jpg\n",
      "Saved ./dataset/cropped/Donald Trump/Donald Trump_128.jpg\n",
      "Saved ./dataset/cropped/Donald Trump/Donald Trump_129.jpg\n",
      "Saved ./dataset/cropped/Donald Trump/Donald Trump_130.jpg\n",
      "Completed Donald Trump. Total faces saved: 131\n",
      "Processing images for Joe Biden\n",
      "Saved ./dataset/cropped/Joe Biden/Joe Biden_0.jpg\n",
      "Saved ./dataset/cropped/Joe Biden/Joe Biden_1.jpg\n",
      "Saved ./dataset/cropped/Joe Biden/Joe Biden_2.jpg\n",
      "Saved ./dataset/cropped/Joe Biden/Joe Biden_3.jpg\n",
      "Saved ./dataset/cropped/Joe Biden/Joe Biden_4.jpg\n",
      "Saved ./dataset/cropped/Joe Biden/Joe Biden_5.jpg\n",
      "Saved ./dataset/cropped/Joe Biden/Joe Biden_6.jpg\n",
      "Saved ./dataset/cropped/Joe Biden/Joe Biden_7.jpg\n",
      "Saved ./dataset/cropped/Joe Biden/Joe Biden_8.jpg\n",
      "Saved ./dataset/cropped/Joe Biden/Joe Biden_9.jpg\n",
      "Saved ./dataset/cropped/Joe Biden/Joe Biden_10.jpg\n",
      "Saved ./dataset/cropped/Joe Biden/Joe Biden_11.jpg\n",
      "Saved ./dataset/cropped/Joe Biden/Joe Biden_12.jpg\n",
      "Saved ./dataset/cropped/Joe Biden/Joe Biden_13.jpg\n",
      "Error processing ./dataset/Joe Biden/.DS_Store: cannot identify image file './dataset/Joe Biden/.DS_Store'\n",
      "Saved ./dataset/cropped/Joe Biden/Joe Biden_14.jpg\n",
      "Saved ./dataset/cropped/Joe Biden/Joe Biden_15.jpg\n",
      "Saved ./dataset/cropped/Joe Biden/Joe Biden_16.jpg\n",
      "Saved ./dataset/cropped/Joe Biden/Joe Biden_17.jpg\n",
      "Saved ./dataset/cropped/Joe Biden/Joe Biden_18.jpg\n",
      "Saved ./dataset/cropped/Joe Biden/Joe Biden_19.jpg\n",
      "Saved ./dataset/cropped/Joe Biden/Joe Biden_20.jpg\n",
      "Saved ./dataset/cropped/Joe Biden/Joe Biden_21.jpg\n",
      "Saved ./dataset/cropped/Joe Biden/Joe Biden_22.jpg\n",
      "Saved ./dataset/cropped/Joe Biden/Joe Biden_23.jpg\n",
      "Saved ./dataset/cropped/Joe Biden/Joe Biden_24.jpg\n",
      "Saved ./dataset/cropped/Joe Biden/Joe Biden_25.jpg\n",
      "Saved ./dataset/cropped/Joe Biden/Joe Biden_26.jpg\n",
      "Saved ./dataset/cropped/Joe Biden/Joe Biden_27.jpg\n",
      "Saved ./dataset/cropped/Joe Biden/Joe Biden_28.jpg\n",
      "Saved ./dataset/cropped/Joe Biden/Joe Biden_29.jpg\n",
      "Saved ./dataset/cropped/Joe Biden/Joe Biden_30.jpg\n",
      "Saved ./dataset/cropped/Joe Biden/Joe Biden_31.jpg\n",
      "Saved ./dataset/cropped/Joe Biden/Joe Biden_32.jpg\n",
      "Saved ./dataset/cropped/Joe Biden/Joe Biden_33.jpg\n",
      "Saved ./dataset/cropped/Joe Biden/Joe Biden_34.jpg\n",
      "Saved ./dataset/cropped/Joe Biden/Joe Biden_35.jpg\n",
      "Saved ./dataset/cropped/Joe Biden/Joe Biden_36.jpg\n",
      "Saved ./dataset/cropped/Joe Biden/Joe Biden_37.jpg\n",
      "Saved ./dataset/cropped/Joe Biden/Joe Biden_38.jpg\n",
      "Saved ./dataset/cropped/Joe Biden/Joe Biden_39.jpg\n",
      "Saved ./dataset/cropped/Joe Biden/Joe Biden_40.jpg\n",
      "Saved ./dataset/cropped/Joe Biden/Joe Biden_41.jpg\n",
      "Saved ./dataset/cropped/Joe Biden/Joe Biden_42.jpg\n",
      "Saved ./dataset/cropped/Joe Biden/Joe Biden_43.jpg\n",
      "Saved ./dataset/cropped/Joe Biden/Joe Biden_44.jpg\n",
      "Saved ./dataset/cropped/Joe Biden/Joe Biden_45.jpg\n",
      "Saved ./dataset/cropped/Joe Biden/Joe Biden_46.jpg\n",
      "Saved ./dataset/cropped/Joe Biden/Joe Biden_47.jpg\n",
      "Saved ./dataset/cropped/Joe Biden/Joe Biden_48.jpg\n",
      "Saved ./dataset/cropped/Joe Biden/Joe Biden_49.jpg\n",
      "Saved ./dataset/cropped/Joe Biden/Joe Biden_50.jpg\n",
      "Saved ./dataset/cropped/Joe Biden/Joe Biden_51.jpg\n",
      "Saved ./dataset/cropped/Joe Biden/Joe Biden_52.jpg\n",
      "Saved ./dataset/cropped/Joe Biden/Joe Biden_53.jpg\n",
      "Saved ./dataset/cropped/Joe Biden/Joe Biden_54.jpg\n",
      "Saved ./dataset/cropped/Joe Biden/Joe Biden_55.jpg\n",
      "Saved ./dataset/cropped/Joe Biden/Joe Biden_56.jpg\n",
      "Saved ./dataset/cropped/Joe Biden/Joe Biden_57.jpg\n",
      "Saved ./dataset/cropped/Joe Biden/Joe Biden_58.jpg\n",
      "Saved ./dataset/cropped/Joe Biden/Joe Biden_59.jpg\n",
      "Saved ./dataset/cropped/Joe Biden/Joe Biden_60.jpg\n",
      "Saved ./dataset/cropped/Joe Biden/Joe Biden_61.jpg\n",
      "Saved ./dataset/cropped/Joe Biden/Joe Biden_62.jpg\n",
      "Saved ./dataset/cropped/Joe Biden/Joe Biden_63.jpg\n",
      "Saved ./dataset/cropped/Joe Biden/Joe Biden_64.jpg\n",
      "Saved ./dataset/cropped/Joe Biden/Joe Biden_65.jpg\n",
      "Saved ./dataset/cropped/Joe Biden/Joe Biden_66.jpg\n",
      "Saved ./dataset/cropped/Joe Biden/Joe Biden_67.jpg\n",
      "Saved ./dataset/cropped/Joe Biden/Joe Biden_68.jpg\n",
      "Saved ./dataset/cropped/Joe Biden/Joe Biden_69.jpg\n",
      "Saved ./dataset/cropped/Joe Biden/Joe Biden_70.jpg\n",
      "Saved ./dataset/cropped/Joe Biden/Joe Biden_71.jpg\n",
      "Saved ./dataset/cropped/Joe Biden/Joe Biden_72.jpg\n",
      "Saved ./dataset/cropped/Joe Biden/Joe Biden_73.jpg\n",
      "Saved ./dataset/cropped/Joe Biden/Joe Biden_74.jpg\n",
      "Saved ./dataset/cropped/Joe Biden/Joe Biden_75.jpg\n",
      "Saved ./dataset/cropped/Joe Biden/Joe Biden_76.jpg\n",
      "Saved ./dataset/cropped/Joe Biden/Joe Biden_77.jpg\n",
      "Saved ./dataset/cropped/Joe Biden/Joe Biden_78.jpg\n",
      "Saved ./dataset/cropped/Joe Biden/Joe Biden_79.jpg\n",
      "Saved ./dataset/cropped/Joe Biden/Joe Biden_80.jpg\n",
      "Saved ./dataset/cropped/Joe Biden/Joe Biden_81.jpg\n",
      "Saved ./dataset/cropped/Joe Biden/Joe Biden_82.jpg\n",
      "Saved ./dataset/cropped/Joe Biden/Joe Biden_83.jpg\n",
      "Saved ./dataset/cropped/Joe Biden/Joe Biden_84.jpg\n",
      "Saved ./dataset/cropped/Joe Biden/Joe Biden_85.jpg\n",
      "Saved ./dataset/cropped/Joe Biden/Joe Biden_86.jpg\n",
      "Saved ./dataset/cropped/Joe Biden/Joe Biden_87.jpg\n",
      "Saved ./dataset/cropped/Joe Biden/Joe Biden_88.jpg\n",
      "Saved ./dataset/cropped/Joe Biden/Joe Biden_89.jpg\n",
      "Saved ./dataset/cropped/Joe Biden/Joe Biden_90.jpg\n",
      "Saved ./dataset/cropped/Joe Biden/Joe Biden_91.jpg\n",
      "Saved ./dataset/cropped/Joe Biden/Joe Biden_92.jpg\n",
      "Saved ./dataset/cropped/Joe Biden/Joe Biden_93.jpg\n",
      "Saved ./dataset/cropped/Joe Biden/Joe Biden_94.jpg\n",
      "Saved ./dataset/cropped/Joe Biden/Joe Biden_95.jpg\n",
      "Saved ./dataset/cropped/Joe Biden/Joe Biden_96.jpg\n",
      "Saved ./dataset/cropped/Joe Biden/Joe Biden_97.jpg\n",
      "Saved ./dataset/cropped/Joe Biden/Joe Biden_98.jpg\n",
      "Saved ./dataset/cropped/Joe Biden/Joe Biden_99.jpg\n",
      "Saved ./dataset/cropped/Joe Biden/Joe Biden_100.jpg\n",
      "Saved ./dataset/cropped/Joe Biden/Joe Biden_101.jpg\n",
      "Saved ./dataset/cropped/Joe Biden/Joe Biden_102.jpg\n",
      "Saved ./dataset/cropped/Joe Biden/Joe Biden_103.jpg\n",
      "Saved ./dataset/cropped/Joe Biden/Joe Biden_104.jpg\n",
      "Saved ./dataset/cropped/Joe Biden/Joe Biden_105.jpg\n",
      "Saved ./dataset/cropped/Joe Biden/Joe Biden_106.jpg\n",
      "Saved ./dataset/cropped/Joe Biden/Joe Biden_107.jpg\n",
      "Saved ./dataset/cropped/Joe Biden/Joe Biden_108.jpg\n",
      "Saved ./dataset/cropped/Joe Biden/Joe Biden_109.jpg\n",
      "Saved ./dataset/cropped/Joe Biden/Joe Biden_110.jpg\n",
      "Saved ./dataset/cropped/Joe Biden/Joe Biden_111.jpg\n",
      "Saved ./dataset/cropped/Joe Biden/Joe Biden_112.jpg\n",
      "Saved ./dataset/cropped/Joe Biden/Joe Biden_113.jpg\n",
      "Saved ./dataset/cropped/Joe Biden/Joe Biden_114.jpg\n",
      "Saved ./dataset/cropped/Joe Biden/Joe Biden_115.jpg\n",
      "Saved ./dataset/cropped/Joe Biden/Joe Biden_116.jpg\n",
      "Saved ./dataset/cropped/Joe Biden/Joe Biden_117.jpg\n",
      "Saved ./dataset/cropped/Joe Biden/Joe Biden_118.jpg\n",
      "Saved ./dataset/cropped/Joe Biden/Joe Biden_119.jpg\n",
      "Completed Joe Biden. Total faces saved: 120\n",
      "Face detection done\n"
     ]
    }
   ],
   "execution_count": 19
  },
  {
   "metadata": {
    "ExecuteTime": {
     "end_time": "2025-03-09T21:46:50.992471Z",
     "start_time": "2025-03-09T21:46:50.989584Z"
    }
   },
   "cell_type": "code",
   "source": [
    "# Print total images cropped for each person\n",
    "for person, count in face_counters.items():\n",
    "    print(f\"{person}: {count} images\")"
   ],
   "id": "cfdcc4f8753c0785",
   "outputs": [
    {
     "name": "stdout",
     "output_type": "stream",
     "text": [
      "Vladimir Putin: 87 images\n",
      "Elon Musk: 56 images\n",
      "Donald Trump: 131 images\n",
      "Joe Biden: 120 images\n"
     ]
    }
   ],
   "execution_count": 20
  },
  {
   "cell_type": "markdown",
   "id": "61a931d4",
   "metadata": {},
   "source": [
    "### **Creating a Custom Face Dataset for PyTorch Trainings**\n",
    "This section defines a custom PyTorch dataset class (FaceDataset) to load images from a structured dataset directory. Each subdirectory in root_dir represents a different person, and images inside are labeled accordingly.\n",
    "\n",
    "Loops through all subdirectories (each representing a person).\n",
    "Stores image paths and corresponding labels in a list (self.data).\n",
    "Implements PyTorch’s Dataset methods:\n",
    "\n",
    "__len__() → Returns total number of images. \n",
    "\n",
    "__getitem__() → Loads an image and applies transformations."
   ]
  },
  {
   "cell_type": "code",
   "execution_count": 83,
   "id": "c07d6d0e",
   "metadata": {},
   "outputs": [],
   "source": [
    "# Remove the .DS_Store file\n",
    "if os.path.exists('./dataset/cropped/.DS_Store'):\n",
    "    os.remove('./dataset/cropped/.DS_Store')"
   ]
  },
  {
   "cell_type": "code",
   "execution_count": 84,
   "id": "b140480164db2f11",
   "metadata": {
    "ExecuteTime": {
     "end_time": "2025-03-09T21:34:36.490465Z",
     "start_time": "2025-02-24T04:03:24.984582Z"
    }
   },
   "outputs": [
    {
     "data": {
      "text/plain": [
       "['Donald Trump', 'Joe Biden', 'Justin Trudeau', 'Vladimir Putin', 'Xi Jinping']"
      ]
     },
     "execution_count": 84,
     "metadata": {},
     "output_type": "execute_result"
    }
   ],
   "source": [
    "people = sorted(os.listdir(path_to_images))\n",
    "people"
   ]
  },
  {
   "cell_type": "code",
   "execution_count": 85,
   "id": "f9ef5d92",
   "metadata": {},
   "outputs": [
    {
     "name": "stdout",
     "output_type": "stream",
     "text": [
      "Label dictionary: {'Donald Trump': 0, 'Joe Biden': 1, 'Justin Trudeau': 2, 'Vladimir Putin': 3, 'Xi Jinping': 4}\n"
     ]
    }
   ],
   "source": [
    "label_dict = {name : i for i, name in enumerate(people)}\n",
    "print(\"Label dictionary:\", label_dict)"
   ]
  },
  {
   "cell_type": "code",
   "execution_count": 86,
   "id": "0fd06113",
   "metadata": {},
   "outputs": [],
   "source": [
    "from torch.utils.data import DataLoader\n",
    "from torchvision import datasets, transforms\n",
    "\n",
    "transform = transforms.Compose([\n",
    "    transforms.Resize((224, 224)), # Resize to fit ResNet input\n",
    "    transforms.ToTensor(),\n",
    "    transforms.Normalize([0.5], [0.5]) # Normalize pixel values to between -1 and 1\n",
    "])"
   ]
  },
  {
   "cell_type": "code",
   "execution_count": null,
   "id": "4786cf72",
   "metadata": {},
   "outputs": [
    {
     "name": "stdout",
     "output_type": "stream",
     "text": [
      "Image shape: torch.Size([3, 224, 224])\n",
      "Label: 3\n"
     ]
    }
   ],
   "source": [
    "class FaceDataset(torch.utils.data.Dataset):\n",
    "    def __init__(self, root_dir, transform=None):\n",
    "        self.root_dir = root_dir\n",
    "        self.transform = transform\n",
    "        self.data= []\n",
    "\n",
    "        # Loop through all the people in the dataset\n",
    "        for person in os.listdir(root_dir):\n",
    "            # Get the path to the person's directory\n",
    "            person_path = os.path.join(root_dir, person)\n",
    "\n",
    "            # Loop through all the images of the person\n",
    "            if os.path.isdir(person_path):\n",
    "                for image_name in os.listdir(person_path):\n",
    "                    # Get the path to the image and append it to the data list\n",
    "                    image_path = os.path.join(person_path, image_name)\n",
    "                    self.data.append((image_path, label_dict[person]))\n",
    "    # Required by PyTorch’s Dataset class. \n",
    "    # Helps DataLoader determine the number of batches.\n",
    "    def __len__(self):\n",
    "        return len(self.data)\n",
    "    \n",
    "    # DataLoader calls this method to get a sample\n",
    "    def __getitem__(self, idx: int):\n",
    "        img_path, label = self.data[idx]\n",
    "        img = Image.open(img_path).convert('RGB')\n",
    "\n",
    "        if self.transform:\n",
    "            img = self.transform(img)\n",
    "        return img, label\n",
    "    \n",
    "face_dataset = FaceDataset(root_dir=path_to_images, transform=transform)\n",
    "\n",
    "# getitem test\n",
    "img, label = face_dataset[0]\n",
    "print(\"Image shape:\", img.shape)\n",
    "print(\"Label:\", label)"
   ]
  },
  {
   "cell_type": "markdown",
   "id": "5f11d600",
   "metadata": {},
   "source": [
    "### **Select the model for the training**"
   ]
  },
  {
   "cell_type": "code",
   "execution_count": 88,
   "id": "7f317372",
   "metadata": {},
   "outputs": [
    {
     "name": "stdout",
     "output_type": "stream",
     "text": [
      "ResNet(\n",
      "  (conv1): Conv2d(3, 64, kernel_size=(7, 7), stride=(2, 2), padding=(3, 3), bias=False)\n",
      "  (bn1): BatchNorm2d(64, eps=1e-05, momentum=0.1, affine=True, track_running_stats=True)\n",
      "  (relu): ReLU(inplace=True)\n",
      "  (maxpool): MaxPool2d(kernel_size=3, stride=2, padding=1, dilation=1, ceil_mode=False)\n",
      "  (layer1): Sequential(\n",
      "    (0): BasicBlock(\n",
      "      (conv1): Conv2d(64, 64, kernel_size=(3, 3), stride=(1, 1), padding=(1, 1), bias=False)\n",
      "      (bn1): BatchNorm2d(64, eps=1e-05, momentum=0.1, affine=True, track_running_stats=True)\n",
      "      (relu): ReLU(inplace=True)\n",
      "      (conv2): Conv2d(64, 64, kernel_size=(3, 3), stride=(1, 1), padding=(1, 1), bias=False)\n",
      "      (bn2): BatchNorm2d(64, eps=1e-05, momentum=0.1, affine=True, track_running_stats=True)\n",
      "    )\n",
      "    (1): BasicBlock(\n",
      "      (conv1): Conv2d(64, 64, kernel_size=(3, 3), stride=(1, 1), padding=(1, 1), bias=False)\n",
      "      (bn1): BatchNorm2d(64, eps=1e-05, momentum=0.1, affine=True, track_running_stats=True)\n",
      "      (relu): ReLU(inplace=True)\n",
      "      (conv2): Conv2d(64, 64, kernel_size=(3, 3), stride=(1, 1), padding=(1, 1), bias=False)\n",
      "      (bn2): BatchNorm2d(64, eps=1e-05, momentum=0.1, affine=True, track_running_stats=True)\n",
      "    )\n",
      "  )\n",
      "  (layer2): Sequential(\n",
      "    (0): BasicBlock(\n",
      "      (conv1): Conv2d(64, 128, kernel_size=(3, 3), stride=(2, 2), padding=(1, 1), bias=False)\n",
      "      (bn1): BatchNorm2d(128, eps=1e-05, momentum=0.1, affine=True, track_running_stats=True)\n",
      "      (relu): ReLU(inplace=True)\n",
      "      (conv2): Conv2d(128, 128, kernel_size=(3, 3), stride=(1, 1), padding=(1, 1), bias=False)\n",
      "      (bn2): BatchNorm2d(128, eps=1e-05, momentum=0.1, affine=True, track_running_stats=True)\n",
      "      (downsample): Sequential(\n",
      "        (0): Conv2d(64, 128, kernel_size=(1, 1), stride=(2, 2), bias=False)\n",
      "        (1): BatchNorm2d(128, eps=1e-05, momentum=0.1, affine=True, track_running_stats=True)\n",
      "      )\n",
      "    )\n",
      "    (1): BasicBlock(\n",
      "      (conv1): Conv2d(128, 128, kernel_size=(3, 3), stride=(1, 1), padding=(1, 1), bias=False)\n",
      "      (bn1): BatchNorm2d(128, eps=1e-05, momentum=0.1, affine=True, track_running_stats=True)\n",
      "      (relu): ReLU(inplace=True)\n",
      "      (conv2): Conv2d(128, 128, kernel_size=(3, 3), stride=(1, 1), padding=(1, 1), bias=False)\n",
      "      (bn2): BatchNorm2d(128, eps=1e-05, momentum=0.1, affine=True, track_running_stats=True)\n",
      "    )\n",
      "  )\n",
      "  (layer3): Sequential(\n",
      "    (0): BasicBlock(\n",
      "      (conv1): Conv2d(128, 256, kernel_size=(3, 3), stride=(2, 2), padding=(1, 1), bias=False)\n",
      "      (bn1): BatchNorm2d(256, eps=1e-05, momentum=0.1, affine=True, track_running_stats=True)\n",
      "      (relu): ReLU(inplace=True)\n",
      "      (conv2): Conv2d(256, 256, kernel_size=(3, 3), stride=(1, 1), padding=(1, 1), bias=False)\n",
      "      (bn2): BatchNorm2d(256, eps=1e-05, momentum=0.1, affine=True, track_running_stats=True)\n",
      "      (downsample): Sequential(\n",
      "        (0): Conv2d(128, 256, kernel_size=(1, 1), stride=(2, 2), bias=False)\n",
      "        (1): BatchNorm2d(256, eps=1e-05, momentum=0.1, affine=True, track_running_stats=True)\n",
      "      )\n",
      "    )\n",
      "    (1): BasicBlock(\n",
      "      (conv1): Conv2d(256, 256, kernel_size=(3, 3), stride=(1, 1), padding=(1, 1), bias=False)\n",
      "      (bn1): BatchNorm2d(256, eps=1e-05, momentum=0.1, affine=True, track_running_stats=True)\n",
      "      (relu): ReLU(inplace=True)\n",
      "      (conv2): Conv2d(256, 256, kernel_size=(3, 3), stride=(1, 1), padding=(1, 1), bias=False)\n",
      "      (bn2): BatchNorm2d(256, eps=1e-05, momentum=0.1, affine=True, track_running_stats=True)\n",
      "    )\n",
      "  )\n",
      "  (layer4): Sequential(\n",
      "    (0): BasicBlock(\n",
      "      (conv1): Conv2d(256, 512, kernel_size=(3, 3), stride=(2, 2), padding=(1, 1), bias=False)\n",
      "      (bn1): BatchNorm2d(512, eps=1e-05, momentum=0.1, affine=True, track_running_stats=True)\n",
      "      (relu): ReLU(inplace=True)\n",
      "      (conv2): Conv2d(512, 512, kernel_size=(3, 3), stride=(1, 1), padding=(1, 1), bias=False)\n",
      "      (bn2): BatchNorm2d(512, eps=1e-05, momentum=0.1, affine=True, track_running_stats=True)\n",
      "      (downsample): Sequential(\n",
      "        (0): Conv2d(256, 512, kernel_size=(1, 1), stride=(2, 2), bias=False)\n",
      "        (1): BatchNorm2d(512, eps=1e-05, momentum=0.1, affine=True, track_running_stats=True)\n",
      "      )\n",
      "    )\n",
      "    (1): BasicBlock(\n",
      "      (conv1): Conv2d(512, 512, kernel_size=(3, 3), stride=(1, 1), padding=(1, 1), bias=False)\n",
      "      (bn1): BatchNorm2d(512, eps=1e-05, momentum=0.1, affine=True, track_running_stats=True)\n",
      "      (relu): ReLU(inplace=True)\n",
      "      (conv2): Conv2d(512, 512, kernel_size=(3, 3), stride=(1, 1), padding=(1, 1), bias=False)\n",
      "      (bn2): BatchNorm2d(512, eps=1e-05, momentum=0.1, affine=True, track_running_stats=True)\n",
      "    )\n",
      "  )\n",
      "  (avgpool): AdaptiveAvgPool2d(output_size=(1, 1))\n",
      "  (fc): Linear(in_features=512, out_features=5, bias=True)\n",
      ")\n"
     ]
    }
   ],
   "source": [
    "import torch.nn as nn\n",
    "import torchvision.models as models\n",
    "\n",
    "# Load the pretrained ResNet model\n",
    "model = models.resnet18(pretrained=True)\n",
    "\n",
    "# modify the final layer to output the number of classes in our dataset\n",
    "num_classes = len(people)\n",
    "\n",
    "# Resnet has 18 layers that are already trained\n",
    "# we freeze the earlier layers and only train the last fully connected (FC) layer. \n",
    "# This is called Transfer Learning.\n",
    "\n",
    "model.fc = nn.Linear(model.fc.in_features, num_classes)\n",
    "\n",
    "print(model)\n"
   ]
  },
  {
   "cell_type": "code",
   "execution_count": null,
   "id": "9f4b0e10",
   "metadata": {},
   "outputs": [
    {
     "name": "stdout",
     "output_type": "stream",
     "text": [
      "Epoch 1, Train Loss: 0.8946371898055077, Val Loss: 3.741490602493286\n",
      "Epoch 2, Train Loss: 0.1574297919869423, Val Loss: 4.898905515670776\n",
      "Epoch 3, Train Loss: 0.12580684696634611, Val Loss: 3.7763350009918213\n",
      "Epoch 4, Train Loss: 0.10956310294568539, Val Loss: 0.8412430584430695\n",
      "Epoch 5, Train Loss: 0.05938295150796572, Val Loss: 1.9780666828155518\n",
      "Epoch 6, Train Loss: 0.09878160936447482, Val Loss: 1.2219275832176208\n",
      "Epoch 7, Train Loss: 0.051368876437967025, Val Loss: 0.38434572517871857\n",
      "Epoch 8, Train Loss: 0.006500377901829779, Val Loss: 0.3312400132417679\n",
      "Epoch 9, Train Loss: 0.016528285341337323, Val Loss: 0.2907616049051285\n",
      "Epoch 10, Train Loss: 0.005388321432595451, Val Loss: 0.32868072390556335\n",
      "Epoch 11, Train Loss: 0.002405960171017796, Val Loss: 0.243282288312912\n",
      "Epoch 12, Train Loss: 0.001541079138405621, Val Loss: 0.2577904760837555\n",
      "Epoch 13, Train Loss: 0.0050527098355814815, Val Loss: 0.3040517494082451\n",
      "Epoch 14, Train Loss: 0.0010680185271970306, Val Loss: 0.21131274849176407\n",
      "Epoch 15, Train Loss: 0.0005556713780000185, Val Loss: 0.15684313606470823\n",
      "Epoch 16, Train Loss: 0.0007079172161562989, Val Loss: 0.25456928089261055\n",
      "Epoch 17, Train Loss: 0.0009224525517007957, Val Loss: 0.16213240753859282\n",
      "Epoch 18, Train Loss: 0.000782749688369222, Val Loss: 0.2653450034558773\n",
      "Epoch 19, Train Loss: 0.0005218358201091178, Val Loss: 0.20347147434949875\n",
      "Epoch 20, Train Loss: 0.00029670545215291594, Val Loss: 0.17503919452428818\n"
     ]
    }
   ],
   "source": [
    "import torch.optim as optim\n",
    "\n",
    "# Split the dataset into training and validation sets\n",
    "train_dataset, val_dataset = torch.utils.data.random_split(face_dataset, [int(0.8 * len(face_dataset)), len(face_dataset) - int(0.8 * len(face_dataset))])\n",
    "train_loader = DataLoader(train_dataset, batch_size=32, shuffle=True)\n",
    "val_loader = DataLoader(val_dataset, batch_size=32, shuffle=True)\n",
    "\n",
    "# Define the loss function and optimizer\n",
    "criterion = nn.CrossEntropyLoss()\n",
    "optimizer = optim.Adam(model.parameters(), lr=0.001)\n",
    "\n",
    "# training loop\n",
    "num_epochs = 20\n",
    "best_loss = float('inf')\n",
    "\n",
    "for epoch in range(num_epochs):\n",
    "    model.train()\n",
    "    running_lost = 0.0\n",
    "\n",
    "    for images, labels in train_loader:\n",
    "        optimizer.zero_grad()\n",
    "        \n",
    "        outputs = model(images)\n",
    "        loss = criterion(outputs, labels)\n",
    "\n",
    "        loss.backward()\n",
    "        optimizer.step()\n",
    "\n",
    "        running_lost += loss.item()\n",
    "\n",
    "    model.eval()\n",
    "    val_loss = 0.0\n",
    "    with torch.inference_mode():\n",
    "        for images, labels in val_loader:\n",
    "            outputs = model(images)\n",
    "            loss = criterion(outputs, labels)\n",
    "            val_loss += loss.item()\n",
    "\n",
    "    print(f\"Epoch {epoch+1}, Train Loss: {running_lost/len(train_loader)}, Val Loss: {val_loss/len(val_loader)}\")\n",
    "\n",
    "    if val_loss < best_loss:\n",
    "        best_loss = val_loss\n",
    "        torch.save(model.state_dict(), 'best_model.pth')"
   ]
  },
  {
   "cell_type": "markdown",
   "id": "142ff3fe",
   "metadata": {},
   "source": [
    "### **Testing the model**"
   ]
  },
  {
   "cell_type": "code",
   "execution_count": 90,
   "id": "98256ca0",
   "metadata": {},
   "outputs": [
    {
     "data": {
      "text/plain": [
       "<All keys matched successfully>"
      ]
     },
     "execution_count": 90,
     "metadata": {},
     "output_type": "execute_result"
    }
   ],
   "source": [
    "model.load_state_dict(torch.load('best_model.pth'))"
   ]
  },
  {
   "cell_type": "code",
   "execution_count": 91,
   "id": "12c1ef8d",
   "metadata": {},
   "outputs": [],
   "source": [
    "def classify_new_image(img_path, model, transform, label_dict):\n",
    "    model.eval()\n",
    "\n",
    "    image = Image.open(img_path).convert('RGB')\n",
    "    image = transform(image).unsqueeze(0)\n",
    "\n",
    "    with torch.no_grad():\n",
    "        output = model(image)\n",
    "        probabilities = torch.nn.functional.softmax(output, dim=1)\n",
    "        confidence, predicted_class = torch.max(probabilities, dim=1)\n",
    "\n",
    "    predicted_label = list(label_dict.keys())[list(label_dict.values()).index(predicted_class.item())]\n",
    "    print(f\"Predicted: {predicted_label} (Confidence: {confidence.item()*100:.2f}%)\")\n",
    "    return predicted_label"
   ]
  },
  {
   "cell_type": "code",
   "execution_count": 92,
   "id": "c0236e97",
   "metadata": {},
   "outputs": [
    {
     "name": "stdout",
     "output_type": "stream",
     "text": [
      "Predicted: Donald Trump (Confidence: 99.99%)\n"
     ]
    },
    {
     "data": {
      "text/plain": [
       "'Donald Trump'"
      ]
     },
     "execution_count": 92,
     "metadata": {},
     "output_type": "execute_result"
    }
   ],
   "source": [
    "test_image_path = './test_images/Trump.png'\n",
    "classify_new_image(test_image_path, model, transform, label_dict)"
   ]
  },
  {
   "cell_type": "code",
   "execution_count": 95,
   "id": "5aa67c51",
   "metadata": {},
   "outputs": [
    {
     "name": "stdout",
     "output_type": "stream",
     "text": [
      "Predicted: Vladimir Putin (Confidence: 66.13%)\n"
     ]
    },
    {
     "data": {
      "text/plain": [
       "'Vladimir Putin'"
      ]
     },
     "execution_count": 95,
     "metadata": {},
     "output_type": "execute_result"
    }
   ],
   "source": [
    "test_image_path = './test_images/Putin.png'\n",
    "classify_new_image(test_image_path, model, transform, label_dict)"
   ]
  },
  {
   "cell_type": "code",
   "execution_count": 98,
   "id": "f25fa71d",
   "metadata": {},
   "outputs": [
    {
     "name": "stdout",
     "output_type": "stream",
     "text": [
      "Predicted: Justin Trudeau (Confidence: 71.14%)\n"
     ]
    },
    {
     "data": {
      "text/plain": [
       "'Justin Trudeau'"
      ]
     },
     "execution_count": 98,
     "metadata": {},
     "output_type": "execute_result"
    }
   ],
   "source": [
    "test_image_path = './test_images/Trudeau.png'\n",
    "classify_new_image(test_image_path, model, transform, label_dict)"
   ]
  }
 ],
 "metadata": {
  "kernelspec": {
   "display_name": "image-classification",
   "language": "python",
   "name": "python3"
  },
  "language_info": {
   "codemirror_mode": {
    "name": "ipython",
    "version": 3
   },
   "file_extension": ".py",
   "mimetype": "text/x-python",
   "name": "python",
   "nbconvert_exporter": "python",
   "pygments_lexer": "ipython3",
   "version": "3.12.9"
  }
 },
 "nbformat": 4,
 "nbformat_minor": 5
}

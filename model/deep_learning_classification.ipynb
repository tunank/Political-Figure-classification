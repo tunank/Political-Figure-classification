{
 "cells": [
  {
   "cell_type": "code",
   "execution_count": 1,
   "id": "initial_id",
   "metadata": {
    "ExecuteTime": {
     "end_time": "2025-02-24T04:04:11.942063Z",
     "start_time": "2025-02-24T04:04:11.938582Z"
    },
    "collapsed": true
   },
   "outputs": [
    {
     "name": "stderr",
     "output_type": "stream",
     "text": [
      "/opt/anaconda3/envs/image-classification/lib/python3.12/site-packages/tqdm/auto.py:21: TqdmWarning: IProgress not found. Please update jupyter and ipywidgets. See https://ipywidgets.readthedocs.io/en/stable/user_install.html\n",
      "  from .autonotebook import tqdm as notebook_tqdm\n"
     ]
    }
   ],
   "source": [
    "import os\n",
    "import shutil\n",
    "from facenet_pytorch import MTCNN\n",
    "import cv2\n",
    "import torch\n",
    "import numpy as np\n",
    "from deepface import DeepFace\n",
    "from PIL import Image"
   ]
  },
  {
   "cell_type": "markdown",
   "id": "623610c54a3a634a",
   "metadata": {},
   "source": [
    "### **Get path, create, and crop the image with the corresponding person**\n",
    "Get the path to the images, get the names of the directories (which are the political figures), scanned through all of the images, crop them, and then create a directory to store them"
   ]
  },
  {
   "cell_type": "code",
   "execution_count": 3,
   "id": "8897b3a2487951fd",
   "metadata": {
    "ExecuteTime": {
     "end_time": "2025-02-24T04:03:23.803716Z",
     "start_time": "2025-02-24T04:03:23.800597Z"
    }
   },
   "outputs": [],
   "source": [
    "path_to_data = './dataset/'\n",
    "path_to_images = './dataset/cropped/'"
   ]
  },
  {
   "cell_type": "code",
   "execution_count": 11,
   "id": "51bdad07925ffdff",
   "metadata": {
    "ExecuteTime": {
     "end_time": "2025-02-24T04:03:26.526798Z",
     "start_time": "2025-02-24T04:03:26.522253Z"
    }
   },
   "outputs": [
    {
     "data": {
      "text/plain": [
       "['./dataset/Vladimir Putin',\n",
       " './dataset/Xi Jinping',\n",
       " './dataset/Justin Trudeau',\n",
       " './dataset/Donald Trump',\n",
       " './dataset/Joe Biden']"
      ]
     },
     "execution_count": 11,
     "metadata": {},
     "output_type": "execute_result"
    }
   ],
   "source": [
    "img_dir = [entry.path for entry in os.scandir(path_to_data) if entry.is_dir()]\n",
    "img_dir"
   ]
  },
  {
   "cell_type": "code",
   "execution_count": 4,
   "id": "6f7fb727afb35fda",
   "metadata": {
    "ExecuteTime": {
     "end_time": "2025-02-24T04:03:28.692493Z",
     "start_time": "2025-02-24T04:03:28.688029Z"
    }
   },
   "outputs": [
    {
     "data": {
      "text/plain": [
       "True"
      ]
     },
     "execution_count": 4,
     "metadata": {},
     "output_type": "execute_result"
    }
   ],
   "source": [
    "os.path.exists(path_to_images)"
   ]
  },
  {
   "cell_type": "code",
   "execution_count": 5,
   "id": "f1eaef826caade46",
   "metadata": {
    "ExecuteTime": {
     "end_time": "2025-02-24T04:03:46.716626Z",
     "start_time": "2025-02-24T04:03:46.690907Z"
    }
   },
   "outputs": [],
   "source": [
    "# Load MTCNN face detector\n",
    "mtcnn = MTCNN(keep_all=True)"
   ]
  },
  {
   "cell_type": "code",
   "execution_count": 15,
   "id": "de04a26d0e20b39b",
   "metadata": {
    "ExecuteTime": {
     "end_time": "2025-02-24T04:08:15.885570Z",
     "start_time": "2025-02-24T04:08:15.878502Z"
    }
   },
   "outputs": [
    {
     "name": "stdout",
     "output_type": "stream",
     "text": [
      "Processing images for Vladimir Putin\n",
      "Error processing ./dataset/Vladimir Putin/f9019acd83844a216489dd46c0caa81b47c86edf.jpg: unknown file extension: \n",
      "Error processing ./dataset/Vladimir Putin/45d545b8af8b03517e84618086f7353aa3b3c958.jpg: unknown file extension: \n",
      "Error processing ./dataset/Vladimir Putin/ad31b3eeefa4cd1bb9bbf6484f30e326a1334de2.jpg: unknown file extension: \n",
      "Error processing ./dataset/Vladimir Putin/4abe5f488defbc533b24a8c910234c51e64b773d.jpg: unknown file extension: \n",
      "Error processing ./dataset/Vladimir Putin/1de3be676ab68094ff52cac4cb8fba4ff5300d56.jpg: unknown file extension: \n",
      "Error processing ./dataset/Vladimir Putin/935cf3b6a3a2a48c4e42510fb7dad8fd09e81b51.jpg: unknown file extension: \n",
      "Error processing ./dataset/Vladimir Putin/b919b6e96a0fc29703f4f1c6523ed54473ec7c86.jpg: unknown file extension: \n",
      "Error processing ./dataset/Vladimir Putin/4e39eab840d24eb94d15dc8b2be8fea974c988fd.jpg: unknown file extension: \n",
      "Error processing ./dataset/Vladimir Putin/a6267ada27b21e1d0603a78e9c91d6dd1a9e08da.jpg: unknown file extension: \n",
      "Error processing ./dataset/Vladimir Putin/e5e41feedb4a0f9164ee5650ace0f0a5b412cdf0.jpg: unknown file extension: \n",
      "Error processing ./dataset/Vladimir Putin/720e85e51a9bd1c3f51561cff14ff866548fb206.jpg: unknown file extension: \n",
      "Error processing ./dataset/Vladimir Putin/abf00892be95309bb7aa20a5198eeb2da0ddd16c.jpg: unknown file extension: \n",
      "Error processing ./dataset/Vladimir Putin/d21ef2bf7140ef22cabd51fe819a12a37ad0e31d.jpg: unknown file extension: \n",
      "Error processing ./dataset/Vladimir Putin/3c1f5b16c8f6297ef1379d672cdc736f7149a871.jpg: unknown file extension: \n",
      "Error processing ./dataset/Vladimir Putin/.DS_Store: cannot identify image file './dataset/Vladimir Putin/.DS_Store'\n",
      "Error processing ./dataset/Vladimir Putin/d3d2f5503c24c3dbbc2e1b079a3f17a7f138703a.jpg: unknown file extension: \n",
      "Error processing ./dataset/Vladimir Putin/a6123f8694af8ec42b483219b8ea71e6167b9e37.jpg: unknown file extension: \n",
      "Error processing ./dataset/Vladimir Putin/161cd091b76c241bd5279b7b7b292dd1c7c39ac4.jpg: unknown file extension: \n",
      "Error processing ./dataset/Vladimir Putin/8970b9ca44f11a324d1715f53ad127940d6aa0b2.jpg: unknown file extension: \n",
      "Error processing ./dataset/Vladimir Putin/db4c508494c042fc1639d9db16590731e18e8347.jpg: unknown file extension: \n",
      "Error processing ./dataset/Vladimir Putin/070e35e0d88d8a2be1f8e808d81c15355ca91c9a.jpg: unknown file extension: \n",
      "Error processing ./dataset/Vladimir Putin/12f14e94dc75628b3a07b14869b5c103fe0182ba.jpg: unknown file extension: \n",
      "Error processing ./dataset/Vladimir Putin/860b2fc9e329a49718892317a9786ff314c07ed2.jpg: unknown file extension: \n",
      "Error processing ./dataset/Vladimir Putin/0d547f80c9ff395b04b4c248945309f1603eb6a1.jpg: unknown file extension: \n",
      "Error processing ./dataset/Vladimir Putin/99a3b7a0e521974c1dcf1597c2e6bce46bfa6cd9.jpg: unknown file extension: \n",
      "Error processing ./dataset/Vladimir Putin/c9ea44be29d8ac6b02eafa001aebd31b8631e540.jpg: unknown file extension: \n",
      "Error processing ./dataset/Vladimir Putin/068c481fd86d31a66156c342577e66938748e8c5.jpg: unknown file extension: \n",
      "Error processing ./dataset/Vladimir Putin/2a88a438cab78f1f03abaeae845359154fc7b439.jpg: unknown file extension: \n",
      "Error processing ./dataset/Vladimir Putin/3ee01b12b67e9d40a5faa148f8c62142ba17ffbe.jpg: unknown file extension: \n",
      "Error processing ./dataset/Vladimir Putin/138fc6b8318f0a1d8cfad94c076c67851a36701c.jpg: unknown file extension: \n",
      "Error processing ./dataset/Vladimir Putin/403b9681179bbc22139e10a0d358b00f3e086f43.jpg: unknown file extension: \n",
      "Error processing ./dataset/Vladimir Putin/2bd4c8e8b8f46062d58f67fc7915e93fc1d6ba6c.jpg: unknown file extension: \n",
      "Error processing ./dataset/Vladimir Putin/5b3265be69ebe4e8bb0390f19185ccbb817a8c57.jpg: unknown file extension: \n",
      "Error processing ./dataset/Vladimir Putin/d7609a71b7c4e6e052cf04da15b6f061e744292e.jpg: unknown file extension: \n",
      "Error processing ./dataset/Vladimir Putin/08107cd33baf1b9fc256d07902d49066e1ccc32c.jpg: unknown file extension: \n",
      "Error processing ./dataset/Vladimir Putin/f67fe51fddee23b8d7dabd3ff50dd304125817dd.jpg: unknown file extension: \n",
      "Error processing ./dataset/Vladimir Putin/6b3daa31fffd8e39ebc6fd2c85792f4db771e239.jpg: unknown file extension: \n",
      "Error processing ./dataset/Vladimir Putin/6723bc879c76a67493c03c7266e936bf641d95c2.jpg: unknown file extension: \n",
      "Error processing ./dataset/Vladimir Putin/5f23dbeab368c14691391674df467ebf6f23366b.jpg: unknown file extension: \n",
      "Error processing ./dataset/Vladimir Putin/fea8724d7fa240cd75d285f0e4d978e96489185d.jpg: unknown file extension: \n",
      "Error processing ./dataset/Vladimir Putin/86bb1325a00c7dccea80d96fb5766f4acb483c84.jpg: unknown file extension: \n",
      "Error processing ./dataset/Vladimir Putin/a494a36d7cb1b6c859d8c7ce7a2c11a185e56a34.jpg: unknown file extension: \n",
      "Error processing ./dataset/Vladimir Putin/4db501e0fea2b9c85fc18724ce3dc6869e06be55.jpg: unknown file extension: \n",
      "Error processing ./dataset/Vladimir Putin/9fca0b279897dbe520dcad9b2d4e88ff237197ea.jpg: unknown file extension: \n",
      "Error processing ./dataset/Vladimir Putin/e8859563ef1ccf0724932cc604bfaed54a53e4c7.jpg: unknown file extension: \n",
      "Error processing ./dataset/Vladimir Putin/8eacd9e50bd0512d070e777a5275c78553f1bd58.jpg: unknown file extension: \n",
      "Error processing ./dataset/Vladimir Putin/5230839cc8bbf9545438b191dda932cfc84de99f.jpg: unknown file extension: \n",
      "Error processing ./dataset/Vladimir Putin/b252b3a6266b0ba6b35c01ef71b8bbc5e79e9352.jpg: unknown file extension: \n",
      "Error processing ./dataset/Vladimir Putin/5486c5419ab71f8bd071df2b69b484f783160c5c.jpg: unknown file extension: \n",
      "Error processing ./dataset/Vladimir Putin/1fab9ff60fd42ed2ef080dcc90fefbab7fbc0c5f.jpg: unknown file extension: \n",
      "Error processing ./dataset/Vladimir Putin/9658b128febef849c401d697ae32d1b06345ea4a.jpg: unknown file extension: \n",
      "Error processing ./dataset/Vladimir Putin/f9914867a3f10bf44b692511fc039f49f55585b8.jpg: unknown file extension: \n",
      "Error processing ./dataset/Vladimir Putin/8a3cd333ea48dbf9f0655f430567b15a5b88e85f.jpg: unknown file extension: \n",
      "Error processing ./dataset/Vladimir Putin/1c11bf92d0afcc9d55323303e1eff1eef2239a62.jpg: unknown file extension: \n",
      "Error processing ./dataset/Vladimir Putin/c1afc8afc727d79301c72d50212d4c889934b4ac.jpg: unknown file extension: \n",
      "Error processing ./dataset/Vladimir Putin/d5869e3261959e25b4b2a82d27c29585aa687291.jpg: unknown file extension: \n",
      "Error processing ./dataset/Vladimir Putin/989f9d5d33e4162c5a6f18915eae473a0c3287ae.jpg: unknown file extension: \n",
      "Error processing ./dataset/Vladimir Putin/62aa503b9dc66a5ae611410b017ddecb80f45e06.jpg: unknown file extension: \n",
      "Error processing ./dataset/Vladimir Putin/ac1194efcaa21e223e79605f687ec53e25197b1b.jpg: unknown file extension: \n",
      "Error processing ./dataset/Vladimir Putin/a588039deadf7bdc02ed0005887411eb81371897.jpg: unknown file extension: \n",
      "Processing images for Xi Jinping\n",
      "Error processing ./dataset/Xi Jinping/f9019acd83844a216489dd46c0caa81b47c86edf.jpg: unknown file extension: \n",
      "Error processing ./dataset/Xi Jinping/2cb75c7247a1809cf4f131ee9e94c69ed8d429a6.jpg: unknown file extension: \n",
      "Error processing ./dataset/Xi Jinping/08a4f0f9585814ef56ba47767c4d27a83b813e34.jpg: unknown file extension: \n",
      "Error processing ./dataset/Xi Jinping/a34c717adc440f3cff97e3324ec833e05b44dc08.jpg: unknown file extension: \n",
      "Error processing ./dataset/Xi Jinping/ef7e118c7dc8ef312fb7ee35aad7a9283b5707a0.jpg: unknown file extension: \n",
      "Error processing ./dataset/Xi Jinping/cafd8e1bdf9debf7ccecb68a7cba430b759c58d7.jpg: unknown file extension: \n",
      "Error processing ./dataset/Xi Jinping/b919b6e96a0fc29703f4f1c6523ed54473ec7c86.jpg: unknown file extension: \n",
      "Error processing ./dataset/Xi Jinping/4e39eab840d24eb94d15dc8b2be8fea974c988fd.jpg: unknown file extension: \n",
      "Error processing ./dataset/Xi Jinping/69d11395009e1c35e496c64b70762cd1ef7f74fa.jpg: unknown file extension: \n",
      "Error processing ./dataset/Xi Jinping/f27438fbb4a816f8787051bd7bec604898b64c30.jpg: unknown file extension: \n",
      "Error processing ./dataset/Xi Jinping/c9d364311fc1b7591796f9eb358f69edb9b1b4f5.jpg: unknown file extension: \n",
      "Error processing ./dataset/Xi Jinping/9d9c909a24af4eae51f77d106b3d53425894b229.jpg: unknown file extension: \n",
      "Error processing ./dataset/Xi Jinping/.DS_Store: cannot identify image file './dataset/Xi Jinping/.DS_Store'\n",
      "Error processing ./dataset/Xi Jinping/d3d2f5503c24c3dbbc2e1b079a3f17a7f138703a.jpg: unknown file extension: \n",
      "Error processing ./dataset/Xi Jinping/d4850c68fb1a7886acbd1ef9f99fbb013ead0cd5.jpg: unknown file extension: \n",
      "Error processing ./dataset/Xi Jinping/e4855cf69279025e9be7fdabd70b8fb28db0d72f.jpg: unknown file extension: \n",
      "Error processing ./dataset/Xi Jinping/be83cc67fb18086991067900789f0555462104e2.jpg: unknown file extension: \n",
      "Error processing ./dataset/Xi Jinping/87b5732798b62a5dc23a85e9a627242b090c3a4a.jpg: unknown file extension: \n",
      "Error processing ./dataset/Xi Jinping/1e73782c5543ac04329075de752e85f157d7a15f.jpg: unknown file extension: \n",
      "Error processing ./dataset/Xi Jinping/860b2fc9e329a49718892317a9786ff314c07ed2.jpg: unknown file extension: \n",
      "Error processing ./dataset/Xi Jinping/bf59ad3529400641151b6e8b9e914b3235349add.jpg: unknown file extension: \n",
      "Error processing ./dataset/Xi Jinping/cb850c630b7d009b1cd735414181d5b09f05f981.jpg: unknown file extension: \n",
      "Error processing ./dataset/Xi Jinping/7f273dd01809647fa2fdc449ce59e5765457f9e5.jpg: unknown file extension: \n",
      "Error processing ./dataset/Xi Jinping/95233297893ee177c921af171fb39b2f5cbc21ad.jpg: unknown file extension: \n",
      "Error processing ./dataset/Xi Jinping/e89eb5a20198e3c7d17a7efbce25d0e90e466b46.jpg: unknown file extension: \n",
      "Error processing ./dataset/Xi Jinping/08d761e632b46ec9d8f3c56ec98a68482ee7229c.jpg: unknown file extension: \n",
      "Error processing ./dataset/Xi Jinping/ed78ac8735d6b244c619d4ee9ff91cc1a17df7b4.jpg: unknown file extension: \n",
      "Error processing ./dataset/Xi Jinping/02fa21c45aff83e92999973f62168e6c82aa85d5.jpg: unknown file extension: \n",
      "Error processing ./dataset/Xi Jinping/2bd4c8e8b8f46062d58f67fc7915e93fc1d6ba6c.jpg: unknown file extension: \n",
      "Error processing ./dataset/Xi Jinping/44272619d3a1e157ce0e214949148aa641d105e7.jpg: unknown file extension: \n",
      "Error processing ./dataset/Xi Jinping/b6dcaf8680b6fc66d594934b167f23d225221dc5.jpg: unknown file extension: \n",
      "Error processing ./dataset/Xi Jinping/d7609a71b7c4e6e052cf04da15b6f061e744292e.jpg: unknown file extension: \n",
      "Error processing ./dataset/Xi Jinping/61dcb49a600de2e550f33d83223ba09f44a4972b.jpg: unknown file extension: \n",
      "Error processing ./dataset/Xi Jinping/225e0a813e559e083ff82f743421c672a5762fd3.jpg: unknown file extension: \n",
      "Error processing ./dataset/Xi Jinping/9aff08f0e636dddee2e6f65d6869a5b18d098981.jpg: unknown file extension: \n",
      "Error processing ./dataset/Xi Jinping/3ba52812a75ac0c405bcca64f44e4ef794e6f619.jpg: unknown file extension: \n",
      "Error processing ./dataset/Xi Jinping/77986e97ed850be014dc8dce5b39afbe63766188.jpg: unknown file extension: \n",
      "Error processing ./dataset/Xi Jinping/13b4640a9c7f01eb08844a931e96721b13d41960.jpg: unknown file extension: \n",
      "Error processing ./dataset/Xi Jinping/2febcc1e40c0c874dc3fdccad2289932ca55644c.jpg: unknown file extension: \n",
      "Error processing ./dataset/Xi Jinping/a81cf598c2ee6a213e545ae6779e6eefc3fbb479.jpg: unknown file extension: \n",
      "Error processing ./dataset/Xi Jinping/36ccc5171695059361ffe3de02badf4fe37077a3.jpg: unknown file extension: \n",
      "Error processing ./dataset/Xi Jinping/a494a36d7cb1b6c859d8c7ce7a2c11a185e56a34.jpg: unknown file extension: \n",
      "Error processing ./dataset/Xi Jinping/9fca0b279897dbe520dcad9b2d4e88ff237197ea.jpg: unknown file extension: \n",
      "Error processing ./dataset/Xi Jinping/45d5192550d0ba0a46ff3d6ef5c7710939149e8f.jpg: unknown file extension: \n",
      "Error processing ./dataset/Xi Jinping/b252b3a6266b0ba6b35c01ef71b8bbc5e79e9352.jpg: unknown file extension: \n",
      "Error processing ./dataset/Xi Jinping/72791946ba7e6cc12a5c5947cf6ce7e93d64242c.jpg: unknown file extension: \n",
      "Error processing ./dataset/Xi Jinping/65dc53d59e237f6c58c1bb65638e632bf07940fc.jpg: unknown file extension: \n",
      "Error processing ./dataset/Xi Jinping/f4efa73604fc7bae762a717c730ecf3b055ae798.jpg: unknown file extension: \n",
      "Error processing ./dataset/Xi Jinping/f9914867a3f10bf44b692511fc039f49f55585b8.jpg: unknown file extension: \n",
      "Error processing ./dataset/Xi Jinping/741946e77ebd20215d1c79d75e782038f57513ec.jpg: unknown file extension: \n",
      "Error processing ./dataset/Xi Jinping/a715206e7f4807924c08f161a82b580cef5fd6d7.jpg: unknown file extension: \n",
      "Error processing ./dataset/Xi Jinping/2ce65d09a88c246a007db72dd482e218ca7640b3.jpg: unknown file extension: \n",
      "Error processing ./dataset/Xi Jinping/acac07f777b1e3d7cb8bd6a4c08f4560916e2672.jpg: unknown file extension: \n",
      "Error processing ./dataset/Xi Jinping/d6706b512dee7093930174967c48aec4dd1f8d81.jpg: unknown file extension: \n",
      "Error processing ./dataset/Xi Jinping/eafa921fa5e055448dce4b901f923d82ac752a92.jpg: unknown file extension: \n",
      "Error processing ./dataset/Xi Jinping/acd7232c14f58dcee0c18d05d6c7740806294fc8.jpg: unknown file extension: \n",
      "Error processing ./dataset/Xi Jinping/d8539f0524fd725edaca57586056f0e361cf3a66.jpg: unknown file extension: \n",
      "Error processing ./dataset/Xi Jinping/908ea4561925735d3146e99e5da8eabf404ad705.jpg: unknown file extension: \n",
      "Error processing ./dataset/Xi Jinping/cab2917823fddc8f219757fc954d56043b013e94.jpg: unknown file extension: \n",
      "Error processing ./dataset/Xi Jinping/f66f144eb8420f25040793bc01f828d799537f50.jpg: unknown file extension: \n",
      "Error processing ./dataset/Xi Jinping/78b41b77fccb9a74efdf963fef2f3660c6fbda08.jpg: unknown file extension: \n",
      "Processing images for Justin Trudeau\n",
      "Error processing ./dataset/Justin Trudeau/e3840526715c345801d752abcc09188ab9b18411.jpg: unknown file extension: \n",
      "Error processing ./dataset/Justin Trudeau/b00fdeacc4cba1fb1909e3f689e30b0f775c32c5.jpg: unknown file extension: \n",
      "Error processing ./dataset/Justin Trudeau/e0a879d60dfb8c9663c5f478425f3a59bf07ceac.jpg: unknown file extension: \n",
      "Error processing ./dataset/Justin Trudeau/0c0f3eb11131703282955f1f6ea929050e40e63c.jpg: unknown file extension: \n",
      "Error processing ./dataset/Justin Trudeau/b4f1fcc6432f952e1b892f01d64a378210304a5e.jpg: unknown file extension: \n",
      "Error processing ./dataset/Justin Trudeau/2a9b44e4c5812f36d47be674cd00962428158a76.jpg: unknown file extension: \n",
      "Error processing ./dataset/Justin Trudeau/bfd756f42f1d235124a3ae5e8b47fb6ce9409e74.jpg: unknown file extension: \n",
      "Error processing ./dataset/Justin Trudeau/f1ab5ad9cff3326269e988edd5aa7330143a54e8.jpg: unknown file extension: \n",
      "Error processing ./dataset/Justin Trudeau/00793418930ab9dded4bb7406ad147926855033d.jpg: unknown file extension: \n",
      "Error processing ./dataset/Justin Trudeau/.DS_Store: cannot identify image file './dataset/Justin Trudeau/.DS_Store'\n",
      "Error processing ./dataset/Justin Trudeau/46a59b5a24b2ad5d57f1dfbd845d2cc0243e4377.jpg: unknown file extension: \n",
      "Error processing ./dataset/Justin Trudeau/bc5b027bb0212e542130532972398e49a2adef46.jpg: unknown file extension: \n",
      "Error processing ./dataset/Justin Trudeau/4e51e9bd78efc58e039f0652bef426353ac7e820.jpg: unknown file extension: \n",
      "Error processing ./dataset/Justin Trudeau/b84bdbdeb76138e468c86bb3c30dc54bf008f757.jpg: unknown file extension: \n",
      "Error processing ./dataset/Justin Trudeau/d58d65723240b4be906e52028cc367b8e116c4d5.jpg: unknown file extension: \n",
      "Error processing ./dataset/Justin Trudeau/ad3eece5f26534566c3d8592134e5ae53b8bb00c.jpg: unknown file extension: \n",
      "Error processing ./dataset/Justin Trudeau/93764e0c7015d5228f6748d18623eb8ec8ac3111.jpg: unknown file extension: \n",
      "Error processing ./dataset/Justin Trudeau/8384354872325f27a1a55f1aecac9ae28bd3084b.jpg: unknown file extension: \n",
      "Error processing ./dataset/Justin Trudeau/fa3edc192d3e212274744642bf07df37dca9d2e8.jpg: unknown file extension: \n",
      "Error processing ./dataset/Justin Trudeau/78f605a2da3365e1593aaa380133efb0aab4e2c5.jpg: unknown file extension: \n",
      "Error processing ./dataset/Justin Trudeau/2701542b141feabce4b7599be3f06c2a55013ecd.jpg: unknown file extension: \n",
      "Error processing ./dataset/Justin Trudeau/f9eadb8a2a7a625bde5e363745905a2ebf91934c.jpg: unknown file extension: \n",
      "Error processing ./dataset/Justin Trudeau/8c7519c13f598b2454924a5bd9dab9a24ee81ed2.jpg: unknown file extension: \n",
      "Error processing ./dataset/Justin Trudeau/39a48313711bfab936a00b905c9d3698d2669f78.jpg: unknown file extension: \n",
      "Error processing ./dataset/Justin Trudeau/51e218d59c78676de25169573e37e7bed35ceee3.jpg: unknown file extension: \n",
      "Error processing ./dataset/Justin Trudeau/45dea2eb3ec0f3e98ba57ba8d5d0e3de678942a7.jpg: unknown file extension: \n",
      "Error processing ./dataset/Justin Trudeau/9d4eb52a5802725dcbf2471b39ea81f49aae90af.jpg: unknown file extension: \n",
      "Error processing ./dataset/Justin Trudeau/0236e100f1133b2e6ed49dbc458bab18e6f673cb.jpg: unknown file extension: \n",
      "Error processing ./dataset/Justin Trudeau/410a496e5a9354863ac090235768136e5ce224d0.jpg: unknown file extension: \n",
      "Error processing ./dataset/Justin Trudeau/70010d921e899edfedab82f5e3121444e6e4ea31.jpg: unknown file extension: \n",
      "Error processing ./dataset/Justin Trudeau/abfe84c0c3d9c8d64e1cccf402fe13d2df4bbcad.jpg: unknown file extension: \n",
      "Error processing ./dataset/Justin Trudeau/5f3615f61ec8842f7a975e98e58ddf8036e5d32c.jpg: unknown file extension: \n",
      "Error processing ./dataset/Justin Trudeau/1b7b8cd94d24a0631d727265c4b98ff54fce513d.jpg: unknown file extension: \n",
      "Error processing ./dataset/Justin Trudeau/ba0ed8b05219c39d4c5096923725c194ffa09c1f.jpg: unknown file extension: \n",
      "Error processing ./dataset/Justin Trudeau/f2eb38f4e8e8aef6287d173f7334f6fa58952221.jpg: unknown file extension: \n",
      "Error processing ./dataset/Justin Trudeau/875c3522a08a548ab25d17804bd6597050d66fbf.jpg: unknown file extension: \n",
      "Error processing ./dataset/Justin Trudeau/d868c7126f3e39f1f6270488d2daa506b37cc7ce.jpg: unknown file extension: \n",
      "Error processing ./dataset/Justin Trudeau/67c7ce6f9aa763d950f168605a4e700235bf41eb.jpg: unknown file extension: \n",
      "Error processing ./dataset/Justin Trudeau/64a6a8e0f1e8f3837e2a967328ad06750b9edb87.jpg: unknown file extension: \n",
      "Error processing ./dataset/Justin Trudeau/e7c8be1c269fe0a4253c44ceafb3a3e0495ca062.jpg: unknown file extension: \n",
      "Error processing ./dataset/Justin Trudeau/b6be18b2d8f08a74210c7fbe32640012885498dc.jpg: unknown file extension: \n",
      "Error processing ./dataset/Justin Trudeau/1662a4588276d5df39e17ca9222b98f2624b3d49.jpg: unknown file extension: \n",
      "Error processing ./dataset/Justin Trudeau/63db0b9e82b28bcafc5c73b8bc2612f7f41e60ec.jpg: unknown file extension: \n",
      "Error processing ./dataset/Justin Trudeau/d5162845f265dddba9edff7be4adb978b864efd6.jpg: unknown file extension: \n",
      "Error processing ./dataset/Justin Trudeau/bf560c6fada1699b588dafb5c530d961065c6d34.jpg: unknown file extension: \n",
      "Error processing ./dataset/Justin Trudeau/85dae3adb184bbf4a3ee1a952b3ee7d9c8a1535e.jpg: unknown file extension: \n",
      "Error processing ./dataset/Justin Trudeau/fa9b066aded1356526a2adbb4fc66e260f0b29f7.jpg: unknown file extension: \n",
      "Error processing ./dataset/Justin Trudeau/6d9fdb0ca35750f336572000059ffb6b7f48919c.jpg: unknown file extension: \n",
      "Error processing ./dataset/Justin Trudeau/1b95a3839329892ea8bf599ca62897d82dfd13ea.jpg: unknown file extension: \n",
      "Error processing ./dataset/Justin Trudeau/2a52b97371841cd1b124c996a03592822e68cff1.jpg: unknown file extension: \n",
      "Error processing ./dataset/Justin Trudeau/133561a352cd841be608cac344b31fdf20f7cc97.jpg: unknown file extension: \n",
      "Error processing ./dataset/Justin Trudeau/ce9a65654f39ce108f1c4e37c292da6bb7f35732.jpg: unknown file extension: \n",
      "Error processing ./dataset/Justin Trudeau/82cf9904fe5b40e277beb1f71d6c2de10b209394.jpg: unknown file extension: \n",
      "Error processing ./dataset/Justin Trudeau/638da88635c9df0be36025af6f866cc399435680.jpg: unknown file extension: \n",
      "Error processing ./dataset/Justin Trudeau/d1d64fe4636aac4915f190d951cfe4c9273eba0d.jpg: unknown file extension: \n",
      "Error processing ./dataset/Justin Trudeau/4e064c56c674bf45d0bb4cfca1343c2bfa058af7.jpg: unknown file extension: \n",
      "Error processing ./dataset/Justin Trudeau/d58c851dead55d5c8e1ac2ebdca2be5f7cbe2d59.jpg: unknown file extension: \n",
      "Error processing ./dataset/Justin Trudeau/eb2e8363aed91ce4d254dcfd36bf136f8bd3b97a.jpg: unknown file extension: \n",
      "Error processing ./dataset/Justin Trudeau/a7d75dec33bf9d8e43167501e9b8d177a87c7b9d.jpg: unknown file extension: \n",
      "Error processing ./dataset/Justin Trudeau/302678e2b3615f3bfc94a3fc5bc54ee3cc54d1d9.jpg: unknown file extension: \n",
      "Processing images for Donald Trump\n",
      "Error processing ./dataset/Donald Trump/790e8843e911ada56ce1f05a1970d008ec14e66e.jpg: unknown file extension: \n",
      "Error processing ./dataset/Donald Trump/0555466bbcdff0455a15df389e08fce9fdbc7ddf.jpg: unknown file extension: \n",
      "Error processing ./dataset/Donald Trump/9f023489f72c104b4688cb8b844e5a4f1c091151.jpg: unknown file extension: \n",
      "Error processing ./dataset/Donald Trump/44f8f61ae80cd38d66361a1a79f5a96a1b442f01.jpg: unknown file extension: \n",
      "Error processing ./dataset/Donald Trump/ab528e7ab97e539d5e4f9726ca68e5cfc7c31125.jpg: unknown file extension: \n",
      "Error processing ./dataset/Donald Trump/0d89ac6c2a4ebe57d2dbb86cbc84bc02b7927da1.jpg: unknown file extension: \n",
      "Error processing ./dataset/Donald Trump/222ad075b321046eba008b1d02ba944f07231d0f.jpg: unknown file extension: \n",
      "Error processing ./dataset/Donald Trump/34fdfaa86f3cabd344b6c2fd77870ea68bd406ed.jpg: unknown file extension: \n",
      "Error processing ./dataset/Donald Trump/.DS_Store: cannot identify image file './dataset/Donald Trump/.DS_Store'\n",
      "Error processing ./dataset/Donald Trump/f5acfba753eda47b0b4989c542deb50c76c08828.jpg: unknown file extension: \n",
      "Error processing ./dataset/Donald Trump/962221b4397f423b819c3b074882bf7cac053ed8.jpg: unknown file extension: \n",
      "Error processing ./dataset/Donald Trump/a721deaf17dbb45746c541a0438e8c752842588c.jpg: unknown file extension: \n",
      "Error processing ./dataset/Donald Trump/3358ae43794e9b59ff25595398fc2d709fde0094.jpg: unknown file extension: \n",
      "Error processing ./dataset/Donald Trump/00a028aba27a8c7a22bf7ffe953494cf07a24f95.jpg: unknown file extension: \n",
      "Error processing ./dataset/Donald Trump/3d491553ceb71aaa320cbc9ca21d6ea178953ed1.jpg: unknown file extension: \n",
      "Error processing ./dataset/Donald Trump/bff7619936a7e43efa75cb0ec2cc42b59aa951f3.jpg: unknown file extension: \n",
      "Error processing ./dataset/Donald Trump/d554f0311ed73602204168e2f034c751b7b486be.jpg: unknown file extension: \n",
      "Error processing ./dataset/Donald Trump/62a9227250c5b369216093415a223bc44839cb5f.jpg: unknown file extension: \n",
      "Error processing ./dataset/Donald Trump/41c0851126f080bd4f5b7b4e9e0eaec82c8fd108.jpg: unknown file extension: \n",
      "Error processing ./dataset/Donald Trump/22056cb9ab0cd95e597f14fc1debf9fe7addef23.jpg: unknown file extension: \n",
      "Error processing ./dataset/Donald Trump/60f972b8a4647e27790fb9e9f4e139d42d21bea0.jpg: unknown file extension: \n",
      "Error processing ./dataset/Donald Trump/595afc94fea9374f6dd7032291a365ed6aae76dc.jpg: unknown file extension: \n",
      "Error processing ./dataset/Donald Trump/a4497437d61859064b06e1ed9b8ed77f117fb278.jpg: unknown file extension: \n",
      "Error processing ./dataset/Donald Trump/3f0f78f25bbd6c91b0c7966ec362c2bc8c142bfc.jpg: unknown file extension: \n",
      "Error processing ./dataset/Donald Trump/4a7cbcdc28d8dec7b942c4c33a9ba3d5fc394a0c.jpg: unknown file extension: \n",
      "Error processing ./dataset/Donald Trump/25f1320a0ae5b9d7e466060d5b8f77dc638a17bc.jpg: unknown file extension: \n",
      "Error processing ./dataset/Donald Trump/cb3644efe8c237e60cf0fc39048fede2e08c81a6.jpg: unknown file extension: \n",
      "Error processing ./dataset/Donald Trump/ad09e2298acad1bb8e2e5ba0f2729d33fc703697.jpg: unknown file extension: \n",
      "Error processing ./dataset/Donald Trump/632c3a4157e54bed0ebf8d5730444cdf12ef7803.jpg: unknown file extension: \n",
      "Error processing ./dataset/Donald Trump/d0f4908dd9ea43896d2bd51520bf39a1bd7083ed.jpg: unknown file extension: \n",
      "Error processing ./dataset/Donald Trump/66baaec5793783066da9d5e31904958d891a43df.jpg: unknown file extension: \n",
      "Error processing ./dataset/Donald Trump/d422743cb48393849070a2e0c1b4d0863ccd2b3b.jpg: unknown file extension: \n",
      "Error processing ./dataset/Donald Trump/6bdaeb0f65cf89a35799cde25d7b1fbf05b88b7d.jpg: unknown file extension: \n",
      "Error processing ./dataset/Donald Trump/cb8693bedf7e1627f04d417602c825e958c3b87e.jpg: unknown file extension: \n",
      "Error processing ./dataset/Donald Trump/e2b9002bb1a54028a376e0131fad9e1812b25686.jpg: unknown file extension: \n",
      "Error processing ./dataset/Donald Trump/02bc04b15800af0802e3ff9496c7dbd51d5ce25b.jpg: unknown file extension: \n",
      "Error processing ./dataset/Donald Trump/d6ff6576dc061a8f2772d49cd3617e650ade89ac.jpg: unknown file extension: \n",
      "Error processing ./dataset/Donald Trump/d32933dce9bb0c2684189f5302c780b59ff07ded.jpg: unknown file extension: \n",
      "Error processing ./dataset/Donald Trump/e7d06e6e4495ea47a2ac3bb3da769a1c077d4aaa.jpg: unknown file extension: \n",
      "Error processing ./dataset/Donald Trump/f6a3588f9fe9460c75acd18dd45b9cad818fa349.jpg: unknown file extension: \n",
      "Error processing ./dataset/Donald Trump/0734d83ff31bd10fcbd13716afac4316f8c9a3e6.jpg: unknown file extension: \n",
      "Error processing ./dataset/Donald Trump/38d54c3519d929555e7887fd229ec914911c6cf3.jpg: unknown file extension: \n",
      "Error processing ./dataset/Donald Trump/2b2cb4ea66a5af3aa2b22f9067770af7382c4c12.jpg: unknown file extension: \n",
      "Error processing ./dataset/Donald Trump/4b402f19a7008250805cc65d7d171532a13400a3.jpg: unknown file extension: \n",
      "Error processing ./dataset/Donald Trump/c899f38511dba0a0de47f1cc38360dab9b865f4d.jpg: unknown file extension: \n",
      "Error processing ./dataset/Donald Trump/8b672eabccce5862cb055cb60bdd94b9bdbd2fc6.jpg: unknown file extension: \n",
      "Error processing ./dataset/Donald Trump/33c12b0192a6be8eae11de76fa3161eedfd8736c.jpg: unknown file extension: \n",
      "Error processing ./dataset/Donald Trump/51e0a8bfa5adb6df7555aa523dd524060a847087.jpg: unknown file extension: \n",
      "Error processing ./dataset/Donald Trump/571fc41d66668fdfac0ca917fd54e81e6cf8eaf3.jpg: unknown file extension: \n",
      "Error processing ./dataset/Donald Trump/9b6c1384c325dd7d94c3ec4c87625dc5051a261c.jpg: unknown file extension: \n",
      "Error processing ./dataset/Donald Trump/a8ce39c9aeefbc209e6cd89a11b7e6af4bad5b91.jpg: unknown file extension: \n",
      "Error processing ./dataset/Donald Trump/7addfcdf5128b7a81734653ff579f1edcfd4a0ec.jpg: unknown file extension: \n",
      "Error processing ./dataset/Donald Trump/2f4ee216cc364313361ea0224a546eeda95c8d44.jpg: unknown file extension: \n",
      "Error processing ./dataset/Donald Trump/940d82260dc3ebeba50f225441b4c75ebab548b2.jpg: unknown file extension: \n",
      "Error processing ./dataset/Donald Trump/0b798a35ff0934900ff13efd68adf643989f09cd.jpg: unknown file extension: \n",
      "Error processing ./dataset/Donald Trump/cabd8d18b219cb843cc563f8e5c0e670703e3b3b.jpg: unknown file extension: \n",
      "Error processing ./dataset/Donald Trump/5844d9d63ec19f3bbc59158cb568e6f08dea8da3.jpg: unknown file extension: \n",
      "Error processing ./dataset/Donald Trump/c27cc463f0a9d7b4a38a5c6a6d5058908be1ef62.jpg: unknown file extension: \n",
      "Error processing ./dataset/Donald Trump/980cbbdb08535a5ff8999ab39f35ac093c79405e.jpg: unknown file extension: \n",
      "Processing images for cropped\n",
      "Error processing ./dataset/cropped/.DS_Store: cannot identify image file './dataset/cropped/.DS_Store'\n",
      "Error processing ./dataset/cropped/Vladimir Putin: [Errno 21] Is a directory: './dataset/cropped/Vladimir Putin'\n",
      "Error processing ./dataset/cropped/Xi Jinping: [Errno 21] Is a directory: './dataset/cropped/Xi Jinping'\n",
      "Error processing ./dataset/cropped/Justin Trudeau: [Errno 21] Is a directory: './dataset/cropped/Justin Trudeau'\n",
      "Error processing ./dataset/cropped/Donald Trump: [Errno 21] Is a directory: './dataset/cropped/Donald Trump'\n",
      "Error processing ./dataset/cropped/Joe Biden: [Errno 21] Is a directory: './dataset/cropped/Joe Biden'\n",
      "Processing images for Joe Biden\n",
      "Error processing ./dataset/Joe Biden/0bb41595e1653188a93a3d4a9dcb005b4c93f4d2.jpg: unknown file extension: \n",
      "Error processing ./dataset/Joe Biden/f0cf39f58dfa02a4fe4cb4f682f9263411a4794a.jpg: unknown file extension: \n",
      "Error processing ./dataset/Joe Biden/0a655340f0a233d9b67e503b2b28e6277e6c1b0c.jpg: unknown file extension: \n",
      "Error processing ./dataset/Joe Biden/cafd8e1bdf9debf7ccecb68a7cba430b759c58d7.jpg: unknown file extension: \n",
      "Error processing ./dataset/Joe Biden/513e5954b4eafffd281ad3bc63053bd4914118f3.jpg: unknown file extension: \n",
      "Error processing ./dataset/Joe Biden/007b69b2c8e093fa603c0c6cc6f03c3b6daaba54.jpg: unknown file extension: \n",
      "Error processing ./dataset/Joe Biden/c8e5ccd8030cfe30a9811087a20064f1b718a211.jpg: unknown file extension: \n",
      "Error processing ./dataset/Joe Biden/c6dfa635106ed72835ce5fc36eb45668d65e049b.jpg: unknown file extension: \n",
      "Error processing ./dataset/Joe Biden/ed5c32ecad4f3c969c8282b6a1b61064b65dea19.jpg: unknown file extension: \n",
      "Error processing ./dataset/Joe Biden/.DS_Store: cannot identify image file './dataset/Joe Biden/.DS_Store'\n",
      "Error processing ./dataset/Joe Biden/908a03eaca332c74597e3eda169bf30c43dd3ef6.jpg: unknown file extension: \n",
      "Error processing ./dataset/Joe Biden/d6b1adad812e4a7bb3beb5521ab8234e347e7def.jpg: unknown file extension: \n",
      "Error processing ./dataset/Joe Biden/3957a576938a6e314170a9666049eb6010ab0785.jpg: unknown file extension: \n",
      "Error processing ./dataset/Joe Biden/88c992c69a9b9e9f711ccc240141b9ad80425677.jpg: unknown file extension: \n",
      "Error processing ./dataset/Joe Biden/2a360e12b5864c284a50dd531c2eae9e0fa030e2.jpg: unknown file extension: \n",
      "Error processing ./dataset/Joe Biden/75914593255f568b85e830c99a8ab04a9436806a.jpg: unknown file extension: \n",
      "Error processing ./dataset/Joe Biden/08062678aae4e9cabc3d35db4b9d81f291b01051.jpg: unknown file extension: \n",
      "Error processing ./dataset/Joe Biden/6aa79f42377d1a54ac6d3ed4bccb359f5e021252.jpg: unknown file extension: \n",
      "Error processing ./dataset/Joe Biden/1dddaa269d4f46e27ccd0dded5494ba0ff82b721.jpg: unknown file extension: \n",
      "Error processing ./dataset/Joe Biden/da5737c571c2b498b888631d129c1afe29ee48cb.jpg: unknown file extension: \n",
      "Error processing ./dataset/Joe Biden/1383807c508b227d329df4c6c91118a8fcbd12e0.jpg: unknown file extension: \n",
      "Error processing ./dataset/Joe Biden/2ea35d2dd726bf0dba6f9c6fa7fe1458e8a2c055.jpg: unknown file extension: \n",
      "Error processing ./dataset/Joe Biden/582090125a01bfcc4b23e3d5d5aee65354e75ef3.jpg: unknown file extension: \n",
      "Error processing ./dataset/Joe Biden/122ac4b7907ed2627b9dbd8710fa8d792f1b6dff.jpg: unknown file extension: \n",
      "Error processing ./dataset/Joe Biden/f9f749f82a9ac94e4fb14f65d6704e2e23540abc.jpg: unknown file extension: \n",
      "Error processing ./dataset/Joe Biden/44272619d3a1e157ce0e214949148aa641d105e7.jpg: unknown file extension: \n",
      "Error processing ./dataset/Joe Biden/2e91fa28973ca8a8ae7f7b413423c4248492cb13.jpg: unknown file extension: \n",
      "Error processing ./dataset/Joe Biden/9fec9669923e4297a9ca11b0829409508dcc48f9.jpg: unknown file extension: \n",
      "Error processing ./dataset/Joe Biden/3ba52812a75ac0c405bcca64f44e4ef794e6f619.jpg: unknown file extension: \n",
      "Error processing ./dataset/Joe Biden/d14c075859340befdcf1b7afd073245f5bc91334.jpg: unknown file extension: \n",
      "Error processing ./dataset/Joe Biden/3dba1d64e012c5f2b095a2fa15245293a31a6048.jpg: unknown file extension: \n",
      "Error processing ./dataset/Joe Biden/9df2c4d2db6605f0e46f3bf1136b1845643be0ed.jpg: unknown file extension: \n",
      "Error processing ./dataset/Joe Biden/5d872b5a5990e91c4675d5b56080c775b6d82dfd.jpg: unknown file extension: \n",
      "Error processing ./dataset/Joe Biden/53ba5ce7c145dedbc358d74572dc6efa30312aa8.jpg: unknown file extension: \n",
      "Error processing ./dataset/Joe Biden/0c11785ef7e57e4e2157c533e61e9e6568e412c8.jpg: unknown file extension: \n",
      "Error processing ./dataset/Joe Biden/a495201c8698b0a5815e75785bcdecbdb09ecb12.jpg: unknown file extension: \n",
      "Error processing ./dataset/Joe Biden/297c9a05be578c0fc64ec894c725262baa9474ed.jpg: unknown file extension: \n",
      "Error processing ./dataset/Joe Biden/5c7c8867be70e3b69aafbe41f8b375fd01265298.jpg: unknown file extension: \n",
      "Error processing ./dataset/Joe Biden/61a18fb41aea70d982051e7be83b3e521feb054f.jpg: unknown file extension: \n",
      "Error processing ./dataset/Joe Biden/2f77355b44e69b9b30c16793a6c4f4bbd1acaf15.jpg: unknown file extension: \n",
      "Error processing ./dataset/Joe Biden/1129e3b935902cca08d9dc3418299fb575c26ba4.jpg: unknown file extension: \n",
      "Error processing ./dataset/Joe Biden/f7aae97ec334318864c0757ef6b57b30d1fbe749.jpg: unknown file extension: \n",
      "Error processing ./dataset/Joe Biden/e03d4dc28f58ed72fcb0295d8a829119f79e5599.jpg: unknown file extension: \n",
      "Error processing ./dataset/Joe Biden/0050d581c1914d514f68751fd53d6dd73ff04e71.jpg: unknown file extension: \n",
      "Error processing ./dataset/Joe Biden/314914f12539a1c5206dcb80916d2287133a5595.jpg: unknown file extension: \n",
      "Error processing ./dataset/Joe Biden/81077f45d27da85fd96a27c6c75faee0942338c9.jpg: unknown file extension: \n",
      "Error processing ./dataset/Joe Biden/89d7d5a0576c841aa85400900811d400ba1621a7.jpg: unknown file extension: \n",
      "Error processing ./dataset/Joe Biden/b58829a8ed234490cf6642d3a0d5e1c27471518a.jpg: unknown file extension: \n",
      "Error processing ./dataset/Joe Biden/18e5dbc102086f5336ca5dba63aba2bc2168c807.jpg: unknown file extension: \n",
      "Error processing ./dataset/Joe Biden/84e9cfc7e656df59817ae0d87e1e15992db8dc01.jpg: unknown file extension: \n",
      "Error processing ./dataset/Joe Biden/c4ef305fd45ea55500490adeb5e5e797bb97a3d8.jpg: unknown file extension: \n",
      "Error processing ./dataset/Joe Biden/7024a18cf38091188d2b7034aaaed456f86647f5.jpg: unknown file extension: \n",
      "Error processing ./dataset/Joe Biden/d437a0e2eee3317de1cdb86c74090f4c2c42c8ce.jpg: unknown file extension: \n",
      "Error processing ./dataset/Joe Biden/30cc823bfed82890d13a1b17d9185d3dbbe3eefe.jpg: unknown file extension: \n",
      "Error processing ./dataset/Joe Biden/9ef3c894ba11eed65cd1a040644dbe40865cef1d.jpg: unknown file extension: \n",
      "Error processing ./dataset/Joe Biden/9c555ea2629ca43362667bbf074f334b20b5cd61.jpg: unknown file extension: \n",
      "Error processing ./dataset/Joe Biden/85811eb42df1106bf1eb54fbc7e175496da4cf30.jpg: unknown file extension: \n",
      "Error processing ./dataset/Joe Biden/f257a64ced08f72c2c09f85e58079585e61abf25.jpg: unknown file extension: \n",
      "Error processing ./dataset/Joe Biden/23b4e465a60cd8cac65107745d1dc201b10aaa59.jpg: unknown file extension: \n",
      "Error processing ./dataset/Joe Biden/24749d1ba09530adb6f0cdd2c995674d169e21ce.jpg: unknown file extension: \n",
      "Error processing ./dataset/Joe Biden/7f2de460df4be1f861adc0ef61bc0301ed865a6c.jpg: unknown file extension: \n",
      "Face detection done\n"
     ]
    }
   ],
   "source": [
    "### This code is to delete the cropped images folder and create a new one\n",
    "# if os.path.exists(path_to_images):\n",
    "#     shutil.rmtree(path_to_images)\n",
    "# os.makedirs(path_to_images)\n",
    "\n",
    "loop = 0\n",
    "for person in os.listdir(path_to_data):\n",
    "    \n",
    "    # skip the first iteration cause it something wrong with the first person\n",
    "    if loop == 0:\n",
    "        loop += 1\n",
    "        continue\n",
    "\n",
    "    # ./dataset/person1\n",
    "    person_path = os.path.join(path_to_data, person)\n",
    "    # ./dataset/cropped/person1\n",
    "    cropped_person_path = os.path.join(path_to_images, person)\n",
    "\n",
    "    # create a directory for the person\n",
    "    # os.makedirs(cropped_person_path, exist_ok=True)\n",
    "\n",
    "    if not os.path.isdir(person_path):\n",
    "        continue\n",
    "    \n",
    "    print(f\"Processing images for {person}\")\n",
    "\n",
    "    for image_name in os.listdir(person_path):\n",
    "        image_path = os.path.join(person_path, image_name)\n",
    "        \n",
    "        try:\n",
    "            # Load image\n",
    "            img = Image.open(image_path)\n",
    "            # Detect faces\n",
    "            boxes, _ = mtcnn.detect(img)\n",
    "\n",
    "            # If no faces are detected, move on to the next image\n",
    "            if boxes is not None:\n",
    "\n",
    "                # loop through all the faces detected\n",
    "                for i, box in enumerate(boxes):\n",
    "\n",
    "                    # Get the coordinates of the box\n",
    "                    x, y, x2, y2 = map(int, box)\n",
    "                    face = img.crop((x, y, x2, y2))\n",
    "\n",
    "                    # Save the face\n",
    "                    face_save_path = face.save(os.path.join(cropped_person_path, f\"{person}_{i}.jpg\"))\n",
    "                    face.save(face_save_path)\n",
    "                    print(f\"Saved {face_save_path}\")\n",
    "        except Exception as e:\n",
    "            print(f\"Error processing {image_path}: {e}\")\n",
    "            \n",
    "print(\"Face detection done\")\n",
    "    "
   ]
  },
  {
   "cell_type": "markdown",
   "id": "61a931d4",
   "metadata": {},
   "source": [
    "### **Creating a Custom Face Dataset for PyTorch Trainings**\n",
    "This section defines a custom PyTorch dataset class (FaceDataset) to load images from a structured dataset directory. Each subdirectory in root_dir represents a different person, and images inside are labeled accordingly.\n",
    "\n",
    "Loops through all subdirectories (each representing a person).\n",
    "Stores image paths and corresponding labels in a list (self.data).\n",
    "Implements PyTorch’s Dataset methods:\n",
    "\n",
    "__len__() → Returns total number of images. \n",
    "\n",
    "__getitem__() → Loads an image and applies transformations."
   ]
  },
  {
   "cell_type": "code",
   "execution_count": 83,
   "id": "c07d6d0e",
   "metadata": {},
   "outputs": [],
   "source": [
    "# Remove the .DS_Store file\n",
    "if os.path.exists('./dataset/cropped/.DS_Store'):\n",
    "    os.remove('./dataset/cropped/.DS_Store')"
   ]
  },
  {
   "cell_type": "code",
   "execution_count": 84,
   "id": "b140480164db2f11",
   "metadata": {
    "ExecuteTime": {
     "end_time": "2025-02-24T04:03:24.988405Z",
     "start_time": "2025-02-24T04:03:24.984582Z"
    }
   },
   "outputs": [
    {
     "data": {
      "text/plain": [
       "['Donald Trump', 'Joe Biden', 'Justin Trudeau', 'Vladimir Putin', 'Xi Jinping']"
      ]
     },
     "execution_count": 84,
     "metadata": {},
     "output_type": "execute_result"
    }
   ],
   "source": [
    "people = sorted(os.listdir(path_to_images))\n",
    "people"
   ]
  },
  {
   "cell_type": "code",
   "execution_count": 85,
   "id": "f9ef5d92",
   "metadata": {},
   "outputs": [
    {
     "name": "stdout",
     "output_type": "stream",
     "text": [
      "Label dictionary: {'Donald Trump': 0, 'Joe Biden': 1, 'Justin Trudeau': 2, 'Vladimir Putin': 3, 'Xi Jinping': 4}\n"
     ]
    }
   ],
   "source": [
    "label_dict = {name : i for i, name in enumerate(people)}\n",
    "print(\"Label dictionary:\", label_dict)"
   ]
  },
  {
   "cell_type": "code",
   "execution_count": 86,
   "id": "0fd06113",
   "metadata": {},
   "outputs": [],
   "source": [
    "from torch.utils.data import DataLoader\n",
    "from torchvision import datasets, transforms\n",
    "\n",
    "transform = transforms.Compose([\n",
    "    transforms.Resize((224, 224)), # Resize to fit ResNet input\n",
    "    transforms.ToTensor(),\n",
    "    transforms.Normalize([0.5], [0.5]) # Normalize pixel values to between -1 and 1\n",
    "])"
   ]
  },
  {
   "cell_type": "code",
   "execution_count": null,
   "id": "4786cf72",
   "metadata": {},
   "outputs": [
    {
     "name": "stdout",
     "output_type": "stream",
     "text": [
      "Image shape: torch.Size([3, 224, 224])\n",
      "Label: 3\n"
     ]
    }
   ],
   "source": [
    "class FaceDataset(torch.utils.data.Dataset):\n",
    "    def __init__(self, root_dir, transform=None):\n",
    "        self.root_dir = root_dir\n",
    "        self.transform = transform\n",
    "        self.data= []\n",
    "\n",
    "        # Loop through all the people in the dataset\n",
    "        for person in os.listdir(root_dir):\n",
    "            # Get the path to the person's directory\n",
    "            person_path = os.path.join(root_dir, person)\n",
    "\n",
    "            # Loop through all the images of the person\n",
    "            if os.path.isdir(person_path):\n",
    "                for image_name in os.listdir(person_path):\n",
    "                    # Get the path to the image and append it to the data list\n",
    "                    image_path = os.path.join(person_path, image_name)\n",
    "                    self.data.append((image_path, label_dict[person]))\n",
    "    # Required by PyTorch’s Dataset class. \n",
    "    # Helps DataLoader determine the number of batches.\n",
    "    def __len__(self):\n",
    "        return len(self.data)\n",
    "    \n",
    "    # DataLoader calls this method to get a sample\n",
    "    def __getitem__(self, idx: int):\n",
    "        img_path, label = self.data[idx]\n",
    "        img = Image.open(img_path).convert('RGB')\n",
    "\n",
    "        if self.transform:\n",
    "            img = self.transform(img)\n",
    "        return img, label\n",
    "    \n",
    "face_dataset = FaceDataset(root_dir=path_to_images, transform=transform)\n",
    "\n",
    "# getitem test\n",
    "img, label = face_dataset[0]\n",
    "print(\"Image shape:\", img.shape)\n",
    "print(\"Label:\", label)"
   ]
  },
  {
   "cell_type": "markdown",
   "id": "5f11d600",
   "metadata": {},
   "source": [
    "### **Select the model for the training**"
   ]
  },
  {
   "cell_type": "code",
   "execution_count": 88,
   "id": "7f317372",
   "metadata": {},
   "outputs": [
    {
     "name": "stdout",
     "output_type": "stream",
     "text": [
      "ResNet(\n",
      "  (conv1): Conv2d(3, 64, kernel_size=(7, 7), stride=(2, 2), padding=(3, 3), bias=False)\n",
      "  (bn1): BatchNorm2d(64, eps=1e-05, momentum=0.1, affine=True, track_running_stats=True)\n",
      "  (relu): ReLU(inplace=True)\n",
      "  (maxpool): MaxPool2d(kernel_size=3, stride=2, padding=1, dilation=1, ceil_mode=False)\n",
      "  (layer1): Sequential(\n",
      "    (0): BasicBlock(\n",
      "      (conv1): Conv2d(64, 64, kernel_size=(3, 3), stride=(1, 1), padding=(1, 1), bias=False)\n",
      "      (bn1): BatchNorm2d(64, eps=1e-05, momentum=0.1, affine=True, track_running_stats=True)\n",
      "      (relu): ReLU(inplace=True)\n",
      "      (conv2): Conv2d(64, 64, kernel_size=(3, 3), stride=(1, 1), padding=(1, 1), bias=False)\n",
      "      (bn2): BatchNorm2d(64, eps=1e-05, momentum=0.1, affine=True, track_running_stats=True)\n",
      "    )\n",
      "    (1): BasicBlock(\n",
      "      (conv1): Conv2d(64, 64, kernel_size=(3, 3), stride=(1, 1), padding=(1, 1), bias=False)\n",
      "      (bn1): BatchNorm2d(64, eps=1e-05, momentum=0.1, affine=True, track_running_stats=True)\n",
      "      (relu): ReLU(inplace=True)\n",
      "      (conv2): Conv2d(64, 64, kernel_size=(3, 3), stride=(1, 1), padding=(1, 1), bias=False)\n",
      "      (bn2): BatchNorm2d(64, eps=1e-05, momentum=0.1, affine=True, track_running_stats=True)\n",
      "    )\n",
      "  )\n",
      "  (layer2): Sequential(\n",
      "    (0): BasicBlock(\n",
      "      (conv1): Conv2d(64, 128, kernel_size=(3, 3), stride=(2, 2), padding=(1, 1), bias=False)\n",
      "      (bn1): BatchNorm2d(128, eps=1e-05, momentum=0.1, affine=True, track_running_stats=True)\n",
      "      (relu): ReLU(inplace=True)\n",
      "      (conv2): Conv2d(128, 128, kernel_size=(3, 3), stride=(1, 1), padding=(1, 1), bias=False)\n",
      "      (bn2): BatchNorm2d(128, eps=1e-05, momentum=0.1, affine=True, track_running_stats=True)\n",
      "      (downsample): Sequential(\n",
      "        (0): Conv2d(64, 128, kernel_size=(1, 1), stride=(2, 2), bias=False)\n",
      "        (1): BatchNorm2d(128, eps=1e-05, momentum=0.1, affine=True, track_running_stats=True)\n",
      "      )\n",
      "    )\n",
      "    (1): BasicBlock(\n",
      "      (conv1): Conv2d(128, 128, kernel_size=(3, 3), stride=(1, 1), padding=(1, 1), bias=False)\n",
      "      (bn1): BatchNorm2d(128, eps=1e-05, momentum=0.1, affine=True, track_running_stats=True)\n",
      "      (relu): ReLU(inplace=True)\n",
      "      (conv2): Conv2d(128, 128, kernel_size=(3, 3), stride=(1, 1), padding=(1, 1), bias=False)\n",
      "      (bn2): BatchNorm2d(128, eps=1e-05, momentum=0.1, affine=True, track_running_stats=True)\n",
      "    )\n",
      "  )\n",
      "  (layer3): Sequential(\n",
      "    (0): BasicBlock(\n",
      "      (conv1): Conv2d(128, 256, kernel_size=(3, 3), stride=(2, 2), padding=(1, 1), bias=False)\n",
      "      (bn1): BatchNorm2d(256, eps=1e-05, momentum=0.1, affine=True, track_running_stats=True)\n",
      "      (relu): ReLU(inplace=True)\n",
      "      (conv2): Conv2d(256, 256, kernel_size=(3, 3), stride=(1, 1), padding=(1, 1), bias=False)\n",
      "      (bn2): BatchNorm2d(256, eps=1e-05, momentum=0.1, affine=True, track_running_stats=True)\n",
      "      (downsample): Sequential(\n",
      "        (0): Conv2d(128, 256, kernel_size=(1, 1), stride=(2, 2), bias=False)\n",
      "        (1): BatchNorm2d(256, eps=1e-05, momentum=0.1, affine=True, track_running_stats=True)\n",
      "      )\n",
      "    )\n",
      "    (1): BasicBlock(\n",
      "      (conv1): Conv2d(256, 256, kernel_size=(3, 3), stride=(1, 1), padding=(1, 1), bias=False)\n",
      "      (bn1): BatchNorm2d(256, eps=1e-05, momentum=0.1, affine=True, track_running_stats=True)\n",
      "      (relu): ReLU(inplace=True)\n",
      "      (conv2): Conv2d(256, 256, kernel_size=(3, 3), stride=(1, 1), padding=(1, 1), bias=False)\n",
      "      (bn2): BatchNorm2d(256, eps=1e-05, momentum=0.1, affine=True, track_running_stats=True)\n",
      "    )\n",
      "  )\n",
      "  (layer4): Sequential(\n",
      "    (0): BasicBlock(\n",
      "      (conv1): Conv2d(256, 512, kernel_size=(3, 3), stride=(2, 2), padding=(1, 1), bias=False)\n",
      "      (bn1): BatchNorm2d(512, eps=1e-05, momentum=0.1, affine=True, track_running_stats=True)\n",
      "      (relu): ReLU(inplace=True)\n",
      "      (conv2): Conv2d(512, 512, kernel_size=(3, 3), stride=(1, 1), padding=(1, 1), bias=False)\n",
      "      (bn2): BatchNorm2d(512, eps=1e-05, momentum=0.1, affine=True, track_running_stats=True)\n",
      "      (downsample): Sequential(\n",
      "        (0): Conv2d(256, 512, kernel_size=(1, 1), stride=(2, 2), bias=False)\n",
      "        (1): BatchNorm2d(512, eps=1e-05, momentum=0.1, affine=True, track_running_stats=True)\n",
      "      )\n",
      "    )\n",
      "    (1): BasicBlock(\n",
      "      (conv1): Conv2d(512, 512, kernel_size=(3, 3), stride=(1, 1), padding=(1, 1), bias=False)\n",
      "      (bn1): BatchNorm2d(512, eps=1e-05, momentum=0.1, affine=True, track_running_stats=True)\n",
      "      (relu): ReLU(inplace=True)\n",
      "      (conv2): Conv2d(512, 512, kernel_size=(3, 3), stride=(1, 1), padding=(1, 1), bias=False)\n",
      "      (bn2): BatchNorm2d(512, eps=1e-05, momentum=0.1, affine=True, track_running_stats=True)\n",
      "    )\n",
      "  )\n",
      "  (avgpool): AdaptiveAvgPool2d(output_size=(1, 1))\n",
      "  (fc): Linear(in_features=512, out_features=5, bias=True)\n",
      ")\n"
     ]
    }
   ],
   "source": [
    "import torch.nn as nn\n",
    "import torchvision.models as models\n",
    "\n",
    "# Load the pretrained ResNet model\n",
    "model = models.resnet18(pretrained=True)\n",
    "\n",
    "# modify the final layer to output the number of classes in our dataset\n",
    "num_classes = len(people)\n",
    "\n",
    "# Resnet has 18 layers that are already trained\n",
    "# we freeze the earlier layers and only train the last fully connected (FC) layer. \n",
    "# This is called Transfer Learning.\n",
    "\n",
    "model.fc = nn.Linear(model.fc.in_features, num_classes)\n",
    "\n",
    "print(model)\n"
   ]
  },
  {
   "cell_type": "code",
   "execution_count": null,
   "id": "9f4b0e10",
   "metadata": {},
   "outputs": [
    {
     "name": "stdout",
     "output_type": "stream",
     "text": [
      "Epoch 1, Train Loss: 0.8946371898055077, Val Loss: 3.741490602493286\n",
      "Epoch 2, Train Loss: 0.1574297919869423, Val Loss: 4.898905515670776\n",
      "Epoch 3, Train Loss: 0.12580684696634611, Val Loss: 3.7763350009918213\n",
      "Epoch 4, Train Loss: 0.10956310294568539, Val Loss: 0.8412430584430695\n",
      "Epoch 5, Train Loss: 0.05938295150796572, Val Loss: 1.9780666828155518\n",
      "Epoch 6, Train Loss: 0.09878160936447482, Val Loss: 1.2219275832176208\n",
      "Epoch 7, Train Loss: 0.051368876437967025, Val Loss: 0.38434572517871857\n",
      "Epoch 8, Train Loss: 0.006500377901829779, Val Loss: 0.3312400132417679\n",
      "Epoch 9, Train Loss: 0.016528285341337323, Val Loss: 0.2907616049051285\n",
      "Epoch 10, Train Loss: 0.005388321432595451, Val Loss: 0.32868072390556335\n",
      "Epoch 11, Train Loss: 0.002405960171017796, Val Loss: 0.243282288312912\n",
      "Epoch 12, Train Loss: 0.001541079138405621, Val Loss: 0.2577904760837555\n",
      "Epoch 13, Train Loss: 0.0050527098355814815, Val Loss: 0.3040517494082451\n",
      "Epoch 14, Train Loss: 0.0010680185271970306, Val Loss: 0.21131274849176407\n",
      "Epoch 15, Train Loss: 0.0005556713780000185, Val Loss: 0.15684313606470823\n",
      "Epoch 16, Train Loss: 0.0007079172161562989, Val Loss: 0.25456928089261055\n",
      "Epoch 17, Train Loss: 0.0009224525517007957, Val Loss: 0.16213240753859282\n",
      "Epoch 18, Train Loss: 0.000782749688369222, Val Loss: 0.2653450034558773\n",
      "Epoch 19, Train Loss: 0.0005218358201091178, Val Loss: 0.20347147434949875\n",
      "Epoch 20, Train Loss: 0.00029670545215291594, Val Loss: 0.17503919452428818\n"
     ]
    }
   ],
   "source": [
    "import torch.optim as optim\n",
    "\n",
    "# Split the dataset into training and validation sets\n",
    "train_dataset, val_dataset = torch.utils.data.random_split(face_dataset, [int(0.8 * len(face_dataset)), len(face_dataset) - int(0.8 * len(face_dataset))])\n",
    "train_loader = DataLoader(train_dataset, batch_size=32, shuffle=True)\n",
    "val_loader = DataLoader(val_dataset, batch_size=32, shuffle=True)\n",
    "\n",
    "# Define the loss function and optimizer\n",
    "criterion = nn.CrossEntropyLoss()\n",
    "optimizer = optim.Adam(model.parameters(), lr=0.001)\n",
    "\n",
    "# training loop\n",
    "num_epochs = 20\n",
    "best_loss = float('inf')\n",
    "\n",
    "for epoch in range(num_epochs):\n",
    "    model.train()\n",
    "    running_lost = 0.0\n",
    "\n",
    "    for images, labels in train_loader:\n",
    "        optimizer.zero_grad()\n",
    "        \n",
    "        outputs = model(images)\n",
    "        loss = criterion(outputs, labels)\n",
    "\n",
    "        loss.backward()\n",
    "        optimizer.step()\n",
    "\n",
    "        running_lost += loss.item()\n",
    "\n",
    "    model.eval()\n",
    "    val_loss = 0.0\n",
    "    with torch.inference_mode():\n",
    "        for images, labels in val_loader:\n",
    "            outputs = model(images)\n",
    "            loss = criterion(outputs, labels)\n",
    "            val_loss += loss.item()\n",
    "\n",
    "    print(f\"Epoch {epoch+1}, Train Loss: {running_lost/len(train_loader)}, Val Loss: {val_loss/len(val_loader)}\")\n",
    "\n",
    "    if val_loss < best_loss:\n",
    "        best_loss = val_loss\n",
    "        torch.save(model.state_dict(), 'best_model.pth')"
   ]
  },
  {
   "cell_type": "markdown",
   "id": "142ff3fe",
   "metadata": {},
   "source": [
    "### **Testing the model**"
   ]
  },
  {
   "cell_type": "code",
   "execution_count": 90,
   "id": "98256ca0",
   "metadata": {},
   "outputs": [
    {
     "data": {
      "text/plain": [
       "<All keys matched successfully>"
      ]
     },
     "execution_count": 90,
     "metadata": {},
     "output_type": "execute_result"
    }
   ],
   "source": [
    "model.load_state_dict(torch.load('best_model.pth'))"
   ]
  },
  {
   "cell_type": "code",
   "execution_count": 91,
   "id": "12c1ef8d",
   "metadata": {},
   "outputs": [],
   "source": [
    "def classify_new_image(img_path, model, transform, label_dict):\n",
    "    model.eval()\n",
    "\n",
    "    image = Image.open(img_path).convert('RGB')\n",
    "    image = transform(image).unsqueeze(0)\n",
    "\n",
    "    with torch.no_grad():\n",
    "        output = model(image)\n",
    "        probabilities = torch.nn.functional.softmax(output, dim=1)\n",
    "        confidence, predicted_class = torch.max(probabilities, dim=1)\n",
    "\n",
    "    predicted_label = list(label_dict.keys())[list(label_dict.values()).index(predicted_class.item())]\n",
    "    print(f\"Predicted: {predicted_label} (Confidence: {confidence.item()*100:.2f}%)\")\n",
    "    return predicted_label"
   ]
  },
  {
   "cell_type": "code",
   "execution_count": 92,
   "id": "c0236e97",
   "metadata": {},
   "outputs": [
    {
     "name": "stdout",
     "output_type": "stream",
     "text": [
      "Predicted: Donald Trump (Confidence: 99.99%)\n"
     ]
    },
    {
     "data": {
      "text/plain": [
       "'Donald Trump'"
      ]
     },
     "execution_count": 92,
     "metadata": {},
     "output_type": "execute_result"
    }
   ],
   "source": [
    "test_image_path = './test_images/Trump.png'\n",
    "classify_new_image(test_image_path, model, transform, label_dict)"
   ]
  },
  {
   "cell_type": "code",
   "execution_count": 95,
   "id": "5aa67c51",
   "metadata": {},
   "outputs": [
    {
     "name": "stdout",
     "output_type": "stream",
     "text": [
      "Predicted: Vladimir Putin (Confidence: 66.13%)\n"
     ]
    },
    {
     "data": {
      "text/plain": [
       "'Vladimir Putin'"
      ]
     },
     "execution_count": 95,
     "metadata": {},
     "output_type": "execute_result"
    }
   ],
   "source": [
    "test_image_path = './test_images/Putin.png'\n",
    "classify_new_image(test_image_path, model, transform, label_dict)"
   ]
  },
  {
   "cell_type": "code",
   "execution_count": 98,
   "id": "f25fa71d",
   "metadata": {},
   "outputs": [
    {
     "name": "stdout",
     "output_type": "stream",
     "text": [
      "Predicted: Justin Trudeau (Confidence: 71.14%)\n"
     ]
    },
    {
     "data": {
      "text/plain": [
       "'Justin Trudeau'"
      ]
     },
     "execution_count": 98,
     "metadata": {},
     "output_type": "execute_result"
    }
   ],
   "source": [
    "test_image_path = './test_images/Trudeau.png'\n",
    "classify_new_image(test_image_path, model, transform, label_dict)"
   ]
  }
 ],
 "metadata": {
  "kernelspec": {
   "display_name": "image-classification",
   "language": "python",
   "name": "python3"
  },
  "language_info": {
   "codemirror_mode": {
    "name": "ipython",
    "version": 3
   },
   "file_extension": ".py",
   "mimetype": "text/x-python",
   "name": "python",
   "nbconvert_exporter": "python",
   "pygments_lexer": "ipython3",
   "version": "3.12.9"
  }
 },
 "nbformat": 4,
 "nbformat_minor": 5
}
